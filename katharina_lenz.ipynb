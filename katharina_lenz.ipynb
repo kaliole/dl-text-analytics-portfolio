{
  "cells": [
    {
      "cell_type": "markdown",
      "metadata": {
        "id": "view-in-github",
        "colab_type": "text"
      },
      "source": [
        "<a href=\"https://colab.research.google.com/github/kaliole/dl-text-analytics-portfolio/blob/main/katharina_lenz.ipynb\" target=\"_parent\"><img src=\"https://colab.research.google.com/assets/colab-badge.svg\" alt=\"Open In Colab\"/></a>"
      ]
    },
    {
      "cell_type": "code",
      "source": [
        "!python --version"
      ],
      "metadata": {
        "colab": {
          "base_uri": "https://localhost:8080/"
        },
        "id": "FhGVjWoAuyCK",
        "outputId": "f4e1d086-73dc-42fc-da19-b5e1e151267f"
      },
      "execution_count": null,
      "outputs": [
        {
          "output_type": "stream",
          "name": "stdout",
          "text": [
            "Python 3.10.12\n"
          ]
        }
      ]
    },
    {
      "cell_type": "markdown",
      "metadata": {
        "id": "E_qKzwcgKLs5"
      },
      "source": [
        "# Portfolio\n"
      ]
    },
    {
      "cell_type": "markdown",
      "metadata": {
        "id": "ZhCc2xQ6a-4u"
      },
      "source": [
        "This notebook demonstrates the application of various deep learning techniques and text analytics on a dataset of Crypto-related tweets. The notebook covers data preprocessing, building and training transformer models, and evaluating the models' performance.\n"
      ]
    },
    {
      "cell_type": "markdown",
      "metadata": {
        "id": "T4anUHyOKQ5O"
      },
      "source": [
        "### Data Loading & importing packages"
      ]
    },
    {
      "cell_type": "code",
      "execution_count": null,
      "metadata": {
        "id": "cPF22NmZKPfH"
      },
      "outputs": [],
      "source": [
        "# Import necessary packages\n",
        "from google.colab import drive  # To mount Google Drive for data access\n",
        "import pandas as pd  # For data manipulation and analysis\n",
        "from sklearn.model_selection import train_test_split  # To split the dataset into training and test sets\n",
        "import tensorflow as tf  # For building and training deep learning models\n",
        "import re  # For regular expressions used in text preprocessing\n",
        "import string  # For string operations\n",
        "from tensorflow.keras.layers import TextVectorization  # For vectorizing text data\n",
        "from tensorflow.keras.metrics import Precision, Recall, AUC  # For evaluating model performance\n",
        "import  numpy as np  # For numerical operations\n",
        "import matplotlib.pyplot as plt  # For creating visualizations\n"
      ]
    },
    {
      "cell_type": "code",
      "execution_count": null,
      "metadata": {
        "colab": {
          "base_uri": "https://localhost:8080/"
        },
        "id": "wIK2uOKIKwGn",
        "outputId": "9cd3211a-4471-437c-f2b6-0e5d2e188497"
      },
      "outputs": [
        {
          "output_type": "stream",
          "name": "stdout",
          "text": [
            "Mounted at /content/drive\n"
          ]
        }
      ],
      "source": [
        "# Mount Google Drive to access datasets stored in the drive\n",
        "drive.mount('/content/drive')\n",
        "#!ls -al\n",
        "# Define file paths for the training and testing datasets\n",
        "test_file_path =  \"/content/drive/MyDrive/Colab Notebooks/DELTA/Portfolio/btc_tweets_test.parquet.gzip\"\n",
        "train_file_path =  \"/content/drive/MyDrive/Colab Notebooks/DELTA/Portfolio/btc_tweets_train.parquet.gzip\"\n",
        "\n",
        "\n"
      ]
    },
    {
      "cell_type": "code",
      "execution_count": null,
      "metadata": {
        "id": "AM91NG9yDOZR"
      },
      "outputs": [],
      "source": [
        "def load_data(path):\n",
        "  \"\"\"\n",
        "    Loads the dataset from the given path and preprocesses it.\n",
        "\n",
        "    This function:\n",
        "    - Reads the dataset from a parquet file.\n",
        "    - Converts the 'sentiment' column to binary values (1 for True, 0 for False).\n",
        "    - Selects the 'content' and 'sentiment' columns for further analysis.\n",
        "\n",
        "    Args:\n",
        "        path (str): The file path to the dataset.\n",
        "\n",
        "    Returns:\n",
        "        pd.DataFrame: A DataFrame containing the 'content' and 'sentiment' columns.\n",
        "    \"\"\"\n",
        "\n",
        "  data_df = pd.read_parquet(path)\n",
        "  data_df['sentiment'] = data_df['sentiment'].map({True : 1, False: 0})\n",
        "  result_data = data_df.loc[:,['content', 'sentiment']]\n",
        "\n",
        "  # Uncomment the lines below for debugging and to preview the data\n",
        "  # print(result_data.head())\n",
        "  # print(result_data.shape)\n",
        "\n",
        "  return result_data"
      ]
    },
    {
      "cell_type": "code",
      "execution_count": null,
      "metadata": {
        "id": "jiRtZNa-civ6"
      },
      "outputs": [],
      "source": [
        "train_df = load_data(train_file_path)\n",
        "test_df = load_data(test_file_path)"
      ]
    },
    {
      "cell_type": "markdown",
      "metadata": {
        "id": "qkpRI_8RC9tX"
      },
      "source": [
        "###Data Exploration"
      ]
    },
    {
      "cell_type": "markdown",
      "metadata": {
        "id": "Wruk4lW2CkJN"
      },
      "source": [
        "#####Class Imbalance"
      ]
    },
    {
      "cell_type": "code",
      "execution_count": null,
      "metadata": {
        "id": "J1hozLBmXyuD"
      },
      "outputs": [],
      "source": [
        "# Function to visualize and print class imbalance in the dataset\n",
        "\n",
        "def class_imbalance(train_df, test_df):\n",
        "  \"\"\"\n",
        "    Analyzes and visualizes the class imbalance in the training dataset.\n",
        "\n",
        "    This function:\n",
        "    - Counts the number of positive and negative samples in the training dataset.\n",
        "    - Calculates the percentage of positive and negative samples.\n",
        "    - Visualizes the class distribution as a pie chart.\n",
        "    - Prints the percentage of positive and negative samples.\n",
        "\n",
        "    Parameters:\n",
        "    train_df (DataFrame): The training dataset containing a 'sentiment' column with class labels.\n",
        "    test_df (DataFrame): The test dataset (not used in this function but kept for consistency).\n",
        "\n",
        "    Returns:\n",
        "    None\n",
        "    \"\"\"\n",
        "\n",
        "  # Count the number of positive and negative samples in the training dataset\n",
        "  positive_count = train_df['sentiment'].value_counts()[1]  # Assuming 1 is the label for positive\n",
        "  negative_count = train_df['sentiment'].value_counts()[0]  # Assuming 0 is the label for negative\n",
        "\n",
        "  # Total number of samples in the training dataset\n",
        "  total_count = len(train_df)\n",
        "\n",
        "  # Calculate percentages\n",
        "  positive_percentage = (positive_count / total_count) * 100\n",
        "  negative_percentage = (negative_count / total_count) * 100\n",
        "\n",
        "  # Create an array for the counts to visualize in a pie chart\n",
        "  y = np.array([positive_count,negative_count])\n",
        "  mylabels = ['Positive','Negative']\n",
        "  plt.pie(y,labels=mylabels,autopct='%.2f')\n",
        "  plt.show()\n",
        "  # Print the percentage results\n",
        "  print(f\"Positive: {positive_percentage:.2f}%\")\n",
        "  print(f\"Negative: {negative_percentage:.2f}%\")"
      ]
    },
    {
      "cell_type": "code",
      "execution_count": null,
      "metadata": {
        "colab": {
          "base_uri": "https://localhost:8080/",
          "height": 441
        },
        "id": "FrMYFP3qdBQO",
        "outputId": "2af80875-e548-4fa6-bdac-92697fd4c699"
      },
      "outputs": [
        {
          "output_type": "display_data",
          "data": {
            "text/plain": [
              "<Figure size 640x480 with 1 Axes>"
            ],
            "image/png": "[encoded data removed]"
          },
          "metadata": {}
        },
        {
          "output_type": "stream",
          "name": "stdout",
          "text": [
            "Positive: 81.33%\n",
            "Negative: 18.67%\n"
          ]
        }
      ],
      "source": [
        "class_imbalance(train_df, test_df)"
      ]
    },
    {
      "cell_type": "markdown",
      "metadata": {
        "id": "dIV-3V2MYAiZ"
      },
      "source": [
        "We can see that there is class imbalance that will affect the accuracy of the prediction. This will likely cause the model to be biased towards preciting class 1 (positive sentiment). Further in the Notebook we will address this Class Imbalance, to avoid this bias."
      ]
    },
    {
      "cell_type": "markdown",
      "metadata": {
        "id": "b_XNDrL0pTWV"
      },
      "source": [
        "### Data Preprocessing\n"
      ]
    },
    {
      "cell_type": "code",
      "execution_count": null,
      "metadata": {
        "id": "2Z4srufXFwKD",
        "colab": {
          "base_uri": "https://localhost:8080/"
        },
        "outputId": "56a124d3-05aa-49e8-b539-10ca541bd977"
      },
      "outputs": [
        {
          "output_type": "stream",
          "name": "stdout",
          "text": [
            "\u001b[?25l   \u001b[90m━━━━━━━━━━━━━━━━━━━━━━━━━━━━━━━━━━━━━━━━\u001b[0m \u001b[32m0.0/61.5 kB\u001b[0m \u001b[31m?\u001b[0m eta \u001b[36m-:--:--\u001b[0m\r\u001b[2K   \u001b[90m━━━━━━━━━━━━━━━━━━━━━━━━━━━━━━━━━━━━━━━━\u001b[0m \u001b[32m61.5/61.5 kB\u001b[0m \u001b[31m1.7 MB/s\u001b[0m eta \u001b[36m0:00:00\u001b[0m\n",
            "\u001b[?25h"
          ]
        }
      ],
      "source": [
        "# Import necessary packages\n",
        "!pip install emot -qq\n",
        "import re\n",
        "from emot.emo_unicode import UNICODE_EMOJI, EMOTICONS_EMO\n"
      ]
    },
    {
      "cell_type": "code",
      "source": [
        "def split_data(data):\n",
        "\n",
        "  \"\"\"\n",
        "    Splits the dataset into training and validation sets.\n",
        "\n",
        "    This function:\n",
        "    - Splits the 'content' and 'sentiment' columns into training and validation datasets.\n",
        "    - Uses an 80-20 split for training and validation.\n",
        "    - Ensures reproducibility with a fixed random state.\n",
        "\n",
        "    Parameters:\n",
        "    data (pd.DataFrame): The input dataset containing 'content' and 'sentiment' columns.\n",
        "\n",
        "    Returns:\n",
        "    tuple: Four elements are returned:\n",
        "        - X_train (pd.Series): Training data for 'content'.\n",
        "        - X_val (pd.Series): Validation data for 'content'.\n",
        "        - y_train (pd.Series): Training labels for 'sentiment'.\n",
        "        - y_val (pd.Series): Validation labels for 'sentiment'.\n",
        "    \"\"\"\n",
        "\n",
        "  X_train, X_val, y_train, y_val = train_test_split(data['content'], data['sentiment'], test_size = 0.2, random_state = 5)\n",
        "\n",
        "  return X_train, X_val, y_train, y_val\n"
      ],
      "metadata": {
        "id": "n2fLHzzdwtWC"
      },
      "execution_count": null,
      "outputs": []
    },
    {
      "cell_type": "markdown",
      "source": [
        "The preprocess_text function removes all text parts that are not necessary for the analysis, as they do not provide any information about the sentiment of the tweet. This includes HTML tags, Twitter handles and URLs, as they either represent metadata of the X (former Twitter) data or do not allow any conclusions to be drawn about the sentiment of the tweet. Hashtags are also removed as they are mainly used to indicate the topic of the tweet (#bitcoin or #crypto) and not the sentiment. Emojis, on the other hand, are used to represent emotions and can be a valuable tool for analysing sentiment. All emojis known to the emot library are converted to their textual representation (using the convertig_emojis function) so that their sentiment can be learnt from the models. Other emojis that are not known to the library and are represented in Unicode are deleted, as are all other unnecessary Unicode selectors.\n",
        "\n"
      ],
      "metadata": {
        "id": "l7krEqGvstcs"
      }
    },
    {
      "cell_type": "code",
      "execution_count": null,
      "metadata": {
        "id": "4iDX1WfUo5Xu"
      },
      "outputs": [],
      "source": [
        "def converting_emojis(text):\n",
        "  \"\"\"\n",
        "    Converts emojis in the input text to their textual representation.\n",
        "\n",
        "    This function:\n",
        "    - Iterates over each emoji in the text.\n",
        "    - Replaces the emoji with its corresponding textual description, with underscores replacing spaces.\n",
        "    - Adds spaces around the text replacement to ensure it doesn't merge with surrounding words.\n",
        "\n",
        "    Parameters:\n",
        "    text (str): The input text containing emojis.\n",
        "\n",
        "    Returns:\n",
        "    str: The text with emojis converted to their textual representation.\n",
        "    \"\"\"\n",
        "\n",
        "  for emot in UNICODE_EMOJI:\n",
        "    if emot in text:\n",
        "            # Convert the emoji to its textual description with underscores\n",
        "            emoji_text = \" \" + \"_\".join(UNICODE_EMOJI[emot].replace(\",\", \"\").replace(\":\", \"\").split()) + \" \"\n",
        "            text = text.replace(emot, emoji_text)\n",
        "  return text\n",
        "\n",
        "\n",
        "\n",
        "def preprocess_text(text):\n",
        "    \"\"\"\n",
        "    Preprocesses the input text by performing the following operations:\n",
        "    - Removes Unicode variation selectors that are unnecessary.\n",
        "    - Converts emojis to their textual representations using the converting_emojis function.\n",
        "    - Converts all characters to lowercase.\n",
        "    - Removes HTML tags, hashtags, Twitter handles, URLs, backslashes, and punctuation.\n",
        "    - Reduces multiple spaces to a single space.\n",
        "\n",
        "    Parameters:\n",
        "    text (str): The input text string to preprocess.\n",
        "\n",
        "    Returns:\n",
        "    str: The cleaned and preprocessed text.\n",
        "    \"\"\"\n",
        "\n",
        "    text = re.sub(u'\\uFE0F', '', text)\n",
        "    text = converting_emojis(text)\n",
        "    text = text.lower()  # Convert to lowercase\n",
        "    text = re.sub('<br />', ' ', text)  # Remove HTML\n",
        "    text = re.sub(r'#\\S+', ' ', text)  # Remove hashtags\n",
        "    text = re.sub(r'@\\S+', ' ', text)  # Remove Twitter handles\n",
        "    text = re.sub(r'https?[^\\s/$.?#].[^\\s]*', ' ', text)  # Remove URLs\n",
        "    text = re.sub(r'\\\\\\S*', ' ', text)  # Replace backslashes and following characters\n",
        "    text = re.sub(r'[%s]' % re.escape(string.punctuation), '', text)  # Remove punctuation\n",
        "    text = re.sub(r'\\s+', ' ', text)  # Remove double spaces\n",
        "    return text\n",
        "\n",
        "\n",
        "def custom_standardization(input_text):\n",
        "    \"\"\"\n",
        "    Applies a custom standardization to the input text.\n",
        "\n",
        "    This function:\n",
        "    - Converts all characters in the input text to lowercase.\n",
        "    - Assumes that more complex text preprocessing steps have already been handled, making this step simple.\n",
        "\n",
        "    Parameters:\n",
        "    input_text (tf.Tensor): A TensorFlow string tensor representing the input text.\n",
        "\n",
        "    Returns:\n",
        "    tf.Tensor: A TensorFlow string tensor with all characters converted to lowercase.\n",
        "    \"\"\"\n",
        "\n",
        "    return tf.strings.lower(input_text)\n",
        "\n",
        "\n"
      ]
    },
    {
      "cell_type": "code",
      "execution_count": null,
      "metadata": {
        "id": "4BWX0DmTDfjm"
      },
      "outputs": [],
      "source": [
        "# Vectorized Layer Setup\n",
        "\n",
        "\n",
        "# Define the size of the vocabulary and the maximum number of words in a sequence\n",
        "vocab_size = 10000 # Limit the vocabulary to the 10,000 most frequent words\n",
        "seq_length = 100 # Limit the sequence length to 100 words\n",
        "\n",
        "\n",
        "# Create a vectorization layer\n",
        "# The TextVectorization layer will convert text to sequences of integers, where each integer represents a word in the vocabulary\n",
        "vectorize_layer = TextVectorization(\n",
        "    standardize=custom_standardization,  # Apply custom standardization (e.g., lowercase conversion)\n",
        "    max_tokens=vocab_size,  # Limit the vocabulary to the top 10,000 words\n",
        "    output_sequence_length=seq_length  # Limit the sequence length to 100 words\n",
        ")\n",
        "\n",
        "\n"
      ]
    },
    {
      "cell_type": "code",
      "execution_count": null,
      "metadata": {
        "id": "KcSMd2DtxSBy"
      },
      "outputs": [],
      "source": [
        "# Apply Data preprocessing\n",
        "\n",
        "#Split the data into training, validationa and test sets\n",
        "X_train, X_val, y_train, y_val = split_data(train_df)# Split the training data into training and validation sets\n",
        "X_test = test_df['content'] # Extract the content column for the test set\n",
        "y_test = test_df['sentiment'] # Extract the sentiment labels for the test set\n",
        "\n",
        "#for row in X_train:\n",
        "#  print(preprocess_text(row))\n",
        "\n",
        "# Apply preprocessing to each dataset\n",
        "X_train_prep = X_train.apply(preprocess_text)\n",
        "X_val_prep = X_val.apply(preprocess_text)\n",
        "X_test_prep = X_test.apply(preprocess_text)\n",
        "\n",
        "\n",
        "# Adapt the vectorization layer to the training data\n",
        "vectorize_layer.adapt(X_train_prep)\n",
        "\n",
        "# Retrieve computed vocabulary and store it\n",
        "vocab = vectorize_layer.get_vocabulary()\n",
        "\n",
        "# Transform sequences of words to sequences of integers and convert labels to tensors\n",
        "X_train_vec = vectorize_layer(X_train)\n",
        "y_train = tf.convert_to_tensor(y_train)\n",
        "\n",
        "X_val_vec = vectorize_layer(X_val)\n",
        "y_val = tf.convert_to_tensor(y_val)\n",
        "\n",
        "X_test_vec = vectorize_layer(X_test)\n",
        "y_test = tf.convert_to_tensor(y_test)"
      ]
    },
    {
      "cell_type": "markdown",
      "metadata": {
        "id": "5bsNFJMbmPGE"
      },
      "source": [
        "###VADER\n",
        "\n",
        "\n"
      ]
    },
    {
      "cell_type": "markdown",
      "metadata": {
        "id": "WlLNpOK27eTg"
      },
      "source": [
        "When it comes to analyzing sentiment in Bitcoin-related tweets, VADER is a good choice because it’s specifically designed to handle informal, short, and emotive language that’s common on social media. Unlike other tools like PySentiment or TextBlob, VADER is better at picking up on the nuances of tweets, such as sarcasm, slang, and even the intensity of sentiment (how strongly positive or negative a tweet is). Overall, VADER’s design makes it more effective for social media data, helping us get more accurate and meaningful insights from the sentiment analysis of tweets.\n",
        "\n"
      ]
    },
    {
      "cell_type": "code",
      "execution_count": null,
      "metadata": {
        "colab": {
          "base_uri": "https://localhost:8080/"
        },
        "id": "u9s8c3fzS1B4",
        "outputId": "3b8a93bc-2459-4762-97ba-13c5f6b71f20"
      },
      "outputs": [
        {
          "output_type": "stream",
          "name": "stdout",
          "text": [
            "\u001b[?25l   \u001b[90m━━━━━━━━━━━━━━━━━━━━━━━━━━━━━━━━━━━━━━━━\u001b[0m \u001b[32m0.0/126.0 kB\u001b[0m \u001b[31m?\u001b[0m eta \u001b[36m-:--:--\u001b[0m\r\u001b[2K   \u001b[91m━━━━━━━━━━━━━━━━━━━━━━━━━━━━━━━━━━━━━━━\u001b[0m\u001b[90m╺\u001b[0m \u001b[32m122.9/126.0 kB\u001b[0m \u001b[31m4.2 MB/s\u001b[0m eta \u001b[36m0:00:01\u001b[0m\r\u001b[2K   \u001b[90m━━━━━━━━━━━━━━━━━━━━━━━━━━━━━━━━━━━━━━━━\u001b[0m \u001b[32m126.0/126.0 kB\u001b[0m \u001b[31m3.3 MB/s\u001b[0m eta \u001b[36m0:00:00\u001b[0m\n",
            "\u001b[?25h"
          ]
        }
      ],
      "source": [
        "# Install and Import the VADER Sentiment Analysis Library\n",
        "!pip install vaderSentiment -qq\n",
        "from vaderSentiment.vaderSentiment import SentimentIntensityAnalyzer"
      ]
    },
    {
      "cell_type": "code",
      "execution_count": null,
      "metadata": {
        "id": "1xp9DJL0S05M"
      },
      "outputs": [],
      "source": [
        "# Function to perform VADER sentiment analysis and convert results to binary labels\n",
        "\n",
        "def vader_sentiment_analysis(text_data, threshold=0.05):\n",
        "    \"\"\"\n",
        "    Performs VADER sentiment analysis on a list of text data and converts the results into binary labels.\n",
        "\n",
        "    This function:\n",
        "    - Analyzes the sentiment of each text using VADER's polarity_scores method.\n",
        "    - Converts the compound sentiment score to binary labels based on a specified threshold.\n",
        "    - Stores the analysis results and binary labels in a DataFrame.\n",
        "\n",
        "    Parameters:\n",
        "    text_data (list or pd.Series): The text data to analyze.\n",
        "    threshold (float): The threshold above which a compound score is considered positive sentiment (default is 0.05).\n",
        "\n",
        "    Returns:\n",
        "    pd.DataFrame: A DataFrame containing the VADER analysis results and binary labels.\n",
        "    \"\"\"\n",
        "\n",
        "    analyzer = SentimentIntensityAnalyzer()  # Initialize the VADER sentiment analyzer\n",
        "    vader_outputs = []  # Initialize a list to store the sentiment analysis outputs\n",
        "\n",
        "    for content in text_data:  # Iterate over each piece of content\n",
        "        vader_outputs.append(analyzer.polarity_scores(content))  # Analyze the sentiment and append the result\n",
        "\n",
        "    # Convert the list of VADER outputs to a DataFrame\n",
        "    vader_df = pd.DataFrame(vader_outputs)\n",
        "\n",
        "    # Convert the compound score to binary labels based on the threshold\n",
        "    vader_df['binary_label'] = vader_df['compound'].apply(lambda x: 1 if x > threshold else 0)\n",
        "\n",
        "    return vader_df\n",
        "\n"
      ]
    },
    {
      "cell_type": "code",
      "execution_count": null,
      "metadata": {
        "colab": {
          "base_uri": "https://localhost:8080/"
        },
        "id": "oOYhfL6SgsDr",
        "outputId": "8ca64ca9-7487-45c0-f445-c84938c2a5cf"
      },
      "outputs": [
        {
          "output_type": "stream",
          "name": "stdout",
          "text": [
            "0      1\n",
            "1      0\n",
            "2      1\n",
            "3      0\n",
            "4      0\n",
            "      ..\n",
            "495    1\n",
            "496    1\n",
            "497    1\n",
            "498    1\n",
            "499    1\n",
            "Name: binary_label, Length: 500, dtype: int64\n"
          ]
        }
      ],
      "source": [
        "# Perform VADER sentiment analysis on the test set\n",
        "vader_results = vader_sentiment_analysis(X_test)\n",
        "\n",
        "# Extract the binary predictions\n",
        "pred_vader = vader_results['binary_label']\n",
        "\n",
        "# Print the binary predictions for review\n",
        "print(pred_vader)"
      ]
    },
    {
      "cell_type": "markdown",
      "metadata": {
        "id": "bykDfrln6O9v"
      },
      "source": [
        "###RNN-base language classifier in keras\n"
      ]
    },
    {
      "cell_type": "code",
      "execution_count": null,
      "metadata": {
        "id": "bgbmsAEpcV5L",
        "colab": {
          "base_uri": "https://localhost:8080/"
        },
        "outputId": "67d5df02-cddc-4ceb-a6e9-6d96891b497f"
      },
      "outputs": [
        {
          "output_type": "stream",
          "name": "stdout",
          "text": [
            "\u001b[?25l   \u001b[90m━━━━━━━━━━━━━━━━━━━━━━━━━━━━━━━━━━━━━━━━\u001b[0m \u001b[32m0.0/362.8 kB\u001b[0m \u001b[31m?\u001b[0m eta \u001b[36m-:--:--\u001b[0m\r\u001b[2K   \u001b[91m━━━━━━━━━━━━━━\u001b[0m\u001b[91m╸\u001b[0m\u001b[90m━━━━━━━━━━━━━━━━━━━━━━━━━\u001b[0m \u001b[32m133.1/362.8 kB\u001b[0m \u001b[31m3.7 MB/s\u001b[0m eta \u001b[36m0:00:01\u001b[0m\r\u001b[2K   \u001b[90m━━━━━━━━━━━━━━━━━━━━━━━━━━━━━━━━━━━━━━━━\u001b[0m \u001b[32m362.8/362.8 kB\u001b[0m \u001b[31m6.0 MB/s\u001b[0m eta \u001b[36m0:00:00\u001b[0m\n",
            "\u001b[2K   \u001b[90m━━━━━━━━━━━━━━━━━━━━━━━━━━━━━━━━━━━━━━━━\u001b[0m \u001b[32m233.0/233.0 kB\u001b[0m \u001b[31m17.8 MB/s\u001b[0m eta \u001b[36m0:00:00\u001b[0m\n",
            "\u001b[2K   \u001b[90m━━━━━━━━━━━━━━━━━━━━━━━━━━━━━━━━━━━━━━━━\u001b[0m \u001b[32m78.6/78.6 kB\u001b[0m \u001b[31m7.2 MB/s\u001b[0m eta \u001b[36m0:00:00\u001b[0m\n",
            "\u001b[?25h"
          ]
        }
      ],
      "source": [
        "# Import necessary libraries for building, training, and optimizing the RNN model\n",
        "\n",
        "import tensorflow as tf\n",
        "from tensorflow.keras.layers import Embedding, GRU, Dense, Dropout, Bidirectional\n",
        "from tensorflow.keras.models import Model, load_model\n",
        "from tensorflow.keras.callbacks import EarlyStopping, ReduceLROnPlateau, ModelCheckpoint\n",
        "from tensorflow.keras.regularizers import l2\n",
        "from sklearn.utils.class_weight import compute_class_weight\n",
        "import matplotlib.pyplot as plt\n",
        "! pip install optuna -qq\n",
        "import optuna\n"
      ]
    },
    {
      "cell_type": "markdown",
      "metadata": {
        "id": "vIodA1m9GfqE"
      },
      "source": [
        "#####Adressing Class imbalance:"
      ]
    },
    {
      "cell_type": "code",
      "execution_count": null,
      "metadata": {
        "id": "-HQvi8hBaJVc"
      },
      "outputs": [],
      "source": [
        "def compute_class_weights(y_train):\n",
        "    \"\"\"\n",
        "    Computes class weights to address class imbalance in the training labels.\n",
        "\n",
        "    This function:\n",
        "    - Computes the class weights using the `compute_class_weight` function from scikit-learn.\n",
        "    - Maps the computed weights to their corresponding classes (0 and 1).\n",
        "\n",
        "    Parameters:\n",
        "    y_train (tf.Tensor): A tensor containing the training labels (0 and 1).\n",
        "\n",
        "    Returns:\n",
        "    dict: A dictionary with class weights mapped to classes {0: weight_for_class_0, 1: weight_for_class_1}.\n",
        "    \"\"\"\n",
        "\n",
        "    # Compute class weights based on the frequency of each class\n",
        "    class_weights = compute_class_weight(class_weight='balanced', classes=[0, 1], y=y_train.numpy())\n",
        "\n",
        "    # Map the class weights to their respective classes\n",
        "    class_weight_dict = {0: class_weights[0], 1: class_weights[1]}\n",
        "\n",
        "    return class_weight_dict\n"
      ]
    },
    {
      "cell_type": "code",
      "execution_count": null,
      "metadata": {
        "colab": {
          "base_uri": "https://localhost:8080/"
        },
        "id": "XZREaSrFhXCP",
        "outputId": "9198ea90-6897-4a35-a3f2-c9001bbb95d7"
      },
      "outputs": [
        {
          "output_type": "stream",
          "name": "stdout",
          "text": [
            "{0: 2.6666666666666665, 1: 0.6153846153846154}\n"
          ]
        }
      ],
      "source": [
        "# Compute class weights for the training labels\n",
        "class_weight = compute_class_weights(y_train)\n",
        "\n",
        "# Print the computed class weights for review\n",
        "print(class_weight)\n"
      ]
    },
    {
      "cell_type": "markdown",
      "metadata": {
        "id": "dwbkIbcthi77"
      },
      "source": [
        "Class 0 (1) is underrepresented (overrepresented) compared to class 1 (0). To address this imbalance, the model will give (less) more importance to instances of class 0 (1) during training. The weight of 2.665 (0.615) indicates that each instance of class 0 will be treated as if it's 2.665 (0.615) times as important than an instance of class 1 (0)."
      ]
    },
    {
      "cell_type": "markdown",
      "source": [
        "##### Additional RNN Components\n",
        "\n",
        "\n"
      ],
      "metadata": {
        "id": "aDbCKv1DtDWS"
      }
    },
    {
      "cell_type": "markdown",
      "source": [
        "\n",
        "I chose to use some Regularization techniques to  prevent overfitting, which is crucial when dealing with textual data that may vary significantly in style or content, like tweets.\n",
        "*   Dropout:\n",
        "    Prevents overfitting by randomly omitting neurons during training, which forces the model to learn redundant representations and be less reliant on any single feature or path.\n",
        "*   L2 Regularization:\n",
        "    Helps to prevent the model from learning excessively large weights, which can lead to overfitting. It adds a penalty on the magnitude of parameters.\n",
        "  \n",
        "Additionally I implemented Callbacks to facilitate monitoring my model's training, making adjustments and preventing overfitting.\n",
        "\n",
        "\n",
        "*   Early Stopping: Monitores the validation loss during training and stops the training process if the metric doesn't improve. This stops the training once the model hast stopped imrpving on the validation set.\n",
        "*   ReduceLROnPlateau: Reduces the learning rate when the validation loss has stopped improving. This allows the model to converge more slowly and potentially escape local minima as training progresses.\n"
      ],
      "metadata": {
        "id": "ws-TF2rQhJ_4"
      }
    },
    {
      "cell_type": "code",
      "execution_count": null,
      "metadata": {
        "id": "CXMkSu1G6S_g"
      },
      "outputs": [],
      "source": [
        "# Function to build and compile a GRU-based model for Bayesian optimization\n",
        "\n",
        "\n",
        "def create_model(trial):\n",
        "    \"\"\"\n",
        "    Builds and compiles a TensorFlow model using the hyperparameters suggested by Optuna for each trial.\n",
        "\n",
        "    This function:\n",
        "    - Defines the model architecture using a Bidirectional GRU layer, embedding layer, and dropout.\n",
        "    - Uses hyperparameters for embedding size, GRU units, dropout rate, and L2 regularization, all suggested by Optuna.\n",
        "    - Compiles the model with binary crossentropy loss and several evaluation metrics.\n",
        "\n",
        "    Parameters:\n",
        "    trial (optuna.Trial): A trial object from Optuna that suggests hyperparameters for the model.\n",
        "\n",
        "    Returns:\n",
        "    tf.keras.Model: A compiled TensorFlow model ready for training.\n",
        "    \"\"\"\n",
        "\n",
        "    # Hyperparameter suggestions from Optuna\n",
        "    emb_size = trial.suggest_categorical('emb_size', [32, 64, 128])\n",
        "    rnn_units = trial.suggest_categorical('rnn_units', [16, 32, 64])\n",
        "    dropout_rate = trial.suggest_uniform('dropout_rate', 0.3, 0.7)\n",
        "    l2_rate = trial.suggest_loguniform('l2_rate', 1e-4, 1e-1)\n",
        "\n",
        "    # Model architecture\n",
        "    input = tf.keras.Input(shape=(seq_length,), dtype=\"int64\")  # Input layer with sequence length\n",
        "    emb = Embedding(input_dim=vocab_size, output_dim=emb_size, mask_zero=True)(input)  # Embedding layer\n",
        "    x = Bidirectional(GRU(rnn_units, kernel_regularizer=tf.keras.regularizers.l2(l2_rate)))(emb)  # Bidirectional GRU layer with L2 regularization\n",
        "    x = Dropout(dropout_rate)(x)  # Dropout layer to prevent overfitting\n",
        "    output = Dense(1, activation=\"sigmoid\")(x)  # Output layer with sigmoid activation for binary classification\n",
        "\n",
        "    model = tf.keras.Model(inputs=input, outputs=output)  # Define the model\n",
        "\n",
        "    # Compile the model\n",
        "    model.compile(\n",
        "        loss='binary_crossentropy',\n",
        "        optimizer='rmsprop',\n",
        "        metrics=[\n",
        "              'accuracy',\n",
        "              Precision(name='precision'),\n",
        "              Recall(name='recall'),\n",
        "              AUC(name='auc')\n",
        "            ]\n",
        "    )\n",
        "    return model\n",
        "\n",
        "\n",
        "\n"
      ]
    },
    {
      "cell_type": "markdown",
      "metadata": {
        "id": "5LXPsWJHl1iQ"
      },
      "source": [
        "### Tuning Hyperparameters using Bayesian optimization\n"
      ]
    },
    {
      "cell_type": "markdown",
      "source": [
        "When it comes to tuning the hyperparameters of our model, Bayesian Optimization is a smart choice because it’s more efficient and effective than traditional methods like grid search or even cross-validation. Instead of just blindly trying out combinations of hyperparameters, Bayesian Optimization uses what it’s learned from previous trials to make informed guesses about what hyperparameters might work best next. This means it can find the optimal settings faster and with fewer trials, which is especially handy when training models can be time-consuming or computationally expensive. While cross-validation is great for evaluating model performance, Bayesian Optimization is more strategic in finding the best hyperparameters, saving us time and computational resources, while offering a good balance between efficiency and effectiveness when working with large datasets."
      ],
      "metadata": {
        "id": "khuNmdMgiB27"
      }
    },
    {
      "cell_type": "code",
      "execution_count": null,
      "metadata": {
        "id": "1D7slKh1l1M4"
      },
      "outputs": [],
      "source": [
        "\n",
        "# Objective function for Optuna to optimize the model's hyperparameters\n",
        "\n",
        "def objective(trial):\n",
        "    \"\"\"\n",
        "    Objective function for Optuna that builds, trains, and evaluates a GRU-based model\n",
        "    with hyperparameters suggested by the current Optuna trial.\n",
        "\n",
        "    This function:\n",
        "    - Calls `create_model(trial)` to build a model with hyperparameters from the trial.\n",
        "    - Trains the model using the training data and validates it on the validation data.\n",
        "    - Uses early stopping, learning rate reduction, and model checkpoint callbacks to improve training.\n",
        "    - Returns the validation loss, which Optuna aims to minimize.\n",
        "\n",
        "    Parameters:\n",
        "    trial (optuna.Trial): A trial object from Optuna that suggests hyperparameters for the model.\n",
        "\n",
        "    Returns:\n",
        "    float: The validation loss of the model, which is the objective metric for Optuna.\n",
        "    \"\"\"\n",
        "\n",
        "    # Create model with the current trial's hyperparameters\n",
        "    model = create_model(trial)\n",
        "\n",
        "    # Define callbacks\n",
        "    early_stopping = EarlyStopping(monitor='val_loss', patience=2, restore_best_weights=True)\n",
        "    reduce_lr = ReduceLROnPlateau(factor=0.1, min_lr=0.01, monitor='val_loss', verbose=1)\n",
        "    checkpoint_filepath = f'model_trial_{trial.number}.keras'\n",
        "    checkpoint = ModelCheckpoint(checkpoint_filepath, monitor='val_auc', verbose=1, save_best_only=True, mode='max')\n",
        "\n",
        "    # Train the model\n",
        "    history = model.fit(\n",
        "        X_train_vec, y_train,\n",
        "        validation_data=(X_val_vec, y_val),\n",
        "        epochs=2,  # Number of epochs to train; can be adjusted based on trial results\n",
        "        batch_size=128,  # Batch size for training\n",
        "        callbacks=[early_stopping, reduce_lr, checkpoint],\n",
        "        class_weight=class_weight  # Address class imbalance with class weights\n",
        "    )\n",
        "\n",
        "    # Evaluate the model on the validation set\n",
        "    results = model.evaluate(X_val_vec, y_val)\n",
        "    val_loss, val_accuracy, val_precision, val_recall, val_auc = results\n",
        "\n",
        "    # Print evaluation metrics\n",
        "    print(f'Validation Loss: {val_loss}')\n",
        "    print(f'Validation Accuracy: {val_accuracy}')\n",
        "    print(f'Validation Precision: {val_precision}')\n",
        "    print(f'Validation Recall: {val_recall}')\n",
        "    print(f'Validation AUC: {val_auc}')\n",
        "\n",
        "    # Optional: Plot training history for this trial\n",
        "    # plot_training_history(history)  # Uncomment to plot during the study\n",
        "\n",
        "    return val_loss  # Optuna will try to minimize this value\n",
        "\n"
      ]
    },
    {
      "cell_type": "code",
      "execution_count": null,
      "metadata": {
        "colab": {
          "base_uri": "https://localhost:8080/"
        },
        "id": "vNOYXLmpkWrW",
        "outputId": "db7ac346-6e02-48dc-85d6-da85cc0d802e"
      },
      "outputs": [
        {
          "output_type": "stream",
          "name": "stderr",
          "text": [
            "[I 2024-09-13 06:39:37,053] A new study created in memory with name: no-name-6d0f4a4c-d77f-4214-9478-cdef6d9afac1\n"
          ]
        },
        {
          "output_type": "stream",
          "name": "stdout",
          "text": [
            "Epoch 1/2\n"
          ]
        },
        {
          "output_type": "stream",
          "name": "stderr",
          "text": [
            "<ipython-input-17-54d2c47b3fab>:23: FutureWarning: suggest_uniform has been deprecated in v3.0.0. This feature will be removed in v6.0.0. See https://github.com/optuna/optuna/releases/tag/v3.0.0. Use suggest_float instead.\n",
            "  dropout_rate = trial.suggest_uniform('dropout_rate', 0.3, 0.7)\n",
            "<ipython-input-17-54d2c47b3fab>:24: FutureWarning: suggest_loguniform has been deprecated in v3.0.0. This feature will be removed in v6.0.0. See https://github.com/optuna/optuna/releases/tag/v3.0.0. Use suggest_float(..., log=True) instead.\n",
            "  l2_rate = trial.suggest_loguniform('l2_rate', 1e-4, 1e-1)\n"
          ]
        },
        {
          "output_type": "stream",
          "name": "stdout",
          "text": [
            "\u001b[1m 9/10\u001b[0m \u001b[32m━━━━━━━━━━━━━━━━━━\u001b[0m\u001b[37m━━\u001b[0m \u001b[1m0s\u001b[0m 14ms/step - accuracy: 0.4276 - auc: 0.5006 - loss: 1.0387 - precision: 0.7948 - recall: 0.3932\n",
            "Epoch 1: val_auc improved from -inf to 0.63907, saving model to model_trial_0.keras\n",
            "\u001b[1m10/10\u001b[0m \u001b[32m━━━━━━━━━━━━━━━━━━━━\u001b[0m\u001b[37m\u001b[0m \u001b[1m7s\u001b[0m 90ms/step - accuracy: 0.4193 - auc: 0.5027 - loss: 1.0346 - precision: 0.7962 - recall: 0.3793 - val_accuracy: 0.8000 - val_auc: 0.6391 - val_loss: 0.9699 - val_precision: 0.8136 - val_recall: 0.9796 - learning_rate: 0.0010\n",
            "Epoch 2/2\n",
            "\u001b[1m10/10\u001b[0m \u001b[32m━━━━━━━━━━━━━━━━━━━━\u001b[0m\u001b[37m\u001b[0m \u001b[1m0s\u001b[0m 12ms/step - accuracy: 0.7844 - auc: 0.6202 - loss: 0.9665 - precision: 0.8358 - recall: 0.9158\n",
            "Epoch 2: val_auc improved from 0.63907 to 0.66156, saving model to model_trial_0.keras\n",
            "\u001b[1m10/10\u001b[0m \u001b[32m━━━━━━━━━━━━━━━━━━━━\u001b[0m\u001b[37m\u001b[0m \u001b[1m0s\u001b[0m 23ms/step - accuracy: 0.7825 - auc: 0.6202 - loss: 0.9663 - precision: 0.8359 - recall: 0.9126 - val_accuracy: 0.8100 - val_auc: 0.6616 - val_loss: 0.9134 - val_precision: 0.8154 - val_recall: 0.9918 - learning_rate: 0.0010\n",
            "\u001b[1m10/10\u001b[0m \u001b[32m━━━━━━━━━━━━━━━━━━━━\u001b[0m\u001b[37m\u001b[0m \u001b[1m0s\u001b[0m 5ms/step - accuracy: 0.8114 - auc: 0.6522 - loss: 0.9133 - precision: 0.8184 - recall: 0.9896 \n"
          ]
        },
        {
          "output_type": "stream",
          "name": "stderr",
          "text": [
            "[I 2024-09-13 06:39:44,107] Trial 0 finished with value: 0.913389265537262 and parameters: {'emb_size': 64, 'rnn_units': 32, 'dropout_rate': 0.4850300100921041, 'l2_rate': 0.0023156084032676908}. Best is trial 0 with value: 0.913389265537262.\n"
          ]
        },
        {
          "output_type": "stream",
          "name": "stdout",
          "text": [
            "Validation Loss: 0.913389265537262\n",
            "Validation Accuracy: 0.8100000023841858\n",
            "Validation Precision: 0.8154362440109253\n",
            "Validation Recall: 0.9918367266654968\n",
            "Validation AUC: 0.6615583896636963\n",
            "Epoch 1/2\n",
            "\u001b[1m 6/10\u001b[0m \u001b[32m━━━━━━━━━━━━\u001b[0m\u001b[37m━━━━━━━━\u001b[0m \u001b[1m0s\u001b[0m 12ms/step - accuracy: 0.3112 - auc: 0.5054 - loss: 0.7155 - precision: 0.7665 - recall: 0.2069\n",
            "Epoch 1: val_auc improved from -inf to 0.64646, saving model to model_trial_1.keras\n",
            "\u001b[1m10/10\u001b[0m \u001b[32m━━━━━━━━━━━━━━━━━━━━\u001b[0m\u001b[37m\u001b[0m \u001b[1m3s\u001b[0m 82ms/step - accuracy: 0.3105 - auc: 0.5133 - loss: 0.7116 - precision: 0.7850 - recall: 0.2008 - val_accuracy: 0.7400 - val_auc: 0.6465 - val_loss: 0.6988 - val_precision: 0.8584 - val_recall: 0.8163 - learning_rate: 0.0010\n",
            "Epoch 2/2\n",
            "\u001b[1m 6/10\u001b[0m \u001b[32m━━━━━━━━━━━━\u001b[0m\u001b[37m━━━━━━━━\u001b[0m \u001b[1m0s\u001b[0m 12ms/step - accuracy: 0.5343 - auc: 0.5716 - loss: 0.7264 - precision: 0.8199 - recall: 0.5330\n",
            "Epoch 2: val_auc improved from 0.64646 to 0.67406, saving model to model_trial_1.keras\n",
            "\u001b[1m10/10\u001b[0m \u001b[32m━━━━━━━━━━━━━━━━━━━━\u001b[0m\u001b[37m\u001b[0m \u001b[1m0s\u001b[0m 21ms/step - accuracy: 0.5716 - auc: 0.5908 - loss: 0.7126 - precision: 0.8336 - recall: 0.5827 - val_accuracy: 0.7867 - val_auc: 0.6741 - val_loss: 0.6894 - val_precision: 0.8494 - val_recall: 0.8980 - learning_rate: 0.0010\n",
            "\u001b[1m10/10\u001b[0m \u001b[32m━━━━━━━━━━━━━━━━━━━━\u001b[0m\u001b[37m\u001b[0m \u001b[1m0s\u001b[0m 5ms/step - accuracy: 0.7900 - auc: 0.6930 - loss: 0.6892 - precision: 0.8570 - recall: 0.8938 \n"
          ]
        },
        {
          "output_type": "stream",
          "name": "stderr",
          "text": [
            "[I 2024-09-13 06:39:47,393] Trial 1 finished with value: 0.6894155144691467 and parameters: {'emb_size': 32, 'rnn_units': 32, 'dropout_rate': 0.5445647836665339, 'l2_rate': 0.00011050188903174033}. Best is trial 1 with value: 0.6894155144691467.\n"
          ]
        },
        {
          "output_type": "stream",
          "name": "stdout",
          "text": [
            "Validation Loss: 0.6894155144691467\n",
            "Validation Accuracy: 0.7866666913032532\n",
            "Validation Precision: 0.8494208455085754\n",
            "Validation Recall: 0.8979591727256775\n",
            "Validation AUC: 0.6740630865097046\n",
            "Epoch 1/2\n",
            "\u001b[1m 9/10\u001b[0m \u001b[32m━━━━━━━━━━━━━━━━━━\u001b[0m\u001b[37m━━\u001b[0m \u001b[1m0s\u001b[0m 14ms/step - accuracy: 0.3989 - auc: 0.5101 - loss: 12.5766 - precision: 0.8151 - recall: 0.3292\n",
            "Epoch 1: val_auc improved from -inf to 0.62464, saving model to model_trial_2.keras\n",
            "\u001b[1m10/10\u001b[0m \u001b[32m━━━━━━━━━━━━━━━━━━━━\u001b[0m\u001b[37m\u001b[0m \u001b[1m3s\u001b[0m 99ms/step - accuracy: 0.4105 - auc: 0.5150 - loss: 12.3920 - precision: 0.8173 - recall: 0.3471 - val_accuracy: 0.8033 - val_auc: 0.6246 - val_loss: 9.5836 - val_precision: 0.8298 - val_recall: 0.9551 - learning_rate: 0.0010\n",
            "Epoch 2/2\n",
            "\u001b[1m 9/10\u001b[0m \u001b[32m━━━━━━━━━━━━━━━━━━\u001b[0m\u001b[37m━━\u001b[0m \u001b[1m0s\u001b[0m 14ms/step - accuracy: 0.7802 - auc: 0.6421 - loss: 9.1152 - precision: 0.8563 - recall: 0.8808\n",
            "Epoch 2: val_auc improved from 0.62464 to 0.64594, saving model to model_trial_2.keras\n",
            "\u001b[1m10/10\u001b[0m \u001b[32m━━━━━━━━━━━━━━━━━━━━\u001b[0m\u001b[37m\u001b[0m \u001b[1m0s\u001b[0m 28ms/step - accuracy: 0.7715 - auc: 0.6377 - loss: 9.0306 - precision: 0.8547 - recall: 0.8693 - val_accuracy: 0.8167 - val_auc: 0.6459 - val_loss: 7.4771 - val_precision: 0.8345 - val_recall: 0.9673 - learning_rate: 0.0010\n",
            "\u001b[1m10/10\u001b[0m \u001b[32m━━━━━━━━━━━━━━━━━━━━\u001b[0m\u001b[37m\u001b[0m \u001b[1m0s\u001b[0m 8ms/step - accuracy: 0.8204 - auc: 0.6526 - loss: 7.4767 - precision: 0.8366 - recall: 0.9708\n"
          ]
        },
        {
          "output_type": "stream",
          "name": "stderr",
          "text": [
            "[I 2024-09-13 06:39:50,950] Trial 2 finished with value: 7.477075099945068 and parameters: {'emb_size': 128, 'rnn_units': 64, 'dropout_rate': 0.5388148727093374, 'l2_rate': 0.04285281863850401}. Best is trial 1 with value: 0.6894155144691467.\n"
          ]
        },
        {
          "output_type": "stream",
          "name": "stdout",
          "text": [
            "Validation Loss: 7.477075099945068\n",
            "Validation Accuracy: 0.8166666626930237\n",
            "Validation Precision: 0.8345070481300354\n",
            "Validation Recall: 0.9673469662666321\n",
            "Validation AUC: 0.645936906337738\n",
            "Epoch 1/2\n",
            "\u001b[1m 9/10\u001b[0m \u001b[32m━━━━━━━━━━━━━━━━━━\u001b[0m\u001b[37m━━\u001b[0m \u001b[1m0s\u001b[0m 13ms/step - accuracy: 0.5485 - auc: 0.4793 - loss: 12.7854 - precision: 0.8134 - recall: 0.5853\n",
            "Epoch 1: val_auc improved from -inf to 0.63599, saving model to model_trial_3.keras\n",
            "\u001b[1m10/10\u001b[0m \u001b[32m━━━━━━━━━━━━━━━━━━━━\u001b[0m\u001b[37m\u001b[0m \u001b[1m3s\u001b[0m 90ms/step - accuracy: 0.5613 - auc: 0.4819 - loss: 12.6462 - precision: 0.8121 - recall: 0.6060 - val_accuracy: 0.8067 - val_auc: 0.6360 - val_loss: 10.4699 - val_precision: 0.8148 - val_recall: 0.9878 - learning_rate: 0.0010\n",
            "Epoch 2/2\n",
            "\u001b[1m10/10\u001b[0m \u001b[32m━━━━━━━━━━━━━━━━━━━━\u001b[0m\u001b[37m\u001b[0m \u001b[1m0s\u001b[0m 12ms/step - accuracy: 0.7421 - auc: 0.6617 - loss: 10.0748 - precision: 0.8344 - recall: 0.8490\n",
            "Epoch 2: val_auc improved from 0.63599 to 0.67373, saving model to model_trial_3.keras\n",
            "\u001b[1m10/10\u001b[0m \u001b[32m━━━━━━━━━━━━━━━━━━━━\u001b[0m\u001b[37m\u001b[0m \u001b[1m0s\u001b[0m 27ms/step - accuracy: 0.7419 - auc: 0.6603 - loss: 10.0421 - precision: 0.8345 - recall: 0.8489 - val_accuracy: 0.8167 - val_auc: 0.6737 - val_loss: 8.7333 - val_precision: 0.8209 - val_recall: 0.9918 - learning_rate: 0.0010\n",
            "\u001b[1m10/10\u001b[0m \u001b[32m━━━━━━━━━━━━━━━━━━━━\u001b[0m\u001b[37m\u001b[0m \u001b[1m0s\u001b[0m 5ms/step - accuracy: 0.8171 - auc: 0.6869 - loss: 8.7324 - precision: 0.8231 - recall: 0.9896 \n"
          ]
        },
        {
          "output_type": "stream",
          "name": "stderr",
          "text": [
            "[I 2024-09-13 06:39:54,976] Trial 3 finished with value: 8.733281135559082 and parameters: {'emb_size': 128, 'rnn_units': 16, 'dropout_rate': 0.5466326305608545, 'l2_rate': 0.09248676193428441}. Best is trial 1 with value: 0.6894155144691467.\n"
          ]
        },
        {
          "output_type": "stream",
          "name": "stdout",
          "text": [
            "Validation Loss: 8.733281135559082\n",
            "Validation Accuracy: 0.8166666626930237\n",
            "Validation Precision: 0.8209459185600281\n",
            "Validation Recall: 0.9918367266654968\n",
            "Validation AUC: 0.6737291812896729\n",
            "Epoch 1/2\n",
            "\u001b[1m 9/10\u001b[0m \u001b[32m━━━━━━━━━━━━━━━━━━\u001b[0m\u001b[37m━━\u001b[0m \u001b[1m0s\u001b[0m 13ms/step - accuracy: 0.6285 - auc: 0.4716 - loss: 8.9950 - precision: 0.8056 - recall: 0.7165\n",
            "Epoch 1: val_auc improved from -inf to 0.60612, saving model to model_trial_4.keras\n",
            "\u001b[1m10/10\u001b[0m \u001b[32m━━━━━━━━━━━━━━━━━━━━\u001b[0m\u001b[37m\u001b[0m \u001b[1m3s\u001b[0m 85ms/step - accuracy: 0.6492 - auc: 0.4816 - loss: 8.9015 - precision: 0.8070 - recall: 0.7475 - val_accuracy: 0.8067 - val_auc: 0.6061 - val_loss: 7.3992 - val_precision: 0.8148 - val_recall: 0.9878 - learning_rate: 0.0010\n",
            "Epoch 2/2\n",
            "\u001b[1m 9/10\u001b[0m \u001b[32m━━━━━━━━━━━━━━━━━━\u001b[0m\u001b[37m━━\u001b[0m \u001b[1m0s\u001b[0m 13ms/step - accuracy: 0.8174 - auc: 0.6351 - loss: 7.1519 - precision: 0.8337 - recall: 0.9716\n",
            "Epoch 2: val_auc improved from 0.60612 to 0.61603, saving model to model_trial_4.keras\n",
            "\u001b[1m10/10\u001b[0m \u001b[32m━━━━━━━━━━━━━━━━━━━━\u001b[0m\u001b[37m\u001b[0m \u001b[1m0s\u001b[0m 26ms/step - accuracy: 0.8156 - auc: 0.6375 - loss: 7.1055 - precision: 0.8327 - recall: 0.9701 - val_accuracy: 0.8133 - val_auc: 0.6160 - val_loss: 6.2142 - val_precision: 0.8293 - val_recall: 0.9714 - learning_rate: 0.0010\n",
            "\u001b[1m10/10\u001b[0m \u001b[32m━━━━━━━━━━━━━━━━━━━━\u001b[0m\u001b[37m\u001b[0m \u001b[1m0s\u001b[0m 5ms/step - accuracy: 0.8194 - auc: 0.6260 - loss: 6.2131 - precision: 0.8349 - recall: 0.9724 \n"
          ]
        },
        {
          "output_type": "stream",
          "name": "stderr",
          "text": [
            "[I 2024-09-13 06:39:58,353] Trial 4 finished with value: 6.214158535003662 and parameters: {'emb_size': 128, 'rnn_units': 16, 'dropout_rate': 0.32352712104384596, 'l2_rate': 0.0633831621340433}. Best is trial 1 with value: 0.6894155144691467.\n"
          ]
        },
        {
          "output_type": "stream",
          "name": "stdout",
          "text": [
            "Validation Loss: 6.214158535003662\n",
            "Validation Accuracy: 0.8133333325386047\n",
            "Validation Precision: 0.8292682766914368\n",
            "Validation Recall: 0.9714285731315613\n",
            "Validation AUC: 0.6160297393798828\n",
            "Epoch 1/2\n",
            "\u001b[1m 6/10\u001b[0m \u001b[32m━━━━━━━━━━━━\u001b[0m\u001b[37m━━━━━━━━\u001b[0m \u001b[1m0s\u001b[0m 12ms/step - accuracy: 0.7188 - auc: 0.5456 - loss: 8.6102 - precision: 0.8211 - recall: 0.8418\n",
            "Epoch 1: val_auc improved from -inf to 0.59811, saving model to model_trial_5.keras\n",
            "\u001b[1m10/10\u001b[0m \u001b[32m━━━━━━━━━━━━━━━━━━━━\u001b[0m\u001b[37m\u001b[0m \u001b[1m3s\u001b[0m 80ms/step - accuracy: 0.7284 - auc: 0.5471 - loss: 8.3859 - precision: 0.8193 - recall: 0.8571 - val_accuracy: 0.8100 - val_auc: 0.5981 - val_loss: 7.1819 - val_precision: 0.8154 - val_recall: 0.9918 - learning_rate: 0.0010\n",
            "Epoch 2/2\n",
            "\u001b[1m 6/10\u001b[0m \u001b[32m━━━━━━━━━━━━\u001b[0m\u001b[37m━━━━━━━━\u001b[0m \u001b[1m0s\u001b[0m 11ms/step - accuracy: 0.7453 - auc: 0.5785 - loss: 7.0752 - precision: 0.8164 - recall: 0.8825\n",
            "Epoch 2: val_auc improved from 0.59811 to 0.62353, saving model to model_trial_5.keras\n",
            "\u001b[1m10/10\u001b[0m \u001b[32m━━━━━━━━━━━━━━━━━━━━\u001b[0m\u001b[37m\u001b[0m \u001b[1m0s\u001b[0m 20ms/step - accuracy: 0.7560 - auc: 0.5896 - loss: 6.9509 - precision: 0.8221 - recall: 0.8915 - val_accuracy: 0.7867 - val_auc: 0.6235 - val_loss: 6.2100 - val_precision: 0.8415 - val_recall: 0.9102 - learning_rate: 0.0010\n",
            "\u001b[1m10/10\u001b[0m \u001b[32m━━━━━━━━━━━━━━━━━━━━\u001b[0m\u001b[37m\u001b[0m \u001b[1m0s\u001b[0m 5ms/step - accuracy: 0.7750 - auc: 0.6389 - loss: 6.2098 - precision: 0.8398 - recall: 0.8972 \n"
          ]
        },
        {
          "output_type": "stream",
          "name": "stderr",
          "text": [
            "[I 2024-09-13 06:40:01,562] Trial 5 finished with value: 6.210024356842041 and parameters: {'emb_size': 32, 'rnn_units': 32, 'dropout_rate': 0.5999813518012356, 'l2_rate': 0.08466387851239252}. Best is trial 1 with value: 0.6894155144691467.\n"
          ]
        },
        {
          "output_type": "stream",
          "name": "stdout",
          "text": [
            "Validation Loss: 6.210024356842041\n",
            "Validation Accuracy: 0.7866666913032532\n",
            "Validation Precision: 0.8415094614028931\n",
            "Validation Recall: 0.9102040529251099\n",
            "Validation AUC: 0.6235250234603882\n",
            "Epoch 1/2\n",
            "\u001b[1m 9/10\u001b[0m \u001b[32m━━━━━━━━━━━━━━━━━━\u001b[0m\u001b[37m━━\u001b[0m \u001b[1m0s\u001b[0m 13ms/step - accuracy: 0.6280 - auc: 0.4958 - loss: 0.8861 - precision: 0.8221 - recall: 0.7012\n",
            "Epoch 1: val_auc improved from -inf to 0.64412, saving model to model_trial_6.keras\n",
            "\u001b[1m10/10\u001b[0m \u001b[32m━━━━━━━━━━━━━━━━━━━━\u001b[0m\u001b[37m\u001b[0m \u001b[1m3s\u001b[0m 87ms/step - accuracy: 0.6432 - auc: 0.4992 - loss: 0.8859 - precision: 0.8200 - recall: 0.7268 - val_accuracy: 0.8033 - val_auc: 0.6441 - val_loss: 0.8561 - val_precision: 0.8345 - val_recall: 0.9469 - learning_rate: 0.0010\n",
            "Epoch 2/2\n",
            "\u001b[1m 6/10\u001b[0m \u001b[32m━━━━━━━━━━━━\u001b[0m\u001b[37m━━━━━━━━\u001b[0m \u001b[1m0s\u001b[0m 12ms/step - accuracy: 0.6794 - auc: 0.5832 - loss: 0.8748 - precision: 0.8262 - recall: 0.7650\n",
            "Epoch 2: val_auc improved from 0.64412 to 0.67785, saving model to model_trial_6.keras\n",
            "\u001b[1m10/10\u001b[0m \u001b[32m━━━━━━━━━━━━━━━━━━━━\u001b[0m\u001b[37m\u001b[0m \u001b[1m0s\u001b[0m 25ms/step - accuracy: 0.6962 - auc: 0.5965 - loss: 0.8680 - precision: 0.8282 - recall: 0.7891 - val_accuracy: 0.8000 - val_auc: 0.6778 - val_loss: 0.8304 - val_precision: 0.8388 - val_recall: 0.9347 - learning_rate: 0.0010\n",
            "\u001b[1m10/10\u001b[0m \u001b[32m━━━━━━━━━━━━━━━━━━━━\u001b[0m\u001b[37m\u001b[0m \u001b[1m0s\u001b[0m 5ms/step - accuracy: 0.7911 - auc: 0.6671 - loss: 0.8303 - precision: 0.8378 - recall: 0.9248 \n"
          ]
        },
        {
          "output_type": "stream",
          "name": "stderr",
          "text": [
            "[I 2024-09-13 06:40:04,915] Trial 6 finished with value: 0.8304070830345154 and parameters: {'emb_size': 128, 'rnn_units': 32, 'dropout_rate': 0.5346677201021655, 'l2_rate': 0.0009088308874492779}. Best is trial 1 with value: 0.6894155144691467.\n"
          ]
        },
        {
          "output_type": "stream",
          "name": "stdout",
          "text": [
            "Validation Loss: 0.8304070830345154\n",
            "Validation Accuracy: 0.800000011920929\n",
            "Validation Precision: 0.8388278484344482\n",
            "Validation Recall: 0.9346938729286194\n",
            "Validation AUC: 0.6778478622436523\n",
            "Epoch 1/2\n",
            "\u001b[1m10/10\u001b[0m \u001b[32m━━━━━━━━━━━━━━━━━━━━\u001b[0m\u001b[37m\u001b[0m \u001b[1m0s\u001b[0m 12ms/step - accuracy: 0.4829 - auc: 0.4861 - loss: 0.8802 - precision: 0.7953 - recall: 0.4784\n",
            "Epoch 1: val_auc improved from -inf to 0.62256, saving model to model_trial_7.keras\n",
            "\u001b[1m10/10\u001b[0m \u001b[32m━━━━━━━━━━━━━━━━━━━━\u001b[0m\u001b[37m\u001b[0m \u001b[1m3s\u001b[0m 89ms/step - accuracy: 0.4853 - auc: 0.4900 - loss: 0.8775 - precision: 0.7981 - recall: 0.4805 - val_accuracy: 0.8133 - val_auc: 0.6226 - val_loss: 0.7969 - val_precision: 0.8161 - val_recall: 0.9959 - learning_rate: 0.0010\n",
            "Epoch 2/2\n",
            "\u001b[1m 6/10\u001b[0m \u001b[32m━━━━━━━━━━━━\u001b[0m\u001b[37m━━━━━━━━\u001b[0m \u001b[1m0s\u001b[0m 12ms/step - accuracy: 0.8087 - auc: 0.5970 - loss: 0.8389 - precision: 0.8260 - recall: 0.9674\n",
            "Epoch 2: val_auc improved from 0.62256 to 0.65058, saving model to model_trial_7.keras\n",
            "\u001b[1m10/10\u001b[0m \u001b[32m━━━━━━━━━━━━━━━━━━━━\u001b[0m\u001b[37m\u001b[0m \u001b[1m0s\u001b[0m 25ms/step - accuracy: 0.8112 - auc: 0.6087 - loss: 0.8336 - precision: 0.8272 - recall: 0.9698 - val_accuracy: 0.8200 - val_auc: 0.6506 - val_loss: 0.7877 - val_precision: 0.8351 - val_recall: 0.9714 - learning_rate: 0.0010\n",
            "\u001b[1m10/10\u001b[0m \u001b[32m━━━━━━━━━━━━━━━━━━━━\u001b[0m\u001b[37m\u001b[0m \u001b[1m0s\u001b[0m 5ms/step - accuracy: 0.8323 - auc: 0.6654 - loss: 0.7868 - precision: 0.8421 - recall: 0.9793 \n"
          ]
        },
        {
          "output_type": "stream",
          "name": "stderr",
          "text": [
            "[I 2024-09-13 06:40:08,335] Trial 7 finished with value: 0.7877029180526733 and parameters: {'emb_size': 128, 'rnn_units': 16, 'dropout_rate': 0.5394529608162657, 'l2_rate': 0.0011943161106049004}. Best is trial 1 with value: 0.6894155144691467.\n"
          ]
        },
        {
          "output_type": "stream",
          "name": "stdout",
          "text": [
            "Validation Loss: 0.7877029180526733\n",
            "Validation Accuracy: 0.8199999928474426\n",
            "Validation Precision: 0.8350877165794373\n",
            "Validation Recall: 0.9714285731315613\n",
            "Validation AUC: 0.6505751609802246\n",
            "Epoch 1/2\n",
            "\u001b[1m 6/10\u001b[0m \u001b[32m━━━━━━━━━━━━\u001b[0m\u001b[37m━━━━━━━━\u001b[0m \u001b[1m0s\u001b[0m 11ms/step - accuracy: 0.4181 - auc: 0.4656 - loss: 0.7493 - precision: 0.7990 - recall: 0.3677\n",
            "Epoch 1: val_auc improved from -inf to 0.62308, saving model to model_trial_8.keras\n",
            "\u001b[1m10/10\u001b[0m \u001b[32m━━━━━━━━━━━━━━━━━━━━\u001b[0m\u001b[37m\u001b[0m \u001b[1m3s\u001b[0m 80ms/step - accuracy: 0.4218 - auc: 0.4835 - loss: 0.7426 - precision: 0.8098 - recall: 0.3704 - val_accuracy: 0.8300 - val_auc: 0.6231 - val_loss: 0.7206 - val_precision: 0.8368 - val_recall: 0.9837 - learning_rate: 0.0010\n",
            "Epoch 2/2\n",
            "\u001b[1m 6/10\u001b[0m \u001b[32m━━━━━━━━━━━━\u001b[0m\u001b[37m━━━━━━━━\u001b[0m \u001b[1m0s\u001b[0m 11ms/step - accuracy: 0.7368 - auc: 0.5893 - loss: 0.7393 - precision: 0.8196 - recall: 0.8642\n",
            "Epoch 2: val_auc improved from 0.62308 to 0.62468, saving model to model_trial_8.keras\n",
            "\u001b[1m10/10\u001b[0m \u001b[32m━━━━━━━━━━━━━━━━━━━━\u001b[0m\u001b[37m\u001b[0m \u001b[1m0s\u001b[0m 20ms/step - accuracy: 0.7525 - auc: 0.5993 - loss: 0.7320 - precision: 0.8242 - recall: 0.8830 - val_accuracy: 0.8067 - val_auc: 0.6247 - val_loss: 0.7189 - val_precision: 0.8425 - val_recall: 0.9388 - learning_rate: 0.0010\n",
            "\u001b[1m10/10\u001b[0m \u001b[32m━━━━━━━━━━━━━━━━━━━━\u001b[0m\u001b[37m\u001b[0m \u001b[1m0s\u001b[0m 5ms/step - accuracy: 0.8154 - auc: 0.6328 - loss: 0.7185 - precision: 0.8494 - recall: 0.9426 \n"
          ]
        },
        {
          "output_type": "stream",
          "name": "stderr",
          "text": [
            "[I 2024-09-13 06:40:12,091] Trial 8 finished with value: 0.7189339995384216 and parameters: {'emb_size': 32, 'rnn_units': 16, 'dropout_rate': 0.36109461131319853, 'l2_rate': 0.0005459784675483514}. Best is trial 1 with value: 0.6894155144691467.\n"
          ]
        },
        {
          "output_type": "stream",
          "name": "stdout",
          "text": [
            "Validation Loss: 0.7189339995384216\n",
            "Validation Accuracy: 0.8066666722297668\n",
            "Validation Precision: 0.8424908518791199\n",
            "Validation Recall: 0.9387755393981934\n",
            "Validation AUC: 0.6246752738952637\n",
            "Epoch 1/2\n",
            "\u001b[1m 9/10\u001b[0m \u001b[32m━━━━━━━━━━━━━━━━━━\u001b[0m\u001b[37m━━\u001b[0m \u001b[1m0s\u001b[0m 14ms/step - accuracy: 0.7697 - auc: 0.5426 - loss: 0.7496 - precision: 0.8221 - recall: 0.9165\n",
            "Epoch 1: val_auc improved from -inf to 0.65299, saving model to model_trial_9.keras\n",
            "\u001b[1m10/10\u001b[0m \u001b[32m━━━━━━━━━━━━━━━━━━━━\u001b[0m\u001b[37m\u001b[0m \u001b[1m3s\u001b[0m 86ms/step - accuracy: 0.7717 - auc: 0.5454 - loss: 0.7506 - precision: 0.8218 - recall: 0.9200 - val_accuracy: 0.8133 - val_auc: 0.6530 - val_loss: 0.7193 - val_precision: 0.8161 - val_recall: 0.9959 - learning_rate: 0.0010\n",
            "Epoch 2/2\n",
            "\u001b[1m 9/10\u001b[0m \u001b[32m━━━━━━━━━━━━━━━━━━\u001b[0m\u001b[37m━━\u001b[0m \u001b[1m0s\u001b[0m 13ms/step - accuracy: 0.8068 - auc: 0.6247 - loss: 0.7478 - precision: 0.8259 - recall: 0.9665\n",
            "Epoch 2: val_auc improved from 0.65299 to 0.66750, saving model to model_trial_9.keras\n",
            "\u001b[1m10/10\u001b[0m \u001b[32m━━━━━━━━━━━━━━━━━━━━\u001b[0m\u001b[37m\u001b[0m \u001b[1m0s\u001b[0m 24ms/step - accuracy: 0.8069 - auc: 0.6281 - loss: 0.7477 - precision: 0.8269 - recall: 0.9647 - val_accuracy: 0.7833 - val_auc: 0.6675 - val_loss: 0.7229 - val_precision: 0.8358 - val_recall: 0.9143 - learning_rate: 0.0010\n",
            "\u001b[1m10/10\u001b[0m \u001b[32m━━━━━━━━━━━━━━━━━━━━\u001b[0m\u001b[37m\u001b[0m \u001b[1m0s\u001b[0m 5ms/step - accuracy: 0.8186 - auc: 0.6744 - loss: 0.7187 - precision: 0.8197 - recall: 0.9984 \n"
          ]
        },
        {
          "output_type": "stream",
          "name": "stderr",
          "text": [
            "[I 2024-09-13 06:40:15,423] Trial 9 finished with value: 0.7193059921264648 and parameters: {'emb_size': 64, 'rnn_units': 64, 'dropout_rate': 0.4107817796415457, 'l2_rate': 0.00033715221426515246}. Best is trial 1 with value: 0.6894155144691467.\n"
          ]
        },
        {
          "output_type": "stream",
          "name": "stdout",
          "text": [
            "Validation Loss: 0.7193059921264648\n",
            "Validation Accuracy: 0.8133333325386047\n",
            "Validation Precision: 0.8160535097122192\n",
            "Validation Recall: 0.9959183931350708\n",
            "Validation AUC: 0.652987003326416\n",
            "Best trial:\n",
            "  Value (Validation Loss): 0.6894155144691467\n",
            "  Hyperparameters: \n",
            "    emb_size: 32\n",
            "    rnn_units: 32\n",
            "    dropout_rate: 0.5445647836665339\n",
            "    l2_rate: 0.00011050188903174033\n"
          ]
        }
      ],
      "source": [
        "# Run Optuna study to find the best hyperparameters\n",
        "\n",
        "# Create and optimize the Optuna study\n",
        "study = optuna.create_study(direction='minimize')  # Optuna will minimize the objective function (validation loss)\n",
        "study.optimize(objective, n_trials=10)  # Optimize over 10 trials; can be increased for better results\n",
        "\n",
        "# Display the results of the best trial\n",
        "print(\"Best trial:\")\n",
        "trial = study.best_trial\n",
        "print(f\"  Value (Validation Loss): {trial.value}\")\n",
        "print(\"  Hyperparameters: \")\n",
        "for key, value in trial.params.items():\n",
        "    print(f\"    {key}: {value}\")"
      ]
    },
    {
      "cell_type": "code",
      "execution_count": null,
      "metadata": {
        "colab": {
          "base_uri": "https://localhost:8080/"
        },
        "id": "mP7aDWWcmpqJ",
        "outputId": "be8f505d-9187-4d91-ddbc-2355c2c1a366"
      },
      "outputs": [
        {
          "output_type": "stream",
          "name": "stdout",
          "text": [
            "\u001b[1m16/16\u001b[0m \u001b[32m━━━━━━━━━━━━━━━━━━━━\u001b[0m\u001b[37m\u001b[0m \u001b[1m0s\u001b[0m 14ms/step\n"
          ]
        }
      ],
      "source": [
        "# Load best model\n",
        "model = load_model(f'model_trial_{trial.number}.keras')\n",
        "\n",
        "# Predict probabilities on the test data\n",
        "probabilities = model.predict(X_test_vec)\n",
        "\n",
        "# Convert probabilities to binary classes\n",
        "# Here, 0.5 is used as the threshold. Adjust if necessary.\n",
        "rnn_binary_pred = (probabilities > 0.5).astype(int)\n",
        "\n",
        "# (Optional) Print rnn_binary_pred\n",
        "#print(rnn_binary_pred)"
      ]
    },
    {
      "cell_type": "markdown",
      "metadata": {
        "id": "JKLyDXP-mnyE"
      },
      "source": [
        "###DistilBERT\n"
      ]
    },
    {
      "cell_type": "markdown",
      "metadata": {
        "id": "9Cz8oNs1eNjw"
      },
      "source": [
        "#####Applying the DIstilBERT model to the test data"
      ]
    },
    {
      "cell_type": "code",
      "source": [
        "# Import necessary libraries for DistilBERT\n",
        "from transformers import pipeline\n"
      ],
      "metadata": {
        "id": "Y44BKVpeWXmL"
      },
      "execution_count": null,
      "outputs": []
    },
    {
      "cell_type": "code",
      "source": [
        "# Load the DistilBERT model for sentiment analysis using the Hugging Face pipeline\n",
        "pipe = pipeline(\"text-classification\", model=\"DT12the/distilbert-sentiment-analysis\", device = 'cuda')\n",
        "\n",
        "def distilbert_test(X_test):\n",
        "    \"\"\"\n",
        "    Applies the DistilBERT model to the test data for sentiment analysis.\n",
        "\n",
        "    This function:\n",
        "    - Converts the test data to a list format.\n",
        "    - Applies the DistilBERT model using the Hugging Face pipeline to classify the text.\n",
        "    - Returns the classification scores for each input text.\n",
        "\n",
        "    Parameters:\n",
        "    X_test (pd.Series): A pandas Series containing the text data to be classified.\n",
        "\n",
        "    Returns:\n",
        "    list: A list of dictionaries containing the classification labels and scores for each input text.\n",
        "    \"\"\"\n",
        "    scores = pipe(X_test.tolist())  # Convert X_test to a list if it's not already\n",
        "    return scores\n",
        "\n",
        "\n",
        "# Apply DistilBERT to the test data\n",
        "test_results = distilbert_test(X_test)\n",
        "\n",
        "# Convert the test results to a DataFrame\n",
        "db_pred_df = pd.DataFrame(test_results)\n",
        "\n",
        "# Map the labels to binary values for consistency with other models\n",
        "db_pred_df['label'] = db_pred_df['label'].map({'LABEL_1': 1, 'LABEL_0': 0})\n",
        "\n",
        "# Optional: Print the DataFrame to inspect the predictions\n",
        "print(db_pred_df['label'])\n",
        "\n",
        "# (Optional)): Print the predictions for each text sample (Optional)\n",
        "\"\"\"\n",
        "for i in range(len(test_results)):\n",
        "    print(f\"Text: {X_test.iloc[i]}, Prediction: {test_results[i]['label']}, Score: {test_results[i]['score']:.4f}\")\n",
        "\"\"\"\n",
        "\n",
        "\n"
      ],
      "metadata": {
        "colab": {
          "base_uri": "https://localhost:8080/",
          "height": 544,
          "referenced_widgets": [
            "05d36319631e4d3c8cb9cda4582276ff",
            "d560737cd1bf410780b2967bc95688bf",
            "12392071c7774a0ab66a8af4136f5ad2",
            "be2be03d54de4b828647c061cbde3396",
            "612e4c66449441a3a99f767a47b1c497",
            "9192f924573c4f4cb6d4f000310b264b",
            "e5df577310e743ad851a089040712e83",
            "2d9c79e988534fc2a66afd1b446b854e",
            "d89e8d764ea94557b84c1598898e7511",
            "59dd378f398f4788a03dad50f0a82d19",
            "53c0301efb6e437f84819fdb630d0aaf",
            "8bfa0f7cfd4748baa2bb09e9377c1173",
            "b67535d460c244db801d8688775c56f4",
            "5eccb5faf0a74f679ee7ee45becfcca5",
            "c28f196dd50847fdb01e02df9467b769",
            "62d3b3fe982e4193965009d0d77c403d",
            "2bbb53612af64293b1c97ee80c91fac7",
            "c9bbdf1655874712a527156961decb55",
            "27c15e3543724760983007784405fd19",
            "a96dddc82ea2436a8629ae8e0d90d08b",
            "bfd19ed007cc4f18bcc3b5dc30b067ba",
            "465afa3802484267b35cf9a66b399ac8",
            "6c927820b5694ccaba1b539d3baf346f",
            "793c27e515e046e9a94b205ebd387613",
            "96cf7d8d0c7a41c299558878d4a5ae76",
            "aea32aa11cc445abb0e949a89de6d687",
            "80a4abd84c2e4b5b9af828f6eae38418",
            "e7a255b0dc3a4164ba8720e407e85fd3",
            "5d64627551c34397a4b3aa9d87af8f6c",
            "65bf7854b38b437fa0f24f0325c34f0b",
            "3c68c0ef1858483cb0a595e763ac14f5",
            "9da06491309b4489b863bc1df96e0336",
            "d862acad35d2464db254403d87888970",
            "d180d991c8b04085b46373e3079dd64e",
            "a286adc6b472404caf488704c6b68043",
            "25f9f8d41c6445a78be9efcc279c4937",
            "01143e7e9de7454fa0fa58beadb251e6",
            "affd5b3365b44b6fac68b5714e2b4d9a",
            "3f4e417b8fa7429b971659d868d798f5",
            "7b26b72f06174f50bf8fce76f72162ba",
            "f53eb869ef7c48518e752777411cb376",
            "8b7811d631b44be8a228c0e49a5f2025",
            "358550d8e6b64616a33ee31ce593dd2b",
            "c39a7823356443699dd49a4fc94f9b77",
            "78f42aa6618a4143922847a978ad6b60",
            "877aca9ec3b54226bc500cd66fb22bd7",
            "b78241e0c85949febaf740c1444b1985",
            "986c22bbfedf4eebb16c22a5fecfc641",
            "45d10a0b19e949eaaf5ada68182c7923",
            "78152660f9234d1c87117c112eac279a",
            "fe9689d08d99405783252d5eaac7f201",
            "38cc9c36dbe94fde90298d4b0db384bd",
            "3e9636fd8a124539aa1ec4d68da0dad5",
            "1378a7bfb0bd41929d984ce65b69e447",
            "aef0ff0ce9b74fa087f7f447998c75e2"
          ]
        },
        "id": "nGCfGPoWXHQy",
        "outputId": "b8287e70-5225-40ce-e2b3-a30d6d241f6a"
      },
      "execution_count": null,
      "outputs": [
        {
          "output_type": "stream",
          "name": "stderr",
          "text": [
            "/usr/local/lib/python3.10/dist-packages/huggingface_hub/utils/_token.py:89: UserWarning: \n",
            "The secret `HF_TOKEN` does not exist in your Colab secrets.\n",
            "To authenticate with the Hugging Face Hub, create a token in your settings tab (https://huggingface.co/settings/tokens), set it as secret in your Google Colab and restart your session.\n",
            "You will be able to reuse this secret in all of your notebooks.\n",
            "Please note that authentication is recommended but still optional to access public models or datasets.\n",
            "  warnings.warn(\n"
          ]
        },
        {
          "output_type": "display_data",
          "data": {
            "text/plain": [
              "config.json:   0%|          | 0.00/640 [00:00<?, ?B/s]"
            ],
            "application/vnd.jupyter.widget-view+json": {
              "version_major": 2,
              "version_minor": 0,
              "model_id": "05d36319631e4d3c8cb9cda4582276ff"
            }
          },
          "metadata": {}
        },
        {
          "output_type": "display_data",
          "data": {
            "text/plain": [
              "model.safetensors:   0%|          | 0.00/268M [00:00<?, ?B/s]"
            ],
            "application/vnd.jupyter.widget-view+json": {
              "version_major": 2,
              "version_minor": 0,
              "model_id": "8bfa0f7cfd4748baa2bb09e9377c1173"
            }
          },
          "metadata": {}
        },
        {
          "output_type": "display_data",
          "data": {
            "text/plain": [
              "tokenizer_config.json:   0%|          | 0.00/1.25k [00:00<?, ?B/s]"
            ],
            "application/vnd.jupyter.widget-view+json": {
              "version_major": 2,
              "version_minor": 0,
              "model_id": "6c927820b5694ccaba1b539d3baf346f"
            }
          },
          "metadata": {}
        },
        {
          "output_type": "display_data",
          "data": {
            "text/plain": [
              "vocab.txt:   0%|          | 0.00/232k [00:00<?, ?B/s]"
            ],
            "application/vnd.jupyter.widget-view+json": {
              "version_major": 2,
              "version_minor": 0,
              "model_id": "d180d991c8b04085b46373e3079dd64e"
            }
          },
          "metadata": {}
        },
        {
          "output_type": "display_data",
          "data": {
            "text/plain": [
              "special_tokens_map.json:   0%|          | 0.00/695 [00:00<?, ?B/s]"
            ],
            "application/vnd.jupyter.widget-view+json": {
              "version_major": 2,
              "version_minor": 0,
              "model_id": "78f42aa6618a4143922847a978ad6b60"
            }
          },
          "metadata": {}
        },
        {
          "output_type": "stream",
          "name": "stdout",
          "text": [
            "0      0\n",
            "1      1\n",
            "2      0\n",
            "3      0\n",
            "4      0\n",
            "      ..\n",
            "495    0\n",
            "496    0\n",
            "497    0\n",
            "498    0\n",
            "499    0\n",
            "Name: label, Length: 500, dtype: int64\n"
          ]
        },
        {
          "output_type": "execute_result",
          "data": {
            "text/plain": [
              "'\\nfor i in range(len(test_results)):\\n    print(f\"Text: {X_test.iloc[i]}, Prediction: {test_results[i][\\'label\\']}, Score: {test_results[i][\\'score\\']:.4f}\")\\n'"
            ],
            "application/vnd.google.colaboratory.intrinsic+json": {
              "type": "string"
            }
          },
          "metadata": {},
          "execution_count": 24
        }
      ]
    },
    {
      "cell_type": "markdown",
      "metadata": {
        "id": "RhIl8-r_6O1Z"
      },
      "source": [
        "#####Finetuning a DistilBert model\n",
        "\n",
        "\n"
      ]
    },
    {
      "cell_type": "code",
      "execution_count": null,
      "metadata": {
        "colab": {
          "base_uri": "https://localhost:8080/"
        },
        "id": "upL25LYoe1MK",
        "outputId": "0e65f96a-1640-4eb4-cef0-5ec0bc1d1098"
      },
      "outputs": [
        {
          "output_type": "stream",
          "name": "stdout",
          "text": [
            "GPU is available and will be used.\n"
          ]
        }
      ],
      "source": [
        "# Activate GPU and Install Dependencies\n",
        "# use GPU (instead of CPU) to train model faster\n",
        "\n",
        "# Check if GPU is available for faster training\n",
        "import torch\n",
        "if torch.cuda.is_available():\n",
        "    device = torch.device(\"cuda\")\n",
        "    print(\"GPU is available and will be used.\")\n",
        "else:\n",
        "    device = torch.device(\"cpu\")\n",
        "    print(\"GPU is not available. Using CPU.\")\n",
        "\n",
        "\n",
        "# Install necessary libraries for working with Hugging Face's transformers and datasets\n",
        "!pip install datasets transformers huggingface_hub -qq\n",
        "\n",
        "# Import necessary modules from transformers and datasets\n",
        "from transformers import AutoTokenizer, AutoModelForSequenceClassification, TrainingArguments, Trainer\n",
        "from datasets import Dataset\n",
        "#, load_metric\n",
        "import pandas as pd\n",
        "!pip install datasets transformers huggingface_hub evaluate -qq\n",
        "from evaluate import load  # Changed this part\n",
        "\n",
        "# Load a metric\n",
        "load_metric = load(\"accuracy\")  # Changed this part\n"
      ]
    },
    {
      "cell_type": "code",
      "execution_count": null,
      "metadata": {
        "id": "s20fvM2Tf1d1",
        "colab": {
          "base_uri": "https://localhost:8080/",
          "height": 200,
          "referenced_widgets": [
            "afa4bdbfaaed472c86abc99b0c37b9ce",
            "30ec025c212e45f3ab0ca6ec8f66a21a",
            "74cb8617e9894f6d8979dab22fc1e6cc",
            "741af9a365534cf2804e516c0ea8baba",
            "3b50e75f06e6467b913d271c3e35b0f1",
            "889c135890f54b72bb51e0274c283ea3",
            "005ff7bc324e4f588da1e9273b7aaa07",
            "6bdbd7f158a443c78633e64933e4295a",
            "5a9a8ab700cb4e93a8c7643471468afc",
            "42f9c40297914681ad963c8f4e01cbd8",
            "41ffc678f4db42df9a8c85a992225ce1",
            "7df05639dc02470f9e82683ec72e0a66",
            "3799e6d2d8274068b58fe53ef5e1fdd8",
            "3757bc3326d34257bf358992e6815292",
            "22038acb94e94be1b390bba3d601f82a",
            "26472a9b6dac4ca6b224838613c24d07",
            "fc06e2200e92449496dccc3ad181d5d9",
            "dc1e385eaa434bb3ba20ea5e4d611327",
            "b3a233319a3c4f87a0031bc9e718e7c3",
            "7bee58dd43594031a00655865882be51",
            "c020a0ee3060464cb56fb06f34c2c4f8",
            "e7e13f1a9b644ed4b2f2c283fb4a806e",
            "e8413c6126f849528cb3b28374d13e97",
            "15099b3d7a584869ac06ed5b41819631",
            "b7328d58a1044a839ffff6e9dd9cce3a",
            "bee226d5522c4291b3c86db44aea1a2f",
            "480b69048cf54c11b3a9a520a44d38b7",
            "2061eec3b2594dd5a5be6e150257b97c",
            "16c855105d974ba8b4eccdd21d323424",
            "cafd5259b78b4086b08f5ebc605468fd",
            "67fa8d1a73d1452fbdf9051700a7135c",
            "9c82b3ecd6174d32a691b8cea95433fd",
            "fb99fbabd94546de84f716e03c56e595",
            "c8e32c1704da4d82ba53c58664f62f7f",
            "9cb0753b65834035aa3093e2e7c07719",
            "32d93621b7db4d518042e907ff813ba2",
            "7c00e724bc914cd9b24a6b06a9937480",
            "42d3e90d4cca43ffb2f8b2386f7ce2d3",
            "654417e25d894814a623f60fa180c98d",
            "f4092cd7ef244a70bc601ee37102d13c",
            "398eace7fb6c419aa261bdfa637d64b7",
            "aa2518dfc41247b5931496942126017e",
            "34aba0b86b774d4d876fcd9d74a62432",
            "918932cac76348cda7bc3dedb62f16a5"
          ]
        },
        "outputId": "ab84c3f4-b076-462d-ef1c-7b31513028b8"
      },
      "outputs": [
        {
          "output_type": "display_data",
          "data": {
            "text/plain": [
              "tokenizer_config.json:   0%|          | 0.00/48.0 [00:00<?, ?B/s]"
            ],
            "application/vnd.jupyter.widget-view+json": {
              "version_major": 2,
              "version_minor": 0,
              "model_id": "afa4bdbfaaed472c86abc99b0c37b9ce"
            }
          },
          "metadata": {}
        },
        {
          "output_type": "display_data",
          "data": {
            "text/plain": [
              "config.json:   0%|          | 0.00/483 [00:00<?, ?B/s]"
            ],
            "application/vnd.jupyter.widget-view+json": {
              "version_major": 2,
              "version_minor": 0,
              "model_id": "7df05639dc02470f9e82683ec72e0a66"
            }
          },
          "metadata": {}
        },
        {
          "output_type": "display_data",
          "data": {
            "text/plain": [
              "vocab.txt:   0%|          | 0.00/232k [00:00<?, ?B/s]"
            ],
            "application/vnd.jupyter.widget-view+json": {
              "version_major": 2,
              "version_minor": 0,
              "model_id": "e8413c6126f849528cb3b28374d13e97"
            }
          },
          "metadata": {}
        },
        {
          "output_type": "display_data",
          "data": {
            "text/plain": [
              "tokenizer.json:   0%|          | 0.00/466k [00:00<?, ?B/s]"
            ],
            "application/vnd.jupyter.widget-view+json": {
              "version_major": 2,
              "version_minor": 0,
              "model_id": "c8e32c1704da4d82ba53c58664f62f7f"
            }
          },
          "metadata": {}
        },
        {
          "output_type": "stream",
          "name": "stderr",
          "text": [
            "/usr/local/lib/python3.10/dist-packages/transformers/tokenization_utils_base.py:1601: FutureWarning: `clean_up_tokenization_spaces` was not set. It will be set to `True` by default. This behavior will be depracted in transformers v4.45, and will be then set to `False` by default. For more details check this issue: https://github.com/huggingface/transformers/issues/31884\n",
            "  warnings.warn(\n"
          ]
        }
      ],
      "source": [
        "\n",
        "# Load the DistilBERT tokenizer for preprocessing text data\n",
        "tokenizer = AutoTokenizer.from_pretrained(\"distilbert-base-uncased\")\n",
        "\n",
        "# Prepare the data: Convert training, validation, and test data into DataFrames\n",
        "train_df = pd.DataFrame({'text': X_train, 'label': y_train})\n",
        "val_df = pd.DataFrame({'text': X_val, 'label': y_val})\n",
        "test_df = pd.DataFrame({'text': X_test, 'label': y_test})\n",
        "\n",
        "# Convert DataFrames to Hugging Face Dataset objects\n",
        "train_dataset = Dataset.from_pandas(train_df)\n",
        "val_dataset = Dataset.from_pandas(val_df)\n",
        "test_dataset = Dataset.from_pandas(test_df)\n",
        "\n",
        "\n",
        "\n",
        "# Define a preprocessing function to tokenize the text data\n",
        "def preprocess_function(examples):\n",
        "    \"\"\"\n",
        "    Tokenizes input text data using the DistilBERT tokenizer.\n",
        "\n",
        "    This function:\n",
        "    - Truncates text sequences to a maximum length of 128 tokens.\n",
        "    - Pads sequences to the maximum length if necessary.\n",
        "\n",
        "    Parameters:\n",
        "    examples (dict): A dictionary containing the text data to be tokenized.\n",
        "\n",
        "    Returns:\n",
        "    dict: A dictionary containing the tokenized inputs.\n",
        "    \"\"\"\n",
        "    return tokenizer(examples['text'], truncation=True, padding='max_length', max_length=128)\n",
        "\n"
      ]
    },
    {
      "cell_type": "code",
      "source": [
        "# Apply the preprocessing function to the datasets\n",
        "tokenized_train = train_dataset.map(preprocess_function, batched=True)\n",
        "tokenized_val = val_dataset.map(preprocess_function, batched=True)\n",
        "tokenized_test = test_dataset.map(preprocess_function, batched=True)\n",
        "\n",
        "# Remove the original text column as it's no longer needed\n",
        "train_dataset = tokenized_train.remove_columns([\"text\"])\n",
        "val_dataset = tokenized_val.remove_columns([\"text\"])\n",
        "test_dataset = tokenized_test.remove_columns([\"text\"])"
      ],
      "metadata": {
        "colab": {
          "base_uri": "https://localhost:8080/",
          "height": 113,
          "referenced_widgets": [
            "b3c5e87789504cbca2bb8facd0bded8f",
            "398625292d3744a9a65bf3be33f024f5",
            "f8ee49de245a4553ba14b53db6a4b46e",
            "7520c6c2e1db4783903aaad7ae680f00",
            "88ba1f9f14fb450b8a316e2af6b24ac3",
            "7b851609b10b42a1bf744cacc8b1ca13",
            "d2bd228ed04e4d4b9e15fa8fe90bb71f",
            "ff7fcd7fba01455fa1efeb7991bcacfd",
            "f976ca8f2a7a4040a86fcbb02140c6ab",
            "928ee84611d947deafe735639c7fc509",
            "34a1e2105d7049dfac55186314b37e85",
            "710f0e674c21403faccce33289b3df89",
            "c0bd548bded040eb9e97b299fe9cea78",
            "1aeb8032a9af4855b262d1e644d3fe16",
            "f6dd2c51c734423fbfad35dba605aef0",
            "2a6d5c4983b644149d5a97e7044853d6",
            "6683347ce2454e8a8119e2ffd7f4650c",
            "90b74853e3624d26975cfc726219ef1e",
            "6dd217e170dc40879d5dd5ec4863f752",
            "017ddfb0e82d4c6d86b5fb9e7312bfb8",
            "16a2c5cc4a464904b22e378dee566ae8",
            "f645f7b751564f55b9260202afc7d953",
            "3e34b99c19074bad8e25a2bdf5834c9a",
            "ab3966eb679b496e9aff7f51cbf54efe",
            "baf958d0653c49c390fcf97bac8e1b25",
            "c8f8f6db943d415a985b3a331b452b3f",
            "68b53b127bfc485db7b9b544294e8694",
            "a4065f36a44c492eaa0f1ccff1bf7742",
            "7b933068d802442b8d96a7a3da5ea05b",
            "2dfa565ed526456385f6105037ed036d",
            "ea2b123a86a942f0ae09926d838860de",
            "5bb8e23ef9494f1fb7846992acd0ed93",
            "c2ba8c36e1b14443901f99fecbf6779c"
          ]
        },
        "id": "XobR_FJ_YOeX",
        "outputId": "268ffff3-a65d-401d-d90a-cd0a3ca84b38"
      },
      "execution_count": null,
      "outputs": [
        {
          "output_type": "display_data",
          "data": {
            "text/plain": [
              "Map:   0%|          | 0/1200 [00:00<?, ? examples/s]"
            ],
            "application/vnd.jupyter.widget-view+json": {
              "version_major": 2,
              "version_minor": 0,
              "model_id": "b3c5e87789504cbca2bb8facd0bded8f"
            }
          },
          "metadata": {}
        },
        {
          "output_type": "display_data",
          "data": {
            "text/plain": [
              "Map:   0%|          | 0/300 [00:00<?, ? examples/s]"
            ],
            "application/vnd.jupyter.widget-view+json": {
              "version_major": 2,
              "version_minor": 0,
              "model_id": "710f0e674c21403faccce33289b3df89"
            }
          },
          "metadata": {}
        },
        {
          "output_type": "display_data",
          "data": {
            "text/plain": [
              "Map:   0%|          | 0/500 [00:00<?, ? examples/s]"
            ],
            "application/vnd.jupyter.widget-view+json": {
              "version_major": 2,
              "version_minor": 0,
              "model_id": "3e34b99c19074bad8e25a2bdf5834c9a"
            }
          },
          "metadata": {}
        }
      ]
    },
    {
      "cell_type": "code",
      "execution_count": null,
      "metadata": {
        "colab": {
          "base_uri": "https://localhost:8080/",
          "height": 694,
          "referenced_widgets": [
            "d65cac27d03445f794e890c4bb381a90",
            "199d6f808f924736ade89d10f0ab1f4f",
            "eb11da85d3b84456ad0b2c5ff67a08d2",
            "b341f084124040929c65504d1eb9dccc",
            "7aa622de1ad747dd8225f999bf2b604d",
            "702f85917b7842089364f01887ff1db9",
            "66e6b8c9bdeb49858ee33823b7824c08",
            "6f536404dd5d4c0fab2c2f981a0481c0",
            "5dc865d8c6de4362ab0ca587ac96aec8",
            "a4c45c01e4864dcfb099300de8fd4fae",
            "bfc1450daa9341e996ba0c582f1730d2"
          ]
        },
        "id": "zEZdC1mff1P_",
        "outputId": "95b48748-2a65-45d0-e157-63c43ed886d5"
      },
      "outputs": [
        {
          "output_type": "display_data",
          "data": {
            "text/plain": [
              "model.safetensors:   0%|          | 0.00/268M [00:00<?, ?B/s]"
            ],
            "application/vnd.jupyter.widget-view+json": {
              "version_major": 2,
              "version_minor": 0,
              "model_id": "d65cac27d03445f794e890c4bb381a90"
            }
          },
          "metadata": {}
        },
        {
          "output_type": "stream",
          "name": "stderr",
          "text": [
            "Some weights of DistilBertForSequenceClassification were not initialized from the model checkpoint at distilbert-base-uncased and are newly initialized: ['classifier.bias', 'classifier.weight', 'pre_classifier.bias', 'pre_classifier.weight']\n",
            "You should probably TRAIN this model on a down-stream task to be able to use it for predictions and inference.\n"
          ]
        },
        {
          "output_type": "execute_result",
          "data": {
            "text/plain": [
              "DistilBertForSequenceClassification(\n",
              "  (distilbert): DistilBertModel(\n",
              "    (embeddings): Embeddings(\n",
              "      (word_embeddings): Embedding(30522, 768, padding_idx=0)\n",
              "      (position_embeddings): Embedding(512, 768)\n",
              "      (LayerNorm): LayerNorm((768,), eps=1e-12, elementwise_affine=True)\n",
              "      (dropout): Dropout(p=0.1, inplace=False)\n",
              "    )\n",
              "    (transformer): Transformer(\n",
              "      (layer): ModuleList(\n",
              "        (0-5): 6 x TransformerBlock(\n",
              "          (attention): MultiHeadSelfAttention(\n",
              "            (dropout): Dropout(p=0.1, inplace=False)\n",
              "            (q_lin): Linear(in_features=768, out_features=768, bias=True)\n",
              "            (k_lin): Linear(in_features=768, out_features=768, bias=True)\n",
              "            (v_lin): Linear(in_features=768, out_features=768, bias=True)\n",
              "            (out_lin): Linear(in_features=768, out_features=768, bias=True)\n",
              "          )\n",
              "          (sa_layer_norm): LayerNorm((768,), eps=1e-12, elementwise_affine=True)\n",
              "          (ffn): FFN(\n",
              "            (dropout): Dropout(p=0.1, inplace=False)\n",
              "            (lin1): Linear(in_features=768, out_features=3072, bias=True)\n",
              "            (lin2): Linear(in_features=3072, out_features=768, bias=True)\n",
              "            (activation): GELUActivation()\n",
              "          )\n",
              "          (output_layer_norm): LayerNorm((768,), eps=1e-12, elementwise_affine=True)\n",
              "        )\n",
              "      )\n",
              "    )\n",
              "  )\n",
              "  (pre_classifier): Linear(in_features=768, out_features=768, bias=True)\n",
              "  (classifier): Linear(in_features=768, out_features=2, bias=True)\n",
              "  (dropout): Dropout(p=0.2, inplace=False)\n",
              ")"
            ]
          },
          "metadata": {},
          "execution_count": 29
        }
      ],
      "source": [
        "# Load the DistilBERT model for sequence classification\n",
        "model = AutoModelForSequenceClassification.from_pretrained(\"distilbert-base-uncased\", num_labels=2)\n",
        "model.to(device)  # Move the model to the appropriate device (GPU or CPU)"
      ]
    },
    {
      "cell_type": "code",
      "execution_count": null,
      "metadata": {
        "id": "2WrUnLa1hfKG"
      },
      "outputs": [],
      "source": [
        "\n",
        "# Define a function to compute evaluation metrics\n",
        "def compute_metrics(eval_pred):\n",
        "    \"\"\"\n",
        "    Computes accuracy and F1 score for the model's predictions.\n",
        "\n",
        "    This function:\n",
        "    - Extracts logits and labels from the evaluation predictions.\n",
        "    - Converts logits to predicted labels by taking the argmax.\n",
        "    - Computes accuracy and F1 score using the Hugging Face `load_metric` utility.\n",
        "\n",
        "    Parameters:\n",
        "    eval_pred (tuple): A tuple containing logits and labels from the evaluation.\n",
        "\n",
        "    Returns:\n",
        "    dict: A dictionary with computed accuracy and F1 score.\n",
        "    \"\"\"\n",
        "    load_accuracy = load_metric(\"accuracy\")\n",
        "    load_f1 = load_metric(\"f1\")\n",
        "\n",
        "    logits, labels = eval_pred\n",
        "    predictions = np.argmax(logits, axis=-1)\n",
        "    accuracy = load_accuracy.compute(predictions=predictions, references=labels)[\"accuracy\"]\n",
        "    f1 = load_f1.compute(predictions=predictions, references=labels)[\"f1\"]\n",
        "    return {\"accuracy\": accuracy, \"f1\": f1}"
      ]
    },
    {
      "cell_type": "code",
      "execution_count": null,
      "metadata": {
        "id": "uPGjd5sXhiEg"
      },
      "outputs": [],
      "source": [
        "\n",
        "# Define training arguments for the Trainer API\n",
        "training_args = TrainingArguments(\n",
        "    output_dir='./results',  # Directory to save training results and model checkpoints\n",
        "    learning_rate=2e-5,  # Initial learning rate for the Adam optimizer\n",
        "    per_device_train_batch_size=16,  # Batch size for training\n",
        "    per_device_eval_batch_size=16,  # Batch size for evaluation\n",
        "    num_train_epochs=2,  # Number of training epochs\n",
        "    weight_decay=0.01,  # Weight decay to apply for regularization\n",
        "    save_strategy=\"epoch\",  # Save the model at the end of every epoch\n",
        ")\n",
        "\n",
        "# Initialize the Trainer with the model, training arguments, and datasets\n",
        "trainer = Trainer(\n",
        "    model=model,  # The model to be trained\n",
        "    args=training_args,  # Training arguments\n",
        "    train_dataset=train_dataset,  # Training dataset\n",
        "    eval_dataset=val_dataset,  # Evaluation dataset\n",
        "    tokenizer=tokenizer,  # Tokenizer used for preprocessing\n",
        "    compute_metrics=compute_metrics,  # Function to compute metrics during evaluation\n",
        ")"
      ]
    },
    {
      "cell_type": "code",
      "execution_count": null,
      "metadata": {
        "colab": {
          "base_uri": "https://localhost:8080/",
          "height": 110
        },
        "id": "5ipcVOnnhiWM",
        "outputId": "6f30e2f1-ba6a-407d-cd83-3e7dcda4d54c"
      },
      "outputs": [
        {
          "output_type": "display_data",
          "data": {
            "text/plain": [
              "<IPython.core.display.HTML object>"
            ],
            "text/html": [
              "\n",
              "    <div>\n",
              "      \n",
              "      <progress value='150' max='150' style='width:300px; height:20px; vertical-align: middle;'></progress>\n",
              "      [150/150 00:30, Epoch 2/2]\n",
              "    </div>\n",
              "    <table border=\"1\" class=\"dataframe\">\n",
              "  <thead>\n",
              " <tr style=\"text-align: left;\">\n",
              "      <th>Step</th>\n",
              "      <th>Training Loss</th>\n",
              "    </tr>\n",
              "  </thead>\n",
              "  <tbody>\n",
              "  </tbody>\n",
              "</table><p>"
            ]
          },
          "metadata": {}
        },
        {
          "output_type": "execute_result",
          "data": {
            "text/plain": [
              "TrainOutput(global_step=150, training_loss=0.3996225992838542, metrics={'train_runtime': 30.9118, 'train_samples_per_second': 77.64, 'train_steps_per_second': 4.853, 'total_flos': 79480439193600.0, 'train_loss': 0.3996225992838542, 'epoch': 2.0})"
            ]
          },
          "metadata": {},
          "execution_count": 32
        }
      ],
      "source": [
        "# Train the model\n",
        "\n",
        "trainer.train()"
      ]
    },
    {
      "cell_type": "code",
      "execution_count": null,
      "metadata": {
        "colab": {
          "base_uri": "https://localhost:8080/",
          "height": 324
        },
        "id": "EgrNyetYuiGL",
        "outputId": "3271d37b-ab26-4f7b-f985-3f7d6e475f05"
      },
      "outputs": [
        {
          "output_type": "display_data",
          "data": {
            "text/plain": [
              "<IPython.core.display.HTML object>"
            ],
            "text/html": [
              "\n",
              "    <div>\n",
              "      \n",
              "      <progress value='38' max='19' style='width:300px; height:20px; vertical-align: middle;'></progress>\n",
              "      [19/19 00:31]\n",
              "    </div>\n",
              "    "
            ]
          },
          "metadata": {}
        },
        {
          "output_type": "error",
          "ename": "TypeError",
          "evalue": "'Accuracy' object is not callable",
          "traceback": [
            "\u001b[0;31m---------------------------------------------------------------------------\u001b[0m",
            "\u001b[0;31mTypeError\u001b[0m                                 Traceback (most recent call last)",
            "\u001b[0;32m<ipython-input-35-55de0abef143>\u001b[0m in \u001b[0;36m<cell line: 2>\u001b[0;34m()\u001b[0m\n\u001b[1;32m      1\u001b[0m \u001b[0;31m# Evaluate the model on the validation set\u001b[0m\u001b[0;34m\u001b[0m\u001b[0;34m\u001b[0m\u001b[0m\n\u001b[0;32m----> 2\u001b[0;31m \u001b[0mtrainer\u001b[0m\u001b[0;34m.\u001b[0m\u001b[0mevaluate\u001b[0m\u001b[0;34m(\u001b[0m\u001b[0;34m)\u001b[0m\u001b[0;34m\u001b[0m\u001b[0;34m\u001b[0m\u001b[0m\n\u001b[0m",
            "\u001b[0;32m/usr/local/lib/python3.10/dist-packages/transformers/trainer.py\u001b[0m in \u001b[0;36mevaluate\u001b[0;34m(self, eval_dataset, ignore_keys, metric_key_prefix)\u001b[0m\n\u001b[1;32m   3664\u001b[0m \u001b[0;34m\u001b[0m\u001b[0m\n\u001b[1;32m   3665\u001b[0m         \u001b[0meval_loop\u001b[0m \u001b[0;34m=\u001b[0m \u001b[0mself\u001b[0m\u001b[0;34m.\u001b[0m\u001b[0mprediction_loop\u001b[0m \u001b[0;32mif\u001b[0m \u001b[0mself\u001b[0m\u001b[0;34m.\u001b[0m\u001b[0margs\u001b[0m\u001b[0;34m.\u001b[0m\u001b[0muse_legacy_prediction_loop\u001b[0m \u001b[0;32melse\u001b[0m \u001b[0mself\u001b[0m\u001b[0;34m.\u001b[0m\u001b[0mevaluation_loop\u001b[0m\u001b[0;34m\u001b[0m\u001b[0;34m\u001b[0m\u001b[0m\n\u001b[0;32m-> 3666\u001b[0;31m         output = eval_loop(\n\u001b[0m\u001b[1;32m   3667\u001b[0m             \u001b[0meval_dataloader\u001b[0m\u001b[0;34m,\u001b[0m\u001b[0;34m\u001b[0m\u001b[0;34m\u001b[0m\u001b[0m\n\u001b[1;32m   3668\u001b[0m             \u001b[0mdescription\u001b[0m\u001b[0;34m=\u001b[0m\u001b[0;34m\"Evaluation\"\u001b[0m\u001b[0;34m,\u001b[0m\u001b[0;34m\u001b[0m\u001b[0;34m\u001b[0m\u001b[0m\n",
            "\u001b[0;32m/usr/local/lib/python3.10/dist-packages/transformers/trainer.py\u001b[0m in \u001b[0;36mevaluation_loop\u001b[0;34m(self, dataloader, description, prediction_loss_only, ignore_keys, metric_key_prefix)\u001b[0m\n\u001b[1;32m   3954\u001b[0m                 )\n\u001b[1;32m   3955\u001b[0m             \u001b[0;32melse\u001b[0m\u001b[0;34m:\u001b[0m\u001b[0;34m\u001b[0m\u001b[0;34m\u001b[0m\u001b[0m\n\u001b[0;32m-> 3956\u001b[0;31m                 \u001b[0mmetrics\u001b[0m \u001b[0;34m=\u001b[0m \u001b[0mself\u001b[0m\u001b[0;34m.\u001b[0m\u001b[0mcompute_metrics\u001b[0m\u001b[0;34m(\u001b[0m\u001b[0mEvalPrediction\u001b[0m\u001b[0;34m(\u001b[0m\u001b[0mpredictions\u001b[0m\u001b[0;34m=\u001b[0m\u001b[0mall_preds\u001b[0m\u001b[0;34m,\u001b[0m \u001b[0mlabel_ids\u001b[0m\u001b[0;34m=\u001b[0m\u001b[0mall_labels\u001b[0m\u001b[0;34m)\u001b[0m\u001b[0;34m)\u001b[0m\u001b[0;34m\u001b[0m\u001b[0;34m\u001b[0m\u001b[0m\n\u001b[0m\u001b[1;32m   3957\u001b[0m         \u001b[0;32melif\u001b[0m \u001b[0mmetrics\u001b[0m \u001b[0;32mis\u001b[0m \u001b[0;32mNone\u001b[0m\u001b[0;34m:\u001b[0m\u001b[0;34m\u001b[0m\u001b[0;34m\u001b[0m\u001b[0m\n\u001b[1;32m   3958\u001b[0m             \u001b[0mmetrics\u001b[0m \u001b[0;34m=\u001b[0m \u001b[0;34m{\u001b[0m\u001b[0;34m}\u001b[0m\u001b[0;34m\u001b[0m\u001b[0;34m\u001b[0m\u001b[0m\n",
            "\u001b[0;32m<ipython-input-30-69f1321515ad>\u001b[0m in \u001b[0;36mcompute_metrics\u001b[0;34m(eval_pred)\u001b[0m\n\u001b[1;32m     15\u001b[0m     \u001b[0mdict\u001b[0m\u001b[0;34m:\u001b[0m \u001b[0mA\u001b[0m \u001b[0mdictionary\u001b[0m \u001b[0;32mwith\u001b[0m \u001b[0mcomputed\u001b[0m \u001b[0maccuracy\u001b[0m \u001b[0;32mand\u001b[0m \u001b[0mF1\u001b[0m \u001b[0mscore\u001b[0m\u001b[0;34m.\u001b[0m\u001b[0;34m\u001b[0m\u001b[0;34m\u001b[0m\u001b[0m\n\u001b[1;32m     16\u001b[0m     \"\"\"\n\u001b[0;32m---> 17\u001b[0;31m     \u001b[0mload_accuracy\u001b[0m \u001b[0;34m=\u001b[0m \u001b[0mload_metric\u001b[0m\u001b[0;34m(\u001b[0m\u001b[0;34m\"accuracy\"\u001b[0m\u001b[0;34m)\u001b[0m\u001b[0;34m\u001b[0m\u001b[0;34m\u001b[0m\u001b[0m\n\u001b[0m\u001b[1;32m     18\u001b[0m     \u001b[0mload_f1\u001b[0m \u001b[0;34m=\u001b[0m \u001b[0mload_metric\u001b[0m\u001b[0;34m(\u001b[0m\u001b[0;34m\"f1\"\u001b[0m\u001b[0;34m)\u001b[0m\u001b[0;34m\u001b[0m\u001b[0;34m\u001b[0m\u001b[0m\n\u001b[1;32m     19\u001b[0m \u001b[0;34m\u001b[0m\u001b[0m\n",
            "\u001b[0;31mTypeError\u001b[0m: 'Accuracy' object is not callable"
          ]
        }
      ],
      "source": [
        "# Evaluate the model on the validation set\n",
        "trainer.evaluate()"
      ]
    },
    {
      "cell_type": "code",
      "execution_count": null,
      "metadata": {
        "colab": {
          "base_uri": "https://localhost:8080/",
          "height": 376
        },
        "id": "xjStQn9NoAcl",
        "outputId": "7db5dc5a-fb22-4f1f-9556-3d999644010e"
      },
      "outputs": [
        {
          "output_type": "display_data",
          "data": {
            "text/plain": [
              "<IPython.core.display.HTML object>"
            ],
            "text/html": [
              "\n",
              "    <div>\n",
              "      \n",
              "      <progress value='70' max='19' style='width:300px; height:20px; vertical-align: middle;'></progress>\n",
              "      [19/19 00:42]\n",
              "    </div>\n",
              "    "
            ]
          },
          "metadata": {}
        },
        {
          "output_type": "error",
          "ename": "TypeError",
          "evalue": "'Accuracy' object is not callable",
          "traceback": [
            "\u001b[0;31m---------------------------------------------------------------------------\u001b[0m",
            "\u001b[0;31mTypeError\u001b[0m                                 Traceback (most recent call last)",
            "\u001b[0;32m<ipython-input-36-c4ac221f413d>\u001b[0m in \u001b[0;36m<cell line: 2>\u001b[0;34m()\u001b[0m\n\u001b[1;32m      1\u001b[0m \u001b[0;31m# Make predictions on the test dataset\u001b[0m\u001b[0;34m\u001b[0m\u001b[0;34m\u001b[0m\u001b[0m\n\u001b[0;32m----> 2\u001b[0;31m \u001b[0mraw_pred\u001b[0m\u001b[0;34m,\u001b[0m \u001b[0m_\u001b[0m\u001b[0;34m,\u001b[0m \u001b[0m_\u001b[0m \u001b[0;34m=\u001b[0m \u001b[0mtrainer\u001b[0m\u001b[0;34m.\u001b[0m\u001b[0mpredict\u001b[0m\u001b[0;34m(\u001b[0m\u001b[0mtest_dataset\u001b[0m\u001b[0;34m)\u001b[0m\u001b[0;34m\u001b[0m\u001b[0;34m\u001b[0m\u001b[0m\n\u001b[0m\u001b[1;32m      3\u001b[0m \u001b[0;34m\u001b[0m\u001b[0m\n\u001b[1;32m      4\u001b[0m \u001b[0;31m# Convert raw predictions to class labels\u001b[0m\u001b[0;34m\u001b[0m\u001b[0;34m\u001b[0m\u001b[0m\n\u001b[1;32m      5\u001b[0m \u001b[0mDistB_fine_pred\u001b[0m \u001b[0;34m=\u001b[0m \u001b[0mnp\u001b[0m\u001b[0;34m.\u001b[0m\u001b[0margmax\u001b[0m\u001b[0;34m(\u001b[0m\u001b[0mraw_pred\u001b[0m\u001b[0;34m,\u001b[0m \u001b[0maxis\u001b[0m\u001b[0;34m=\u001b[0m\u001b[0;36m1\u001b[0m\u001b[0;34m)\u001b[0m\u001b[0;34m\u001b[0m\u001b[0;34m\u001b[0m\u001b[0m\n",
            "\u001b[0;32m/usr/local/lib/python3.10/dist-packages/transformers/trainer.py\u001b[0m in \u001b[0;36mpredict\u001b[0;34m(self, test_dataset, ignore_keys, metric_key_prefix)\u001b[0m\n\u001b[1;32m   3742\u001b[0m \u001b[0;34m\u001b[0m\u001b[0m\n\u001b[1;32m   3743\u001b[0m         \u001b[0meval_loop\u001b[0m \u001b[0;34m=\u001b[0m \u001b[0mself\u001b[0m\u001b[0;34m.\u001b[0m\u001b[0mprediction_loop\u001b[0m \u001b[0;32mif\u001b[0m \u001b[0mself\u001b[0m\u001b[0;34m.\u001b[0m\u001b[0margs\u001b[0m\u001b[0;34m.\u001b[0m\u001b[0muse_legacy_prediction_loop\u001b[0m \u001b[0;32melse\u001b[0m \u001b[0mself\u001b[0m\u001b[0;34m.\u001b[0m\u001b[0mevaluation_loop\u001b[0m\u001b[0;34m\u001b[0m\u001b[0;34m\u001b[0m\u001b[0m\n\u001b[0;32m-> 3744\u001b[0;31m         output = eval_loop(\n\u001b[0m\u001b[1;32m   3745\u001b[0m             \u001b[0mtest_dataloader\u001b[0m\u001b[0;34m,\u001b[0m \u001b[0mdescription\u001b[0m\u001b[0;34m=\u001b[0m\u001b[0;34m\"Prediction\"\u001b[0m\u001b[0;34m,\u001b[0m \u001b[0mignore_keys\u001b[0m\u001b[0;34m=\u001b[0m\u001b[0mignore_keys\u001b[0m\u001b[0;34m,\u001b[0m \u001b[0mmetric_key_prefix\u001b[0m\u001b[0;34m=\u001b[0m\u001b[0mmetric_key_prefix\u001b[0m\u001b[0;34m\u001b[0m\u001b[0;34m\u001b[0m\u001b[0m\n\u001b[1;32m   3746\u001b[0m         )\n",
            "\u001b[0;32m/usr/local/lib/python3.10/dist-packages/transformers/trainer.py\u001b[0m in \u001b[0;36mevaluation_loop\u001b[0;34m(self, dataloader, description, prediction_loss_only, ignore_keys, metric_key_prefix)\u001b[0m\n\u001b[1;32m   3954\u001b[0m                 )\n\u001b[1;32m   3955\u001b[0m             \u001b[0;32melse\u001b[0m\u001b[0;34m:\u001b[0m\u001b[0;34m\u001b[0m\u001b[0;34m\u001b[0m\u001b[0m\n\u001b[0;32m-> 3956\u001b[0;31m                 \u001b[0mmetrics\u001b[0m \u001b[0;34m=\u001b[0m \u001b[0mself\u001b[0m\u001b[0;34m.\u001b[0m\u001b[0mcompute_metrics\u001b[0m\u001b[0;34m(\u001b[0m\u001b[0mEvalPrediction\u001b[0m\u001b[0;34m(\u001b[0m\u001b[0mpredictions\u001b[0m\u001b[0;34m=\u001b[0m\u001b[0mall_preds\u001b[0m\u001b[0;34m,\u001b[0m \u001b[0mlabel_ids\u001b[0m\u001b[0;34m=\u001b[0m\u001b[0mall_labels\u001b[0m\u001b[0;34m)\u001b[0m\u001b[0;34m)\u001b[0m\u001b[0;34m\u001b[0m\u001b[0;34m\u001b[0m\u001b[0m\n\u001b[0m\u001b[1;32m   3957\u001b[0m         \u001b[0;32melif\u001b[0m \u001b[0mmetrics\u001b[0m \u001b[0;32mis\u001b[0m \u001b[0;32mNone\u001b[0m\u001b[0;34m:\u001b[0m\u001b[0;34m\u001b[0m\u001b[0;34m\u001b[0m\u001b[0m\n\u001b[1;32m   3958\u001b[0m             \u001b[0mmetrics\u001b[0m \u001b[0;34m=\u001b[0m \u001b[0;34m{\u001b[0m\u001b[0;34m}\u001b[0m\u001b[0;34m\u001b[0m\u001b[0;34m\u001b[0m\u001b[0m\n",
            "\u001b[0;32m<ipython-input-30-69f1321515ad>\u001b[0m in \u001b[0;36mcompute_metrics\u001b[0;34m(eval_pred)\u001b[0m\n\u001b[1;32m     15\u001b[0m     \u001b[0mdict\u001b[0m\u001b[0;34m:\u001b[0m \u001b[0mA\u001b[0m \u001b[0mdictionary\u001b[0m \u001b[0;32mwith\u001b[0m \u001b[0mcomputed\u001b[0m \u001b[0maccuracy\u001b[0m \u001b[0;32mand\u001b[0m \u001b[0mF1\u001b[0m \u001b[0mscore\u001b[0m\u001b[0;34m.\u001b[0m\u001b[0;34m\u001b[0m\u001b[0;34m\u001b[0m\u001b[0m\n\u001b[1;32m     16\u001b[0m     \"\"\"\n\u001b[0;32m---> 17\u001b[0;31m     \u001b[0mload_accuracy\u001b[0m \u001b[0;34m=\u001b[0m \u001b[0mload_metric\u001b[0m\u001b[0;34m(\u001b[0m\u001b[0;34m\"accuracy\"\u001b[0m\u001b[0;34m)\u001b[0m\u001b[0;34m\u001b[0m\u001b[0;34m\u001b[0m\u001b[0m\n\u001b[0m\u001b[1;32m     18\u001b[0m     \u001b[0mload_f1\u001b[0m \u001b[0;34m=\u001b[0m \u001b[0mload_metric\u001b[0m\u001b[0;34m(\u001b[0m\u001b[0;34m\"f1\"\u001b[0m\u001b[0;34m)\u001b[0m\u001b[0;34m\u001b[0m\u001b[0;34m\u001b[0m\u001b[0m\n\u001b[1;32m     19\u001b[0m \u001b[0;34m\u001b[0m\u001b[0m\n",
            "\u001b[0;31mTypeError\u001b[0m: 'Accuracy' object is not callable"
          ]
        }
      ],
      "source": [
        "# Make predictions on the test dataset\n",
        "raw_pred, _, _ = trainer.predict(test_dataset)\n",
        "\n",
        "# Convert raw predictions to class labels\n",
        "DistB_fine_pred = np.argmax(raw_pred, axis=1)\n",
        "\n",
        "# Optional: Print the final predictions\n",
        "#print(DistB_fine_pred)\n"
      ]
    },
    {
      "cell_type": "markdown",
      "metadata": {
        "id": "-JRq-vTSlaEl"
      },
      "source": [
        "### Binary Classification Metrics\n"
      ]
    },
    {
      "cell_type": "markdown",
      "source": [
        "In analysis with class imbalance, accuracy alone can be misleading, as a model might achive a high accuracy by simply predicting the majority class most of the time. Adding metrics such ass confusion matric, the ROC curve or Presicion and Recal can therefore be useful. The confusion matrix helps to provide a granular view of how the model's predictions are distributed across the different classes.\n",
        "AUC-ROC score helps to evaluate how well your model can distinguish between positive and negative sentiments, regardless of the specific threshold chosen for classification."
      ],
      "metadata": {
        "id": "qnf6DweqerzJ"
      }
    },
    {
      "cell_type": "code",
      "source": [
        "# Import necessary libraries for evaluation metrics and visualizations\n",
        "from sklearn.metrics import accuracy_score, precision_score, recall_score, f1_score, roc_auc_score, confusion_matrix, classification_report, roc_curve\n",
        "import matplotlib.pyplot as plt\n",
        "import seaborn as sn"
      ],
      "metadata": {
        "id": "3FPmbWMpaKJA"
      },
      "execution_count": null,
      "outputs": []
    },
    {
      "cell_type": "code",
      "source": [
        "def evaluate_model(y_true, y_pred, model_name=\"Model\"):\n",
        "    \"\"\"\n",
        "    Evaluates a binary classification model using multiple metrics and visualizations.\n",
        "\n",
        "    This function:\n",
        "    - Computes accuracy, AUC-ROC, precision, recall, and F1 score.\n",
        "    - Displays a confusion matrix as a heatmap.\n",
        "    - Prints a detailed classification report.\n",
        "    - Plots the ROC curve for the model.\n",
        "\n",
        "    Parameters:\n",
        "    y_true (np.array or list): True binary labels.\n",
        "    y_pred (np.array or list): Predicted binary labels.\n",
        "    model_name (str): Name of the model being evaluated (default is \"Model\").\n",
        "\n",
        "    Returns:\n",
        "    None\n",
        "    \"\"\"\n",
        "    # Calculate metrics\n",
        "    acc = accuracy_score(y_true, y_pred)\n",
        "    precision = precision_score(y_true, y_pred)\n",
        "    recall = recall_score(y_true, y_pred)\n",
        "    f1 = f1_score(y_true, y_pred)\n",
        "    auc = roc_auc_score(y_true, y_pred)\n",
        "\n",
        "    # Print classification report\n",
        "    print(f\"{model_name} Classification Report:\")\n",
        "    print(classification_report(y_true, y_pred))\n",
        "\n",
        "    # Print individual metrics\n",
        "    print(f\"Accuracy: {acc:.4f}\")\n",
        "    print(f\"Precision: {precision:.4f}\")\n",
        "    print(f\"Recall: {recall:.4f}\")\n",
        "    print(f\"F1 Score: {f1:.4f}\")\n",
        "    print(f\"AUC-ROC: {auc:.4f}\")\n",
        "\n",
        "    # Confusion matrix\n",
        "    cm = confusion_matrix(y_true, y_pred)\n",
        "    print(f\"{model_name} Confusion Matrix:\")\n",
        "    plt.figure(figsize=(6, 4))\n",
        "    sn.heatmap(cm, annot=True, fmt='d', cmap='Blues', cbar=False, annot_kws={\"size\": 16})\n",
        "    plt.title(f'{model_name} Confusion Matrix')\n",
        "    plt.xlabel('Predicted')\n",
        "    plt.ylabel('True')\n",
        "    plt.show()\n",
        "\n",
        "    # ROC Curve\n",
        "    fpr, tpr, _ = roc_curve(y_true, y_pred)\n",
        "    plt.figure(figsize=(6, 4))\n",
        "    plt.plot(fpr, tpr, color='darkorange', lw=2, label=f'{model_name} (AUC = {auc:.2f})')\n",
        "    plt.plot([0, 1], [0, 1], color='navy', lw=2, linestyle='--')\n",
        "    plt.xlim([0.0, 1.0])\n",
        "    plt.ylim([0.0, 1.05])\n",
        "    plt.xlabel('False Positive Rate')\n",
        "    plt.ylabel('True Positive Rate')\n",
        "    plt.title(f'{model_name} ROC Curve')\n",
        "    plt.legend(loc=\"lower right\")\n",
        "    plt.show()\n"
      ],
      "metadata": {
        "id": "e8nvZAAraV-y"
      },
      "execution_count": null,
      "outputs": []
    },
    {
      "cell_type": "code",
      "execution_count": null,
      "metadata": {
        "id": "GpCf66WXEeF4",
        "colab": {
          "base_uri": "https://localhost:8080/",
          "height": 1000
        },
        "outputId": "8cc47968-b688-40f1-d3cc-2cbb72d11f68"
      },
      "outputs": [
        {
          "output_type": "stream",
          "name": "stdout",
          "text": [
            "VADER Sentiment Analysis:\n",
            "VADER Classification Report:\n",
            "              precision    recall  f1-score   support\n",
            "\n",
            "           0       0.29      0.65      0.40        96\n",
            "           1       0.88      0.62      0.72       404\n",
            "\n",
            "    accuracy                           0.62       500\n",
            "   macro avg       0.58      0.63      0.56       500\n",
            "weighted avg       0.77      0.62      0.66       500\n",
            "\n",
            "Accuracy: 0.6220\n",
            "Precision: 0.8799\n",
            "Recall: 0.6163\n",
            "F1 Score: 0.7249\n",
            "AUC-ROC: 0.6311\n",
            "VADER Confusion Matrix:\n"
          ]
        },
        {
          "output_type": "display_data",
          "data": {
            "text/plain": [
              "<Figure size 600x400 with 1 Axes>"
            ],
            "image/png": "[encoded data removed]"
          },
          "metadata": {}
        },
        {
          "output_type": "display_data",
          "data": {
            "text/plain": [
              "<Figure size 600x400 with 1 Axes>"
            ],
            "image/png": "[encoded data removed]"
          },
          "metadata": {}
        },
        {
          "output_type": "stream",
          "name": "stdout",
          "text": [
            "\n",
            "RNN Model:\n",
            "RNN Classification Report:\n",
            "              precision    recall  f1-score   support\n",
            "\n",
            "           0       0.56      0.26      0.35        96\n",
            "           1       0.84      0.95      0.89       404\n",
            "\n",
            "    accuracy                           0.82       500\n",
            "   macro avg       0.70      0.61      0.62       500\n",
            "weighted avg       0.79      0.82      0.79       500\n",
            "\n",
            "Accuracy: 0.8180\n",
            "Precision: 0.8440\n",
            "Recall: 0.9505\n",
            "F1 Score: 0.8941\n",
            "AUC-ROC: 0.6055\n",
            "RNN Confusion Matrix:\n"
          ]
        },
        {
          "output_type": "display_data",
          "data": {
            "text/plain": [
              "<Figure size 600x400 with 1 Axes>"
            ],
            "image/png": "[encoded data removed]"
          },
          "metadata": {}
        },
        {
          "output_type": "display_data",
          "data": {
            "text/plain": [
              "<Figure size 600x400 with 1 Axes>"
            ],
            "image/png": "[encoded data removed]"
          },
          "metadata": {}
        },
        {
          "output_type": "stream",
          "name": "stdout",
          "text": [
            "\n",
            "Original DistilBERT Model:\n",
            "Original DistilBERT Classification Report:\n",
            "              precision    recall  f1-score   support\n",
            "\n",
            "           0       0.10      0.47      0.17        96\n",
            "           1       0.27      0.05      0.08       404\n",
            "\n",
            "    accuracy                           0.13       500\n",
            "   macro avg       0.19      0.26      0.13       500\n",
            "weighted avg       0.24      0.13      0.10       500\n",
            "\n",
            "Accuracy: 0.1280\n",
            "Precision: 0.2714\n",
            "Recall: 0.0470\n",
            "F1 Score: 0.0802\n",
            "AUC-ROC: 0.2579\n",
            "Original DistilBERT Confusion Matrix:\n"
          ]
        },
        {
          "output_type": "display_data",
          "data": {
            "text/plain": [
              "<Figure size 600x400 with 1 Axes>"
            ],
            "image/png": "[encoded data removed]"
          },
          "metadata": {}
        },
        {
          "output_type": "display_data",
          "data": {
            "text/plain": [
              "<Figure size 600x400 with 1 Axes>"
            ],
            "image/png": "[encoded data removed]"
          },
          "metadata": {}
        },
        {
          "output_type": "stream",
          "name": "stdout",
          "text": [
            "\n",
            "Fine-tuned DistilBERT Model:\n",
            "Fine-tuned DistilBERT Classification Report:\n",
            "              precision    recall  f1-score   support\n",
            "\n",
            "           0       0.78      0.36      0.50        96\n",
            "           1       0.87      0.98      0.92       404\n",
            "\n",
            "    accuracy                           0.86       500\n",
            "   macro avg       0.82      0.67      0.71       500\n",
            "weighted avg       0.85      0.86      0.84       500\n",
            "\n",
            "Accuracy: 0.8580\n",
            "Precision: 0.8659\n",
            "Recall: 0.9752\n",
            "F1 Score: 0.9173\n",
            "AUC-ROC: 0.6699\n",
            "Fine-tuned DistilBERT Confusion Matrix:\n"
          ]
        },
        {
          "output_type": "display_data",
          "data": {
            "text/plain": [
              "<Figure size 600x400 with 1 Axes>"
            ],
            "image/png": "[encoded data removed]"
          },
          "metadata": {}
        },
        {
          "output_type": "display_data",
          "data": {
            "text/plain": [
              "<Figure size 600x400 with 1 Axes>"
            ],
            "image/png": "[encoded data removed]"
          },
          "metadata": {}
        }
      ],
      "source": [
        "# Evaluate different models\n",
        "print(\"VADER Sentiment Analysis:\")\n",
        "evaluate_model(y_test, pred_vader, model_name=\"VADER\")\n",
        "\n",
        "print(\"\\nRNN Model:\")\n",
        "evaluate_model(y_test, rnn_binary_pred, model_name=\"RNN\")\n",
        "\n",
        "print(\"\\nOriginal DistilBERT Model:\")\n",
        "evaluate_model(y_test, db_pred_df['label'], model_name=\"Original DistilBERT\")\n",
        "\n",
        "print(\"\\nFine-tuned DistilBERT Model:\")\n",
        "evaluate_model(y_test, DistB_fine_pred, model_name=\"Fine-tuned DistilBERT\")"
      ]
    },
    {
      "cell_type": "markdown",
      "source": [
        "### Conclusion"
      ],
      "metadata": {
        "id": "Ha6yjNQFna1l"
      }
    },
    {
      "cell_type": "markdown",
      "source": [
        "For my sentiment analysis of Bitcoin-related tweets, I experimented with four different models: VADER, an RNN, the original DistilBERT transformer, and a fine-tuned version of DistilBERT. Here's how each one performed:\n",
        "\n",
        "Starting with VADER, it did a decent job, especially in picking up positive sentiments, with a precision score of 0.88. But it struggled with negative sentiments, with a recall of just 0.29, meaning it often missed the negative tweets. Overall, VADER ended up with an accuracy of 62.2% and an AUC-ROC of 0.63. So, while it's okay at telling positive from negative, it’s not great—especially at catching the negative stuff. It’s good if you want precision in positive sentiment, but we shouldn't count on it to spot the negative tweets reliably.\n",
        "\n",
        "The RNN model, on the other hand, performed noticeably better. It achieved an accuracy of 81.8% and a F1 score of 0.89 for positive tweets. Its recall for positive sentiments was at 0.95, meaning it was pretty good at identifying positive tweets. But like VADER, it had a tough time with negatives, with its recall dropping to 0.26. The AUC-ROC was 0.61, which suggests that while the RNN is pretty good, it's not outstanding at distinguishing between positive and negative sentiments. So, it's great at spotting positive vibes, but not so much the negative ones.\n",
        "\n",
        "Now, the original DistilBERT model had a very low accuracy of just 12.8% and an AUC-ROC of 0.26. It struggled with poor precision and recall for both positive and negative sentiments. The F1 score was also really low, which just confirms that this model wasn’t effective at capturing the sentiment in these tweets. This performance shows that without fine-tuning, the base DistilBERT model just isn't cut out for this specific task.\n",
        "\n",
        "The fine-tuned DistilBERT model reached an accuracy of 85.8% and a high F1 score of 0.92 for positive sentiments. It had excellent recall (0.98) for positive tweets and even improved recall for negative ones compared to the RNN. Its AUC-ROC of 0.67 was the highest among all the models, making it the best at distinguishing between positive and negative sentiments. This fine-tuned version excelled in both precision and recall, making it the top performer for this task. However, there’s still some room for improvement when it comes to catching negative sentiments.\n",
        "\n",
        "To sum it up, the fine-tuned DistilBERT model clearly came out on top for this sentiment analysis. It provided the most reliable and accurate results overall. The RNN also did well, especially in identifying positive tweets, while VADER offered a solid, if less powerful, alternative. The original DistilBERT’s poor performance really highlights how crucial fine-tuning is for transformer models in specific tasks. In the end, the fine-tuned DistilBERT is the best choice for analyzing sentiment in Bitcoin tweets.\n",
        "What stood out is, that all models struggled to identify the negative tweets which is pribably due to the class imbalance of the training data. This may give even more room for improving and tuning the models in addition to the weights which were added to the rnn."
      ],
      "metadata": {
        "id": "nXppVprLlfvL"
      }
    },
    {
      "cell_type": "markdown",
      "source": [
        "###Downloading Zip file an requirement.txt"
      ],
      "metadata": {
        "id": "-8_gyGzysO6l"
      }
    },
    {
      "cell_type": "code",
      "source": [
        "!pip freeze > requirements.txt\n",
        "from google.colab import files\n",
        "files.download('requirements.txt')\n",
        "\n",
        "\n",
        "!zip -r Katharina_Lenz_Notebook.zip /content/drive/MyDrive/Katharina_Lenz.ipynb requirements.txt\n",
        "\n",
        "from google.colab import files\n",
        "files.download('Katharina_Lenz_Notebook.zip')\n"
      ],
      "metadata": {
        "colab": {
          "base_uri": "https://localhost:8080/",
          "height": 87
        },
        "id": "qm7D2AC1naDZ",
        "outputId": "b40e2298-2069-49b9-f507-2cb21192a38d"
      },
      "execution_count": null,
      "outputs": [
        {
          "output_type": "display_data",
          "data": {
            "text/plain": [
              "<IPython.core.display.Javascript object>"
            ],
            "application/javascript": [
              "\n",
              "    async function download(id, filename, size) {\n",
              "      if (!google.colab.kernel.accessAllowed) {\n",
              "        return;\n",
              "      }\n",
              "      const div = document.createElement('div');\n",
              "      const label = document.createElement('label');\n",
              "      label.textContent = `Downloading \"${filename}\": `;\n",
              "      div.appendChild(label);\n",
              "      const progress = document.createElement('progress');\n",
              "      progress.max = size;\n",
              "      div.appendChild(progress);\n",
              "      document.body.appendChild(div);\n",
              "\n",
              "      const buffers = [];\n",
              "      let downloaded = 0;\n",
              "\n",
              "      const channel = await google.colab.kernel.comms.open(id);\n",
              "      // Send a message to notify the kernel that we're ready.\n",
              "      channel.send({})\n",
              "\n",
              "      for await (const message of channel.messages) {\n",
              "        // Send a message to notify the kernel that we're ready.\n",
              "        channel.send({})\n",
              "        if (message.buffers) {\n",
              "          for (const buffer of message.buffers) {\n",
              "            buffers.push(buffer);\n",
              "            downloaded += buffer.byteLength;\n",
              "            progress.value = downloaded;\n",
              "          }\n",
              "        }\n",
              "      }\n",
              "      const blob = new Blob(buffers, {type: 'application/binary'});\n",
              "      const a = document.createElement('a');\n",
              "      a.href = window.URL.createObjectURL(blob);\n",
              "      a.download = filename;\n",
              "      div.appendChild(a);\n",
              "      a.click();\n",
              "      div.remove();\n",
              "    }\n",
              "  "
            ]
          },
          "metadata": {}
        },
        {
          "output_type": "display_data",
          "data": {
            "text/plain": [
              "<IPython.core.display.Javascript object>"
            ],
            "application/javascript": [
              "download(\"download_7d794145-43a3-40d8-90fe-90bdacc98eea\", \"requirements.txt\", 10579)"
            ]
          },
          "metadata": {}
        },
        {
          "output_type": "stream",
          "name": "stdout",
          "text": [
            "updating: content/drive/MyDrive/Katharina_Lenz.ipynb (deflated 54%)\n",
            "updating: requirements.txt (deflated 54%)\n"
          ]
        },
        {
          "output_type": "display_data",
          "data": {
            "text/plain": [
              "<IPython.core.display.Javascript object>"
            ],
            "application/javascript": [
              "\n",
              "    async function download(id, filename, size) {\n",
              "      if (!google.colab.kernel.accessAllowed) {\n",
              "        return;\n",
              "      }\n",
              "      const div = document.createElement('div');\n",
              "      const label = document.createElement('label');\n",
              "      label.textContent = `Downloading \"${filename}\": `;\n",
              "      div.appendChild(label);\n",
              "      const progress = document.createElement('progress');\n",
              "      progress.max = size;\n",
              "      div.appendChild(progress);\n",
              "      document.body.appendChild(div);\n",
              "\n",
              "      const buffers = [];\n",
              "      let downloaded = 0;\n",
              "\n",
              "      const channel = await google.colab.kernel.comms.open(id);\n",
              "      // Send a message to notify the kernel that we're ready.\n",
              "      channel.send({})\n",
              "\n",
              "      for await (const message of channel.messages) {\n",
              "        // Send a message to notify the kernel that we're ready.\n",
              "        channel.send({})\n",
              "        if (message.buffers) {\n",
              "          for (const buffer of message.buffers) {\n",
              "            buffers.push(buffer);\n",
              "            downloaded += buffer.byteLength;\n",
              "            progress.value = downloaded;\n",
              "          }\n",
              "        }\n",
              "      }\n",
              "      const blob = new Blob(buffers, {type: 'application/binary'});\n",
              "      const a = document.createElement('a');\n",
              "      a.href = window.URL.createObjectURL(blob);\n",
              "      a.download = filename;\n",
              "      div.appendChild(a);\n",
              "      a.click();\n",
              "      div.remove();\n",
              "    }\n",
              "  "
            ]
          },
          "metadata": {}
        },
        {
          "output_type": "display_data",
          "data": {
            "text/plain": [
              "<IPython.core.display.Javascript object>"
            ],
            "application/javascript": [
              "download(\"download_593cdad8-b5ac-4d5a-9bfa-091fdb504cb4\", \"Katharina_Lenz_Notebook.zip\", 227296)"
            ]
          },
          "metadata": {}
        }
      ]
    }
  ],
  "metadata": {
    "accelerator": "GPU",
    "colab": {
      "gpuType": "T4",
      "machine_shape": "hm",
      "provenance": [],
      "authorship_tag": "ABX9TyMOIpoyRJp0gGm4xjcXLie3",
      "include_colab_link": true
    },
    "kernelspec": {
      "display_name": "Python 3",
      "name": "python3"
    },
    "language_info": {
      "name": "python"
    },
    "widgets": {
      "application/vnd.jupyter.widget-state+json": {
        "05d36319631e4d3c8cb9cda4582276ff": {
          "model_module": "@jupyter-widgets/controls",
          "model_name": "HBoxModel",
          "model_module_version": "1.5.0",
          "state": {
            "_dom_classes": [],
            "_model_module": "@jupyter-widgets/controls",
            "_model_module_version": "1.5.0",
            "_model_name": "HBoxModel",
            "_view_count": null,
            "_view_module": "@jupyter-widgets/controls",
            "_view_module_version": "1.5.0",
            "_view_name": "HBoxView",
            "box_style": "",
            "children": [
              "IPY_MODEL_d560737cd1bf410780b2967bc95688bf",
              "IPY_MODEL_12392071c7774a0ab66a8af4136f5ad2",
              "IPY_MODEL_be2be03d54de4b828647c061cbde3396"
            ],
            "layout": "IPY_MODEL_612e4c66449441a3a99f767a47b1c497"
          }
        },
        "d560737cd1bf410780b2967bc95688bf": {
          "model_module": "@jupyter-widgets/controls",
          "model_name": "HTMLModel",
          "model_module_version": "1.5.0",
          "state": {
            "_dom_classes": [],
            "_model_module": "@jupyter-widgets/controls",
            "_model_module_version": "1.5.0",
            "_model_name": "HTMLModel",
            "_view_count": null,
            "_view_module": "@jupyter-widgets/controls",
            "_view_module_version": "1.5.0",
            "_view_name": "HTMLView",
            "description": "",
            "description_tooltip": null,
            "layout": "IPY_MODEL_9192f924573c4f4cb6d4f000310b264b",
            "placeholder": "​",
            "style": "IPY_MODEL_e5df577310e743ad851a089040712e83",
            "value": "config.json: 100%"
          }
        },
        "12392071c7774a0ab66a8af4136f5ad2": {
          "model_module": "@jupyter-widgets/controls",
          "model_name": "FloatProgressModel",
          "model_module_version": "1.5.0",
          "state": {
            "_dom_classes": [],
            "_model_module": "@jupyter-widgets/controls",
            "_model_module_version": "1.5.0",
            "_model_name": "FloatProgressModel",
            "_view_count": null,
            "_view_module": "@jupyter-widgets/controls",
            "_view_module_version": "1.5.0",
            "_view_name": "ProgressView",
            "bar_style": "success",
            "description": "",
            "description_tooltip": null,
            "layout": "IPY_MODEL_2d9c79e988534fc2a66afd1b446b854e",
            "max": 640,
            "min": 0,
            "orientation": "horizontal",
            "style": "IPY_MODEL_d89e8d764ea94557b84c1598898e7511",
            "value": 640
          }
        },
        "be2be03d54de4b828647c061cbde3396": {
          "model_module": "@jupyter-widgets/controls",
          "model_name": "HTMLModel",
          "model_module_version": "1.5.0",
          "state": {
            "_dom_classes": [],
            "_model_module": "@jupyter-widgets/controls",
            "_model_module_version": "1.5.0",
            "_model_name": "HTMLModel",
            "_view_count": null,
            "_view_module": "@jupyter-widgets/controls",
            "_view_module_version": "1.5.0",
            "_view_name": "HTMLView",
            "description": "",
            "description_tooltip": null,
            "layout": "IPY_MODEL_59dd378f398f4788a03dad50f0a82d19",
            "placeholder": "​",
            "style": "IPY_MODEL_53c0301efb6e437f84819fdb630d0aaf",
            "value": " 640/640 [00:00&lt;00:00, 52.5kB/s]"
          }
        },
        "612e4c66449441a3a99f767a47b1c497": {
          "model_module": "@jupyter-widgets/base",
          "model_name": "LayoutModel",
          "model_module_version": "1.2.0",
          "state": {
            "_model_module": "@jupyter-widgets/base",
            "_model_module_version": "1.2.0",
            "_model_name": "LayoutModel",
            "_view_count": null,
            "_view_module": "@jupyter-widgets/base",
            "_view_module_version": "1.2.0",
            "_view_name": "LayoutView",
            "align_content": null,
            "align_items": null,
            "align_self": null,
            "border": null,
            "bottom": null,
            "display": null,
            "flex": null,
            "flex_flow": null,
            "grid_area": null,
            "grid_auto_columns": null,
            "grid_auto_flow": null,
            "grid_auto_rows": null,
            "grid_column": null,
            "grid_gap": null,
            "grid_row": null,
            "grid_template_areas": null,
            "grid_template_columns": null,
            "grid_template_rows": null,
            "height": null,
            "justify_content": null,
            "justify_items": null,
            "left": null,
            "margin": null,
            "max_height": null,
            "max_width": null,
            "min_height": null,
            "min_width": null,
            "object_fit": null,
            "object_position": null,
            "order": null,
            "overflow": null,
            "overflow_x": null,
            "overflow_y": null,
            "padding": null,
            "right": null,
            "top": null,
            "visibility": null,
            "width": null
          }
        },
        "9192f924573c4f4cb6d4f000310b264b": {
          "model_module": "@jupyter-widgets/base",
          "model_name": "LayoutModel",
          "model_module_version": "1.2.0",
          "state": {
            "_model_module": "@jupyter-widgets/base",
            "_model_module_version": "1.2.0",
            "_model_name": "LayoutModel",
            "_view_count": null,
            "_view_module": "@jupyter-widgets/base",
            "_view_module_version": "1.2.0",
            "_view_name": "LayoutView",
            "align_content": null,
            "align_items": null,
            "align_self": null,
            "border": null,
            "bottom": null,
            "display": null,
            "flex": null,
            "flex_flow": null,
            "grid_area": null,
            "grid_auto_columns": null,
            "grid_auto_flow": null,
            "grid_auto_rows": null,
            "grid_column": null,
            "grid_gap": null,
            "grid_row": null,
            "grid_template_areas": null,
            "grid_template_columns": null,
            "grid_template_rows": null,
            "height": null,
            "justify_content": null,
            "justify_items": null,
            "left": null,
            "margin": null,
            "max_height": null,
            "max_width": null,
            "min_height": null,
            "min_width": null,
            "object_fit": null,
            "object_position": null,
            "order": null,
            "overflow": null,
            "overflow_x": null,
            "overflow_y": null,
            "padding": null,
            "right": null,
            "top": null,
            "visibility": null,
            "width": null
          }
        },
        "e5df577310e743ad851a089040712e83": {
          "model_module": "@jupyter-widgets/controls",
          "model_name": "DescriptionStyleModel",
          "model_module_version": "1.5.0",
          "state": {
            "_model_module": "@jupyter-widgets/controls",
            "_model_module_version": "1.5.0",
            "_model_name": "DescriptionStyleModel",
            "_view_count": null,
            "_view_module": "@jupyter-widgets/base",
            "_view_module_version": "1.2.0",
            "_view_name": "StyleView",
            "description_width": ""
          }
        },
        "2d9c79e988534fc2a66afd1b446b854e": {
          "model_module": "@jupyter-widgets/base",
          "model_name": "LayoutModel",
          "model_module_version": "1.2.0",
          "state": {
            "_model_module": "@jupyter-widgets/base",
            "_model_module_version": "1.2.0",
            "_model_name": "LayoutModel",
            "_view_count": null,
            "_view_module": "@jupyter-widgets/base",
            "_view_module_version": "1.2.0",
            "_view_name": "LayoutView",
            "align_content": null,
            "align_items": null,
            "align_self": null,
            "border": null,
            "bottom": null,
            "display": null,
            "flex": null,
            "flex_flow": null,
            "grid_area": null,
            "grid_auto_columns": null,
            "grid_auto_flow": null,
            "grid_auto_rows": null,
            "grid_column": null,
            "grid_gap": null,
            "grid_row": null,
            "grid_template_areas": null,
            "grid_template_columns": null,
            "grid_template_rows": null,
            "height": null,
            "justify_content": null,
            "justify_items": null,
            "left": null,
            "margin": null,
            "max_height": null,
            "max_width": null,
            "min_height": null,
            "min_width": null,
            "object_fit": null,
            "object_position": null,
            "order": null,
            "overflow": null,
            "overflow_x": null,
            "overflow_y": null,
            "padding": null,
            "right": null,
            "top": null,
            "visibility": null,
            "width": null
          }
        },
        "d89e8d764ea94557b84c1598898e7511": {
          "model_module": "@jupyter-widgets/controls",
          "model_name": "ProgressStyleModel",
          "model_module_version": "1.5.0",
          "state": {
            "_model_module": "@jupyter-widgets/controls",
            "_model_module_version": "1.5.0",
            "_model_name": "ProgressStyleModel",
            "_view_count": null,
            "_view_module": "@jupyter-widgets/base",
            "_view_module_version": "1.2.0",
            "_view_name": "StyleView",
            "bar_color": null,
            "description_width": ""
          }
        },
        "59dd378f398f4788a03dad50f0a82d19": {
          "model_module": "@jupyter-widgets/base",
          "model_name": "LayoutModel",
          "model_module_version": "1.2.0",
          "state": {
            "_model_module": "@jupyter-widgets/base",
            "_model_module_version": "1.2.0",
            "_model_name": "LayoutModel",
            "_view_count": null,
            "_view_module": "@jupyter-widgets/base",
            "_view_module_version": "1.2.0",
            "_view_name": "LayoutView",
            "align_content": null,
            "align_items": null,
            "align_self": null,
            "border": null,
            "bottom": null,
            "display": null,
            "flex": null,
            "flex_flow": null,
            "grid_area": null,
            "grid_auto_columns": null,
            "grid_auto_flow": null,
            "grid_auto_rows": null,
            "grid_column": null,
            "grid_gap": null,
            "grid_row": null,
            "grid_template_areas": null,
            "grid_template_columns": null,
            "grid_template_rows": null,
            "height": null,
            "justify_content": null,
            "justify_items": null,
            "left": null,
            "margin": null,
            "max_height": null,
            "max_width": null,
            "min_height": null,
            "min_width": null,
            "object_fit": null,
            "object_position": null,
            "order": null,
            "overflow": null,
            "overflow_x": null,
            "overflow_y": null,
            "padding": null,
            "right": null,
            "top": null,
            "visibility": null,
            "width": null
          }
        },
        "53c0301efb6e437f84819fdb630d0aaf": {
          "model_module": "@jupyter-widgets/controls",
          "model_name": "DescriptionStyleModel",
          "model_module_version": "1.5.0",
          "state": {
            "_model_module": "@jupyter-widgets/controls",
            "_model_module_version": "1.5.0",
            "_model_name": "DescriptionStyleModel",
            "_view_count": null,
            "_view_module": "@jupyter-widgets/base",
            "_view_module_version": "1.2.0",
            "_view_name": "StyleView",
            "description_width": ""
          }
        },
        "8bfa0f7cfd4748baa2bb09e9377c1173": {
          "model_module": "@jupyter-widgets/controls",
          "model_name": "HBoxModel",
          "model_module_version": "1.5.0",
          "state": {
            "_dom_classes": [],
            "_model_module": "@jupyter-widgets/controls",
            "_model_module_version": "1.5.0",
            "_model_name": "HBoxModel",
            "_view_count": null,
            "_view_module": "@jupyter-widgets/controls",
            "_view_module_version": "1.5.0",
            "_view_name": "HBoxView",
            "box_style": "",
            "children": [
              "IPY_MODEL_b67535d460c244db801d8688775c56f4",
              "IPY_MODEL_5eccb5faf0a74f679ee7ee45becfcca5",
              "IPY_MODEL_c28f196dd50847fdb01e02df9467b769"
            ],
            "layout": "IPY_MODEL_62d3b3fe982e4193965009d0d77c403d"
          }
        },
        "b67535d460c244db801d8688775c56f4": {
          "model_module": "@jupyter-widgets/controls",
          "model_name": "HTMLModel",
          "model_module_version": "1.5.0",
          "state": {
            "_dom_classes": [],
            "_model_module": "@jupyter-widgets/controls",
            "_model_module_version": "1.5.0",
            "_model_name": "HTMLModel",
            "_view_count": null,
            "_view_module": "@jupyter-widgets/controls",
            "_view_module_version": "1.5.0",
            "_view_name": "HTMLView",
            "description": "",
            "description_tooltip": null,
            "layout": "IPY_MODEL_2bbb53612af64293b1c97ee80c91fac7",
            "placeholder": "​",
            "style": "IPY_MODEL_c9bbdf1655874712a527156961decb55",
            "value": "model.safetensors: 100%"
          }
        },
        "5eccb5faf0a74f679ee7ee45becfcca5": {
          "model_module": "@jupyter-widgets/controls",
          "model_name": "FloatProgressModel",
          "model_module_version": "1.5.0",
          "state": {
            "_dom_classes": [],
            "_model_module": "@jupyter-widgets/controls",
            "_model_module_version": "1.5.0",
            "_model_name": "FloatProgressModel",
            "_view_count": null,
            "_view_module": "@jupyter-widgets/controls",
            "_view_module_version": "1.5.0",
            "_view_name": "ProgressView",
            "bar_style": "success",
            "description": "",
            "description_tooltip": null,
            "layout": "IPY_MODEL_27c15e3543724760983007784405fd19",
            "max": 267832560,
            "min": 0,
            "orientation": "horizontal",
            "style": "IPY_MODEL_a96dddc82ea2436a8629ae8e0d90d08b",
            "value": 267832560
          }
        },
        "c28f196dd50847fdb01e02df9467b769": {
          "model_module": "@jupyter-widgets/controls",
          "model_name": "HTMLModel",
          "model_module_version": "1.5.0",
          "state": {
            "_dom_classes": [],
            "_model_module": "@jupyter-widgets/controls",
            "_model_module_version": "1.5.0",
            "_model_name": "HTMLModel",
            "_view_count": null,
            "_view_module": "@jupyter-widgets/controls",
            "_view_module_version": "1.5.0",
            "_view_name": "HTMLView",
            "description": "",
            "description_tooltip": null,
            "layout": "IPY_MODEL_bfd19ed007cc4f18bcc3b5dc30b067ba",
            "placeholder": "​",
            "style": "IPY_MODEL_465afa3802484267b35cf9a66b399ac8",
            "value": " 268M/268M [00:09&lt;00:00, 28.6MB/s]"
          }
        },
        "62d3b3fe982e4193965009d0d77c403d": {
          "model_module": "@jupyter-widgets/base",
          "model_name": "LayoutModel",
          "model_module_version": "1.2.0",
          "state": {
            "_model_module": "@jupyter-widgets/base",
            "_model_module_version": "1.2.0",
            "_model_name": "LayoutModel",
            "_view_count": null,
            "_view_module": "@jupyter-widgets/base",
            "_view_module_version": "1.2.0",
            "_view_name": "LayoutView",
            "align_content": null,
            "align_items": null,
            "align_self": null,
            "border": null,
            "bottom": null,
            "display": null,
            "flex": null,
            "flex_flow": null,
            "grid_area": null,
            "grid_auto_columns": null,
            "grid_auto_flow": null,
            "grid_auto_rows": null,
            "grid_column": null,
            "grid_gap": null,
            "grid_row": null,
            "grid_template_areas": null,
            "grid_template_columns": null,
            "grid_template_rows": null,
            "height": null,
            "justify_content": null,
            "justify_items": null,
            "left": null,
            "margin": null,
            "max_height": null,
            "max_width": null,
            "min_height": null,
            "min_width": null,
            "object_fit": null,
            "object_position": null,
            "order": null,
            "overflow": null,
            "overflow_x": null,
            "overflow_y": null,
            "padding": null,
            "right": null,
            "top": null,
            "visibility": null,
            "width": null
          }
        },
        "2bbb53612af64293b1c97ee80c91fac7": {
          "model_module": "@jupyter-widgets/base",
          "model_name": "LayoutModel",
          "model_module_version": "1.2.0",
          "state": {
            "_model_module": "@jupyter-widgets/base",
            "_model_module_version": "1.2.0",
            "_model_name": "LayoutModel",
            "_view_count": null,
            "_view_module": "@jupyter-widgets/base",
            "_view_module_version": "1.2.0",
            "_view_name": "LayoutView",
            "align_content": null,
            "align_items": null,
            "align_self": null,
            "border": null,
            "bottom": null,
            "display": null,
            "flex": null,
            "flex_flow": null,
            "grid_area": null,
            "grid_auto_columns": null,
            "grid_auto_flow": null,
            "grid_auto_rows": null,
            "grid_column": null,
            "grid_gap": null,
            "grid_row": null,
            "grid_template_areas": null,
            "grid_template_columns": null,
            "grid_template_rows": null,
            "height": null,
            "justify_content": null,
            "justify_items": null,
            "left": null,
            "margin": null,
            "max_height": null,
            "max_width": null,
            "min_height": null,
            "min_width": null,
            "object_fit": null,
            "object_position": null,
            "order": null,
            "overflow": null,
            "overflow_x": null,
            "overflow_y": null,
            "padding": null,
            "right": null,
            "top": null,
            "visibility": null,
            "width": null
          }
        },
        "c9bbdf1655874712a527156961decb55": {
          "model_module": "@jupyter-widgets/controls",
          "model_name": "DescriptionStyleModel",
          "model_module_version": "1.5.0",
          "state": {
            "_model_module": "@jupyter-widgets/controls",
            "_model_module_version": "1.5.0",
            "_model_name": "DescriptionStyleModel",
            "_view_count": null,
            "_view_module": "@jupyter-widgets/base",
            "_view_module_version": "1.2.0",
            "_view_name": "StyleView",
            "description_width": ""
          }
        },
        "27c15e3543724760983007784405fd19": {
          "model_module": "@jupyter-widgets/base",
          "model_name": "LayoutModel",
          "model_module_version": "1.2.0",
          "state": {
            "_model_module": "@jupyter-widgets/base",
            "_model_module_version": "1.2.0",
            "_model_name": "LayoutModel",
            "_view_count": null,
            "_view_module": "@jupyter-widgets/base",
            "_view_module_version": "1.2.0",
            "_view_name": "LayoutView",
            "align_content": null,
            "align_items": null,
            "align_self": null,
            "border": null,
            "bottom": null,
            "display": null,
            "flex": null,
            "flex_flow": null,
            "grid_area": null,
            "grid_auto_columns": null,
            "grid_auto_flow": null,
            "grid_auto_rows": null,
            "grid_column": null,
            "grid_gap": null,
            "grid_row": null,
            "grid_template_areas": null,
            "grid_template_columns": null,
            "grid_template_rows": null,
            "height": null,
            "justify_content": null,
            "justify_items": null,
            "left": null,
            "margin": null,
            "max_height": null,
            "max_width": null,
            "min_height": null,
            "min_width": null,
            "object_fit": null,
            "object_position": null,
            "order": null,
            "overflow": null,
            "overflow_x": null,
            "overflow_y": null,
            "padding": null,
            "right": null,
            "top": null,
            "visibility": null,
            "width": null
          }
        },
        "a96dddc82ea2436a8629ae8e0d90d08b": {
          "model_module": "@jupyter-widgets/controls",
          "model_name": "ProgressStyleModel",
          "model_module_version": "1.5.0",
          "state": {
            "_model_module": "@jupyter-widgets/controls",
            "_model_module_version": "1.5.0",
            "_model_name": "ProgressStyleModel",
            "_view_count": null,
            "_view_module": "@jupyter-widgets/base",
            "_view_module_version": "1.2.0",
            "_view_name": "StyleView",
            "bar_color": null,
            "description_width": ""
          }
        },
        "bfd19ed007cc4f18bcc3b5dc30b067ba": {
          "model_module": "@jupyter-widgets/base",
          "model_name": "LayoutModel",
          "model_module_version": "1.2.0",
          "state": {
            "_model_module": "@jupyter-widgets/base",
            "_model_module_version": "1.2.0",
            "_model_name": "LayoutModel",
            "_view_count": null,
            "_view_module": "@jupyter-widgets/base",
            "_view_module_version": "1.2.0",
            "_view_name": "LayoutView",
            "align_content": null,
            "align_items": null,
            "align_self": null,
            "border": null,
            "bottom": null,
            "display": null,
            "flex": null,
            "flex_flow": null,
            "grid_area": null,
            "grid_auto_columns": null,
            "grid_auto_flow": null,
            "grid_auto_rows": null,
            "grid_column": null,
            "grid_gap": null,
            "grid_row": null,
            "grid_template_areas": null,
            "grid_template_columns": null,
            "grid_template_rows": null,
            "height": null,
            "justify_content": null,
            "justify_items": null,
            "left": null,
            "margin": null,
            "max_height": null,
            "max_width": null,
            "min_height": null,
            "min_width": null,
            "object_fit": null,
            "object_position": null,
            "order": null,
            "overflow": null,
            "overflow_x": null,
            "overflow_y": null,
            "padding": null,
            "right": null,
            "top": null,
            "visibility": null,
            "width": null
          }
        },
        "465afa3802484267b35cf9a66b399ac8": {
          "model_module": "@jupyter-widgets/controls",
          "model_name": "DescriptionStyleModel",
          "model_module_version": "1.5.0",
          "state": {
            "_model_module": "@jupyter-widgets/controls",
            "_model_module_version": "1.5.0",
            "_model_name": "DescriptionStyleModel",
            "_view_count": null,
            "_view_module": "@jupyter-widgets/base",
            "_view_module_version": "1.2.0",
            "_view_name": "StyleView",
            "description_width": ""
          }
        },
        "6c927820b5694ccaba1b539d3baf346f": {
          "model_module": "@jupyter-widgets/controls",
          "model_name": "HBoxModel",
          "model_module_version": "1.5.0",
          "state": {
            "_dom_classes": [],
            "_model_module": "@jupyter-widgets/controls",
            "_model_module_version": "1.5.0",
            "_model_name": "HBoxModel",
            "_view_count": null,
            "_view_module": "@jupyter-widgets/controls",
            "_view_module_version": "1.5.0",
            "_view_name": "HBoxView",
            "box_style": "",
            "children": [
              "IPY_MODEL_793c27e515e046e9a94b205ebd387613",
              "IPY_MODEL_96cf7d8d0c7a41c299558878d4a5ae76",
              "IPY_MODEL_aea32aa11cc445abb0e949a89de6d687"
            ],
            "layout": "IPY_MODEL_80a4abd84c2e4b5b9af828f6eae38418"
          }
        },
        "793c27e515e046e9a94b205ebd387613": {
          "model_module": "@jupyter-widgets/controls",
          "model_name": "HTMLModel",
          "model_module_version": "1.5.0",
          "state": {
            "_dom_classes": [],
            "_model_module": "@jupyter-widgets/controls",
            "_model_module_version": "1.5.0",
            "_model_name": "HTMLModel",
            "_view_count": null,
            "_view_module": "@jupyter-widgets/controls",
            "_view_module_version": "1.5.0",
            "_view_name": "HTMLView",
            "description": "",
            "description_tooltip": null,
            "layout": "IPY_MODEL_e7a255b0dc3a4164ba8720e407e85fd3",
            "placeholder": "​",
            "style": "IPY_MODEL_5d64627551c34397a4b3aa9d87af8f6c",
            "value": "tokenizer_config.json: 100%"
          }
        },
        "96cf7d8d0c7a41c299558878d4a5ae76": {
          "model_module": "@jupyter-widgets/controls",
          "model_name": "FloatProgressModel",
          "model_module_version": "1.5.0",
          "state": {
            "_dom_classes": [],
            "_model_module": "@jupyter-widgets/controls",
            "_model_module_version": "1.5.0",
            "_model_name": "FloatProgressModel",
            "_view_count": null,
            "_view_module": "@jupyter-widgets/controls",
            "_view_module_version": "1.5.0",
            "_view_name": "ProgressView",
            "bar_style": "success",
            "description": "",
            "description_tooltip": null,
            "layout": "IPY_MODEL_65bf7854b38b437fa0f24f0325c34f0b",
            "max": 1248,
            "min": 0,
            "orientation": "horizontal",
            "style": "IPY_MODEL_3c68c0ef1858483cb0a595e763ac14f5",
            "value": 1248
          }
        },
        "aea32aa11cc445abb0e949a89de6d687": {
          "model_module": "@jupyter-widgets/controls",
          "model_name": "HTMLModel",
          "model_module_version": "1.5.0",
          "state": {
            "_dom_classes": [],
            "_model_module": "@jupyter-widgets/controls",
            "_model_module_version": "1.5.0",
            "_model_name": "HTMLModel",
            "_view_count": null,
            "_view_module": "@jupyter-widgets/controls",
            "_view_module_version": "1.5.0",
            "_view_name": "HTMLView",
            "description": "",
            "description_tooltip": null,
            "layout": "IPY_MODEL_9da06491309b4489b863bc1df96e0336",
            "placeholder": "​",
            "style": "IPY_MODEL_d862acad35d2464db254403d87888970",
            "value": " 1.25k/1.25k [00:00&lt;00:00, 105kB/s]"
          }
        },
        "80a4abd84c2e4b5b9af828f6eae38418": {
          "model_module": "@jupyter-widgets/base",
          "model_name": "LayoutModel",
          "model_module_version": "1.2.0",
          "state": {
            "_model_module": "@jupyter-widgets/base",
            "_model_module_version": "1.2.0",
            "_model_name": "LayoutModel",
            "_view_count": null,
            "_view_module": "@jupyter-widgets/base",
            "_view_module_version": "1.2.0",
            "_view_name": "LayoutView",
            "align_content": null,
            "align_items": null,
            "align_self": null,
            "border": null,
            "bottom": null,
            "display": null,
            "flex": null,
            "flex_flow": null,
            "grid_area": null,
            "grid_auto_columns": null,
            "grid_auto_flow": null,
            "grid_auto_rows": null,
            "grid_column": null,
            "grid_gap": null,
            "grid_row": null,
            "grid_template_areas": null,
            "grid_template_columns": null,
            "grid_template_rows": null,
            "height": null,
            "justify_content": null,
            "justify_items": null,
            "left": null,
            "margin": null,
            "max_height": null,
            "max_width": null,
            "min_height": null,
            "min_width": null,
            "object_fit": null,
            "object_position": null,
            "order": null,
            "overflow": null,
            "overflow_x": null,
            "overflow_y": null,
            "padding": null,
            "right": null,
            "top": null,
            "visibility": null,
            "width": null
          }
        },
        "e7a255b0dc3a4164ba8720e407e85fd3": {
          "model_module": "@jupyter-widgets/base",
          "model_name": "LayoutModel",
          "model_module_version": "1.2.0",
          "state": {
            "_model_module": "@jupyter-widgets/base",
            "_model_module_version": "1.2.0",
            "_model_name": "LayoutModel",
            "_view_count": null,
            "_view_module": "@jupyter-widgets/base",
            "_view_module_version": "1.2.0",
            "_view_name": "LayoutView",
            "align_content": null,
            "align_items": null,
            "align_self": null,
            "border": null,
            "bottom": null,
            "display": null,
            "flex": null,
            "flex_flow": null,
            "grid_area": null,
            "grid_auto_columns": null,
            "grid_auto_flow": null,
            "grid_auto_rows": null,
            "grid_column": null,
            "grid_gap": null,
            "grid_row": null,
            "grid_template_areas": null,
            "grid_template_columns": null,
            "grid_template_rows": null,
            "height": null,
            "justify_content": null,
            "justify_items": null,
            "left": null,
            "margin": null,
            "max_height": null,
            "max_width": null,
            "min_height": null,
            "min_width": null,
            "object_fit": null,
            "object_position": null,
            "order": null,
            "overflow": null,
            "overflow_x": null,
            "overflow_y": null,
            "padding": null,
            "right": null,
            "top": null,
            "visibility": null,
            "width": null
          }
        },
        "5d64627551c34397a4b3aa9d87af8f6c": {
          "model_module": "@jupyter-widgets/controls",
          "model_name": "DescriptionStyleModel",
          "model_module_version": "1.5.0",
          "state": {
            "_model_module": "@jupyter-widgets/controls",
            "_model_module_version": "1.5.0",
            "_model_name": "DescriptionStyleModel",
            "_view_count": null,
            "_view_module": "@jupyter-widgets/base",
            "_view_module_version": "1.2.0",
            "_view_name": "StyleView",
            "description_width": ""
          }
        },
        "65bf7854b38b437fa0f24f0325c34f0b": {
          "model_module": "@jupyter-widgets/base",
          "model_name": "LayoutModel",
          "model_module_version": "1.2.0",
          "state": {
            "_model_module": "@jupyter-widgets/base",
            "_model_module_version": "1.2.0",
            "_model_name": "LayoutModel",
            "_view_count": null,
            "_view_module": "@jupyter-widgets/base",
            "_view_module_version": "1.2.0",
            "_view_name": "LayoutView",
            "align_content": null,
            "align_items": null,
            "align_self": null,
            "border": null,
            "bottom": null,
            "display": null,
            "flex": null,
            "flex_flow": null,
            "grid_area": null,
            "grid_auto_columns": null,
            "grid_auto_flow": null,
            "grid_auto_rows": null,
            "grid_column": null,
            "grid_gap": null,
            "grid_row": null,
            "grid_template_areas": null,
            "grid_template_columns": null,
            "grid_template_rows": null,
            "height": null,
            "justify_content": null,
            "justify_items": null,
            "left": null,
            "margin": null,
            "max_height": null,
            "max_width": null,
            "min_height": null,
            "min_width": null,
            "object_fit": null,
            "object_position": null,
            "order": null,
            "overflow": null,
            "overflow_x": null,
            "overflow_y": null,
            "padding": null,
            "right": null,
            "top": null,
            "visibility": null,
            "width": null
          }
        },
        "3c68c0ef1858483cb0a595e763ac14f5": {
          "model_module": "@jupyter-widgets/controls",
          "model_name": "ProgressStyleModel",
          "model_module_version": "1.5.0",
          "state": {
            "_model_module": "@jupyter-widgets/controls",
            "_model_module_version": "1.5.0",
            "_model_name": "ProgressStyleModel",
            "_view_count": null,
            "_view_module": "@jupyter-widgets/base",
            "_view_module_version": "1.2.0",
            "_view_name": "StyleView",
            "bar_color": null,
            "description_width": ""
          }
        },
        "9da06491309b4489b863bc1df96e0336": {
          "model_module": "@jupyter-widgets/base",
          "model_name": "LayoutModel",
          "model_module_version": "1.2.0",
          "state": {
            "_model_module": "@jupyter-widgets/base",
            "_model_module_version": "1.2.0",
            "_model_name": "LayoutModel",
            "_view_count": null,
            "_view_module": "@jupyter-widgets/base",
            "_view_module_version": "1.2.0",
            "_view_name": "LayoutView",
            "align_content": null,
            "align_items": null,
            "align_self": null,
            "border": null,
            "bottom": null,
            "display": null,
            "flex": null,
            "flex_flow": null,
            "grid_area": null,
            "grid_auto_columns": null,
            "grid_auto_flow": null,
            "grid_auto_rows": null,
            "grid_column": null,
            "grid_gap": null,
            "grid_row": null,
            "grid_template_areas": null,
            "grid_template_columns": null,
            "grid_template_rows": null,
            "height": null,
            "justify_content": null,
            "justify_items": null,
            "left": null,
            "margin": null,
            "max_height": null,
            "max_width": null,
            "min_height": null,
            "min_width": null,
            "object_fit": null,
            "object_position": null,
            "order": null,
            "overflow": null,
            "overflow_x": null,
            "overflow_y": null,
            "padding": null,
            "right": null,
            "top": null,
            "visibility": null,
            "width": null
          }
        },
        "d862acad35d2464db254403d87888970": {
          "model_module": "@jupyter-widgets/controls",
          "model_name": "DescriptionStyleModel",
          "model_module_version": "1.5.0",
          "state": {
            "_model_module": "@jupyter-widgets/controls",
            "_model_module_version": "1.5.0",
            "_model_name": "DescriptionStyleModel",
            "_view_count": null,
            "_view_module": "@jupyter-widgets/base",
            "_view_module_version": "1.2.0",
            "_view_name": "StyleView",
            "description_width": ""
          }
        },
        "d180d991c8b04085b46373e3079dd64e": {
          "model_module": "@jupyter-widgets/controls",
          "model_name": "HBoxModel",
          "model_module_version": "1.5.0",
          "state": {
            "_dom_classes": [],
            "_model_module": "@jupyter-widgets/controls",
            "_model_module_version": "1.5.0",
            "_model_name": "HBoxModel",
            "_view_count": null,
            "_view_module": "@jupyter-widgets/controls",
            "_view_module_version": "1.5.0",
            "_view_name": "HBoxView",
            "box_style": "",
            "children": [
              "IPY_MODEL_a286adc6b472404caf488704c6b68043",
              "IPY_MODEL_25f9f8d41c6445a78be9efcc279c4937",
              "IPY_MODEL_01143e7e9de7454fa0fa58beadb251e6"
            ],
            "layout": "IPY_MODEL_affd5b3365b44b6fac68b5714e2b4d9a"
          }
        },
        "a286adc6b472404caf488704c6b68043": {
          "model_module": "@jupyter-widgets/controls",
          "model_name": "HTMLModel",
          "model_module_version": "1.5.0",
          "state": {
            "_dom_classes": [],
            "_model_module": "@jupyter-widgets/controls",
            "_model_module_version": "1.5.0",
            "_model_name": "HTMLModel",
            "_view_count": null,
            "_view_module": "@jupyter-widgets/controls",
            "_view_module_version": "1.5.0",
            "_view_name": "HTMLView",
            "description": "",
            "description_tooltip": null,
            "layout": "IPY_MODEL_3f4e417b8fa7429b971659d868d798f5",
            "placeholder": "​",
            "style": "IPY_MODEL_7b26b72f06174f50bf8fce76f72162ba",
            "value": "vocab.txt: 100%"
          }
        },
        "25f9f8d41c6445a78be9efcc279c4937": {
          "model_module": "@jupyter-widgets/controls",
          "model_name": "FloatProgressModel",
          "model_module_version": "1.5.0",
          "state": {
            "_dom_classes": [],
            "_model_module": "@jupyter-widgets/controls",
            "_model_module_version": "1.5.0",
            "_model_name": "FloatProgressModel",
            "_view_count": null,
            "_view_module": "@jupyter-widgets/controls",
            "_view_module_version": "1.5.0",
            "_view_name": "ProgressView",
            "bar_style": "success",
            "description": "",
            "description_tooltip": null,
            "layout": "IPY_MODEL_f53eb869ef7c48518e752777411cb376",
            "max": 231508,
            "min": 0,
            "orientation": "horizontal",
            "style": "IPY_MODEL_8b7811d631b44be8a228c0e49a5f2025",
            "value": 231508
          }
        },
        "01143e7e9de7454fa0fa58beadb251e6": {
          "model_module": "@jupyter-widgets/controls",
          "model_name": "HTMLModel",
          "model_module_version": "1.5.0",
          "state": {
            "_dom_classes": [],
            "_model_module": "@jupyter-widgets/controls",
            "_model_module_version": "1.5.0",
            "_model_name": "HTMLModel",
            "_view_count": null,
            "_view_module": "@jupyter-widgets/controls",
            "_view_module_version": "1.5.0",
            "_view_name": "HTMLView",
            "description": "",
            "description_tooltip": null,
            "layout": "IPY_MODEL_358550d8e6b64616a33ee31ce593dd2b",
            "placeholder": "​",
            "style": "IPY_MODEL_c39a7823356443699dd49a4fc94f9b77",
            "value": " 232k/232k [00:00&lt;00:00, 670kB/s]"
          }
        },
        "affd5b3365b44b6fac68b5714e2b4d9a": {
          "model_module": "@jupyter-widgets/base",
          "model_name": "LayoutModel",
          "model_module_version": "1.2.0",
          "state": {
            "_model_module": "@jupyter-widgets/base",
            "_model_module_version": "1.2.0",
            "_model_name": "LayoutModel",
            "_view_count": null,
            "_view_module": "@jupyter-widgets/base",
            "_view_module_version": "1.2.0",
            "_view_name": "LayoutView",
            "align_content": null,
            "align_items": null,
            "align_self": null,
            "border": null,
            "bottom": null,
            "display": null,
            "flex": null,
            "flex_flow": null,
            "grid_area": null,
            "grid_auto_columns": null,
            "grid_auto_flow": null,
            "grid_auto_rows": null,
            "grid_column": null,
            "grid_gap": null,
            "grid_row": null,
            "grid_template_areas": null,
            "grid_template_columns": null,
            "grid_template_rows": null,
            "height": null,
            "justify_content": null,
            "justify_items": null,
            "left": null,
            "margin": null,
            "max_height": null,
            "max_width": null,
            "min_height": null,
            "min_width": null,
            "object_fit": null,
            "object_position": null,
            "order": null,
            "overflow": null,
            "overflow_x": null,
            "overflow_y": null,
            "padding": null,
            "right": null,
            "top": null,
            "visibility": null,
            "width": null
          }
        },
        "3f4e417b8fa7429b971659d868d798f5": {
          "model_module": "@jupyter-widgets/base",
          "model_name": "LayoutModel",
          "model_module_version": "1.2.0",
          "state": {
            "_model_module": "@jupyter-widgets/base",
            "_model_module_version": "1.2.0",
            "_model_name": "LayoutModel",
            "_view_count": null,
            "_view_module": "@jupyter-widgets/base",
            "_view_module_version": "1.2.0",
            "_view_name": "LayoutView",
            "align_content": null,
            "align_items": null,
            "align_self": null,
            "border": null,
            "bottom": null,
            "display": null,
            "flex": null,
            "flex_flow": null,
            "grid_area": null,
            "grid_auto_columns": null,
            "grid_auto_flow": null,
            "grid_auto_rows": null,
            "grid_column": null,
            "grid_gap": null,
            "grid_row": null,
            "grid_template_areas": null,
            "grid_template_columns": null,
            "grid_template_rows": null,
            "height": null,
            "justify_content": null,
            "justify_items": null,
            "left": null,
            "margin": null,
            "max_height": null,
            "max_width": null,
            "min_height": null,
            "min_width": null,
            "object_fit": null,
            "object_position": null,
            "order": null,
            "overflow": null,
            "overflow_x": null,
            "overflow_y": null,
            "padding": null,
            "right": null,
            "top": null,
            "visibility": null,
            "width": null
          }
        },
        "7b26b72f06174f50bf8fce76f72162ba": {
          "model_module": "@jupyter-widgets/controls",
          "model_name": "DescriptionStyleModel",
          "model_module_version": "1.5.0",
          "state": {
            "_model_module": "@jupyter-widgets/controls",
            "_model_module_version": "1.5.0",
            "_model_name": "DescriptionStyleModel",
            "_view_count": null,
            "_view_module": "@jupyter-widgets/base",
            "_view_module_version": "1.2.0",
            "_view_name": "StyleView",
            "description_width": ""
          }
        },
        "f53eb869ef7c48518e752777411cb376": {
          "model_module": "@jupyter-widgets/base",
          "model_name": "LayoutModel",
          "model_module_version": "1.2.0",
          "state": {
            "_model_module": "@jupyter-widgets/base",
            "_model_module_version": "1.2.0",
            "_model_name": "LayoutModel",
            "_view_count": null,
            "_view_module": "@jupyter-widgets/base",
            "_view_module_version": "1.2.0",
            "_view_name": "LayoutView",
            "align_content": null,
            "align_items": null,
            "align_self": null,
            "border": null,
            "bottom": null,
            "display": null,
            "flex": null,
            "flex_flow": null,
            "grid_area": null,
            "grid_auto_columns": null,
            "grid_auto_flow": null,
            "grid_auto_rows": null,
            "grid_column": null,
            "grid_gap": null,
            "grid_row": null,
            "grid_template_areas": null,
            "grid_template_columns": null,
            "grid_template_rows": null,
            "height": null,
            "justify_content": null,
            "justify_items": null,
            "left": null,
            "margin": null,
            "max_height": null,
            "max_width": null,
            "min_height": null,
            "min_width": null,
            "object_fit": null,
            "object_position": null,
            "order": null,
            "overflow": null,
            "overflow_x": null,
            "overflow_y": null,
            "padding": null,
            "right": null,
            "top": null,
            "visibility": null,
            "width": null
          }
        },
        "8b7811d631b44be8a228c0e49a5f2025": {
          "model_module": "@jupyter-widgets/controls",
          "model_name": "ProgressStyleModel",
          "model_module_version": "1.5.0",
          "state": {
            "_model_module": "@jupyter-widgets/controls",
            "_model_module_version": "1.5.0",
            "_model_name": "ProgressStyleModel",
            "_view_count": null,
            "_view_module": "@jupyter-widgets/base",
            "_view_module_version": "1.2.0",
            "_view_name": "StyleView",
            "bar_color": null,
            "description_width": ""
          }
        },
        "358550d8e6b64616a33ee31ce593dd2b": {
          "model_module": "@jupyter-widgets/base",
          "model_name": "LayoutModel",
          "model_module_version": "1.2.0",
          "state": {
            "_model_module": "@jupyter-widgets/base",
            "_model_module_version": "1.2.0",
            "_model_name": "LayoutModel",
            "_view_count": null,
            "_view_module": "@jupyter-widgets/base",
            "_view_module_version": "1.2.0",
            "_view_name": "LayoutView",
            "align_content": null,
            "align_items": null,
            "align_self": null,
            "border": null,
            "bottom": null,
            "display": null,
            "flex": null,
            "flex_flow": null,
            "grid_area": null,
            "grid_auto_columns": null,
            "grid_auto_flow": null,
            "grid_auto_rows": null,
            "grid_column": null,
            "grid_gap": null,
            "grid_row": null,
            "grid_template_areas": null,
            "grid_template_columns": null,
            "grid_template_rows": null,
            "height": null,
            "justify_content": null,
            "justify_items": null,
            "left": null,
            "margin": null,
            "max_height": null,
            "max_width": null,
            "min_height": null,
            "min_width": null,
            "object_fit": null,
            "object_position": null,
            "order": null,
            "overflow": null,
            "overflow_x": null,
            "overflow_y": null,
            "padding": null,
            "right": null,
            "top": null,
            "visibility": null,
            "width": null
          }
        },
        "c39a7823356443699dd49a4fc94f9b77": {
          "model_module": "@jupyter-widgets/controls",
          "model_name": "DescriptionStyleModel",
          "model_module_version": "1.5.0",
          "state": {
            "_model_module": "@jupyter-widgets/controls",
            "_model_module_version": "1.5.0",
            "_model_name": "DescriptionStyleModel",
            "_view_count": null,
            "_view_module": "@jupyter-widgets/base",
            "_view_module_version": "1.2.0",
            "_view_name": "StyleView",
            "description_width": ""
          }
        },
        "78f42aa6618a4143922847a978ad6b60": {
          "model_module": "@jupyter-widgets/controls",
          "model_name": "HBoxModel",
          "model_module_version": "1.5.0",
          "state": {
            "_dom_classes": [],
            "_model_module": "@jupyter-widgets/controls",
            "_model_module_version": "1.5.0",
            "_model_name": "HBoxModel",
            "_view_count": null,
            "_view_module": "@jupyter-widgets/controls",
            "_view_module_version": "1.5.0",
            "_view_name": "HBoxView",
            "box_style": "",
            "children": [
              "IPY_MODEL_877aca9ec3b54226bc500cd66fb22bd7",
              "IPY_MODEL_b78241e0c85949febaf740c1444b1985",
              "IPY_MODEL_986c22bbfedf4eebb16c22a5fecfc641"
            ],
            "layout": "IPY_MODEL_45d10a0b19e949eaaf5ada68182c7923"
          }
        },
        "877aca9ec3b54226bc500cd66fb22bd7": {
          "model_module": "@jupyter-widgets/controls",
          "model_name": "HTMLModel",
          "model_module_version": "1.5.0",
          "state": {
            "_dom_classes": [],
            "_model_module": "@jupyter-widgets/controls",
            "_model_module_version": "1.5.0",
            "_model_name": "HTMLModel",
            "_view_count": null,
            "_view_module": "@jupyter-widgets/controls",
            "_view_module_version": "1.5.0",
            "_view_name": "HTMLView",
            "description": "",
            "description_tooltip": null,
            "layout": "IPY_MODEL_78152660f9234d1c87117c112eac279a",
            "placeholder": "​",
            "style": "IPY_MODEL_fe9689d08d99405783252d5eaac7f201",
            "value": "special_tokens_map.json: 100%"
          }
        },
        "b78241e0c85949febaf740c1444b1985": {
          "model_module": "@jupyter-widgets/controls",
          "model_name": "FloatProgressModel",
          "model_module_version": "1.5.0",
          "state": {
            "_dom_classes": [],
            "_model_module": "@jupyter-widgets/controls",
            "_model_module_version": "1.5.0",
            "_model_name": "FloatProgressModel",
            "_view_count": null,
            "_view_module": "@jupyter-widgets/controls",
            "_view_module_version": "1.5.0",
            "_view_name": "ProgressView",
            "bar_style": "success",
            "description": "",
            "description_tooltip": null,
            "layout": "IPY_MODEL_38cc9c36dbe94fde90298d4b0db384bd",
            "max": 695,
            "min": 0,
            "orientation": "horizontal",
            "style": "IPY_MODEL_3e9636fd8a124539aa1ec4d68da0dad5",
            "value": 695
          }
        },
        "986c22bbfedf4eebb16c22a5fecfc641": {
          "model_module": "@jupyter-widgets/controls",
          "model_name": "HTMLModel",
          "model_module_version": "1.5.0",
          "state": {
            "_dom_classes": [],
            "_model_module": "@jupyter-widgets/controls",
            "_model_module_version": "1.5.0",
            "_model_name": "HTMLModel",
            "_view_count": null,
            "_view_module": "@jupyter-widgets/controls",
            "_view_module_version": "1.5.0",
            "_view_name": "HTMLView",
            "description": "",
            "description_tooltip": null,
            "layout": "IPY_MODEL_1378a7bfb0bd41929d984ce65b69e447",
            "placeholder": "​",
            "style": "IPY_MODEL_aef0ff0ce9b74fa087f7f447998c75e2",
            "value": " 695/695 [00:00&lt;00:00, 38.6kB/s]"
          }
        },
        "45d10a0b19e949eaaf5ada68182c7923": {
          "model_module": "@jupyter-widgets/base",
          "model_name": "LayoutModel",
          "model_module_version": "1.2.0",
          "state": {
            "_model_module": "@jupyter-widgets/base",
            "_model_module_version": "1.2.0",
            "_model_name": "LayoutModel",
            "_view_count": null,
            "_view_module": "@jupyter-widgets/base",
            "_view_module_version": "1.2.0",
            "_view_name": "LayoutView",
            "align_content": null,
            "align_items": null,
            "align_self": null,
            "border": null,
            "bottom": null,
            "display": null,
            "flex": null,
            "flex_flow": null,
            "grid_area": null,
            "grid_auto_columns": null,
            "grid_auto_flow": null,
            "grid_auto_rows": null,
            "grid_column": null,
            "grid_gap": null,
            "grid_row": null,
            "grid_template_areas": null,
            "grid_template_columns": null,
            "grid_template_rows": null,
            "height": null,
            "justify_content": null,
            "justify_items": null,
            "left": null,
            "margin": null,
            "max_height": null,
            "max_width": null,
            "min_height": null,
            "min_width": null,
            "object_fit": null,
            "object_position": null,
            "order": null,
            "overflow": null,
            "overflow_x": null,
            "overflow_y": null,
            "padding": null,
            "right": null,
            "top": null,
            "visibility": null,
            "width": null
          }
        },
        "78152660f9234d1c87117c112eac279a": {
          "model_module": "@jupyter-widgets/base",
          "model_name": "LayoutModel",
          "model_module_version": "1.2.0",
          "state": {
            "_model_module": "@jupyter-widgets/base",
            "_model_module_version": "1.2.0",
            "_model_name": "LayoutModel",
            "_view_count": null,
            "_view_module": "@jupyter-widgets/base",
            "_view_module_version": "1.2.0",
            "_view_name": "LayoutView",
            "align_content": null,
            "align_items": null,
            "align_self": null,
            "border": null,
            "bottom": null,
            "display": null,
            "flex": null,
            "flex_flow": null,
            "grid_area": null,
            "grid_auto_columns": null,
            "grid_auto_flow": null,
            "grid_auto_rows": null,
            "grid_column": null,
            "grid_gap": null,
            "grid_row": null,
            "grid_template_areas": null,
            "grid_template_columns": null,
            "grid_template_rows": null,
            "height": null,
            "justify_content": null,
            "justify_items": null,
            "left": null,
            "margin": null,
            "max_height": null,
            "max_width": null,
            "min_height": null,
            "min_width": null,
            "object_fit": null,
            "object_position": null,
            "order": null,
            "overflow": null,
            "overflow_x": null,
            "overflow_y": null,
            "padding": null,
            "right": null,
            "top": null,
            "visibility": null,
            "width": null
          }
        },
        "fe9689d08d99405783252d5eaac7f201": {
          "model_module": "@jupyter-widgets/controls",
          "model_name": "DescriptionStyleModel",
          "model_module_version": "1.5.0",
          "state": {
            "_model_module": "@jupyter-widgets/controls",
            "_model_module_version": "1.5.0",
            "_model_name": "DescriptionStyleModel",
            "_view_count": null,
            "_view_module": "@jupyter-widgets/base",
            "_view_module_version": "1.2.0",
            "_view_name": "StyleView",
            "description_width": ""
          }
        },
        "38cc9c36dbe94fde90298d4b0db384bd": {
          "model_module": "@jupyter-widgets/base",
          "model_name": "LayoutModel",
          "model_module_version": "1.2.0",
          "state": {
            "_model_module": "@jupyter-widgets/base",
            "_model_module_version": "1.2.0",
            "_model_name": "LayoutModel",
            "_view_count": null,
            "_view_module": "@jupyter-widgets/base",
            "_view_module_version": "1.2.0",
            "_view_name": "LayoutView",
            "align_content": null,
            "align_items": null,
            "align_self": null,
            "border": null,
            "bottom": null,
            "display": null,
            "flex": null,
            "flex_flow": null,
            "grid_area": null,
            "grid_auto_columns": null,
            "grid_auto_flow": null,
            "grid_auto_rows": null,
            "grid_column": null,
            "grid_gap": null,
            "grid_row": null,
            "grid_template_areas": null,
            "grid_template_columns": null,
            "grid_template_rows": null,
            "height": null,
            "justify_content": null,
            "justify_items": null,
            "left": null,
            "margin": null,
            "max_height": null,
            "max_width": null,
            "min_height": null,
            "min_width": null,
            "object_fit": null,
            "object_position": null,
            "order": null,
            "overflow": null,
            "overflow_x": null,
            "overflow_y": null,
            "padding": null,
            "right": null,
            "top": null,
            "visibility": null,
            "width": null
          }
        },
        "3e9636fd8a124539aa1ec4d68da0dad5": {
          "model_module": "@jupyter-widgets/controls",
          "model_name": "ProgressStyleModel",
          "model_module_version": "1.5.0",
          "state": {
            "_model_module": "@jupyter-widgets/controls",
            "_model_module_version": "1.5.0",
            "_model_name": "ProgressStyleModel",
            "_view_count": null,
            "_view_module": "@jupyter-widgets/base",
            "_view_module_version": "1.2.0",
            "_view_name": "StyleView",
            "bar_color": null,
            "description_width": ""
          }
        },
        "1378a7bfb0bd41929d984ce65b69e447": {
          "model_module": "@jupyter-widgets/base",
          "model_name": "LayoutModel",
          "model_module_version": "1.2.0",
          "state": {
            "_model_module": "@jupyter-widgets/base",
            "_model_module_version": "1.2.0",
            "_model_name": "LayoutModel",
            "_view_count": null,
            "_view_module": "@jupyter-widgets/base",
            "_view_module_version": "1.2.0",
            "_view_name": "LayoutView",
            "align_content": null,
            "align_items": null,
            "align_self": null,
            "border": null,
            "bottom": null,
            "display": null,
            "flex": null,
            "flex_flow": null,
            "grid_area": null,
            "grid_auto_columns": null,
            "grid_auto_flow": null,
            "grid_auto_rows": null,
            "grid_column": null,
            "grid_gap": null,
            "grid_row": null,
            "grid_template_areas": null,
            "grid_template_columns": null,
            "grid_template_rows": null,
            "height": null,
            "justify_content": null,
            "justify_items": null,
            "left": null,
            "margin": null,
            "max_height": null,
            "max_width": null,
            "min_height": null,
            "min_width": null,
            "object_fit": null,
            "object_position": null,
            "order": null,
            "overflow": null,
            "overflow_x": null,
            "overflow_y": null,
            "padding": null,
            "right": null,
            "top": null,
            "visibility": null,
            "width": null
          }
        },
        "aef0ff0ce9b74fa087f7f447998c75e2": {
          "model_module": "@jupyter-widgets/controls",
          "model_name": "DescriptionStyleModel",
          "model_module_version": "1.5.0",
          "state": {
            "_model_module": "@jupyter-widgets/controls",
            "_model_module_version": "1.5.0",
            "_model_name": "DescriptionStyleModel",
            "_view_count": null,
            "_view_module": "@jupyter-widgets/base",
            "_view_module_version": "1.2.0",
            "_view_name": "StyleView",
            "description_width": ""
          }
        },
        "afa4bdbfaaed472c86abc99b0c37b9ce": {
          "model_module": "@jupyter-widgets/controls",
          "model_name": "HBoxModel",
          "model_module_version": "1.5.0",
          "state": {
            "_dom_classes": [],
            "_model_module": "@jupyter-widgets/controls",
            "_model_module_version": "1.5.0",
            "_model_name": "HBoxModel",
            "_view_count": null,
            "_view_module": "@jupyter-widgets/controls",
            "_view_module_version": "1.5.0",
            "_view_name": "HBoxView",
            "box_style": "",
            "children": [
              "IPY_MODEL_30ec025c212e45f3ab0ca6ec8f66a21a",
              "IPY_MODEL_74cb8617e9894f6d8979dab22fc1e6cc",
              "IPY_MODEL_741af9a365534cf2804e516c0ea8baba"
            ],
            "layout": "IPY_MODEL_3b50e75f06e6467b913d271c3e35b0f1"
          }
        },
        "30ec025c212e45f3ab0ca6ec8f66a21a": {
          "model_module": "@jupyter-widgets/controls",
          "model_name": "HTMLModel",
          "model_module_version": "1.5.0",
          "state": {
            "_dom_classes": [],
            "_model_module": "@jupyter-widgets/controls",
            "_model_module_version": "1.5.0",
            "_model_name": "HTMLModel",
            "_view_count": null,
            "_view_module": "@jupyter-widgets/controls",
            "_view_module_version": "1.5.0",
            "_view_name": "HTMLView",
            "description": "",
            "description_tooltip": null,
            "layout": "IPY_MODEL_889c135890f54b72bb51e0274c283ea3",
            "placeholder": "​",
            "style": "IPY_MODEL_005ff7bc324e4f588da1e9273b7aaa07",
            "value": "tokenizer_config.json: 100%"
          }
        },
        "74cb8617e9894f6d8979dab22fc1e6cc": {
          "model_module": "@jupyter-widgets/controls",
          "model_name": "FloatProgressModel",
          "model_module_version": "1.5.0",
          "state": {
            "_dom_classes": [],
            "_model_module": "@jupyter-widgets/controls",
            "_model_module_version": "1.5.0",
            "_model_name": "FloatProgressModel",
            "_view_count": null,
            "_view_module": "@jupyter-widgets/controls",
            "_view_module_version": "1.5.0",
            "_view_name": "ProgressView",
            "bar_style": "success",
            "description": "",
            "description_tooltip": null,
            "layout": "IPY_MODEL_6bdbd7f158a443c78633e64933e4295a",
            "max": 48,
            "min": 0,
            "orientation": "horizontal",
            "style": "IPY_MODEL_5a9a8ab700cb4e93a8c7643471468afc",
            "value": 48
          }
        },
        "741af9a365534cf2804e516c0ea8baba": {
          "model_module": "@jupyter-widgets/controls",
          "model_name": "HTMLModel",
          "model_module_version": "1.5.0",
          "state": {
            "_dom_classes": [],
            "_model_module": "@jupyter-widgets/controls",
            "_model_module_version": "1.5.0",
            "_model_name": "HTMLModel",
            "_view_count": null,
            "_view_module": "@jupyter-widgets/controls",
            "_view_module_version": "1.5.0",
            "_view_name": "HTMLView",
            "description": "",
            "description_tooltip": null,
            "layout": "IPY_MODEL_42f9c40297914681ad963c8f4e01cbd8",
            "placeholder": "​",
            "style": "IPY_MODEL_41ffc678f4db42df9a8c85a992225ce1",
            "value": " 48.0/48.0 [00:00&lt;00:00, 3.92kB/s]"
          }
        },
        "3b50e75f06e6467b913d271c3e35b0f1": {
          "model_module": "@jupyter-widgets/base",
          "model_name": "LayoutModel",
          "model_module_version": "1.2.0",
          "state": {
            "_model_module": "@jupyter-widgets/base",
            "_model_module_version": "1.2.0",
            "_model_name": "LayoutModel",
            "_view_count": null,
            "_view_module": "@jupyter-widgets/base",
            "_view_module_version": "1.2.0",
            "_view_name": "LayoutView",
            "align_content": null,
            "align_items": null,
            "align_self": null,
            "border": null,
            "bottom": null,
            "display": null,
            "flex": null,
            "flex_flow": null,
            "grid_area": null,
            "grid_auto_columns": null,
            "grid_auto_flow": null,
            "grid_auto_rows": null,
            "grid_column": null,
            "grid_gap": null,
            "grid_row": null,
            "grid_template_areas": null,
            "grid_template_columns": null,
            "grid_template_rows": null,
            "height": null,
            "justify_content": null,
            "justify_items": null,
            "left": null,
            "margin": null,
            "max_height": null,
            "max_width": null,
            "min_height": null,
            "min_width": null,
            "object_fit": null,
            "object_position": null,
            "order": null,
            "overflow": null,
            "overflow_x": null,
            "overflow_y": null,
            "padding": null,
            "right": null,
            "top": null,
            "visibility": null,
            "width": null
          }
        },
        "889c135890f54b72bb51e0274c283ea3": {
          "model_module": "@jupyter-widgets/base",
          "model_name": "LayoutModel",
          "model_module_version": "1.2.0",
          "state": {
            "_model_module": "@jupyter-widgets/base",
            "_model_module_version": "1.2.0",
            "_model_name": "LayoutModel",
            "_view_count": null,
            "_view_module": "@jupyter-widgets/base",
            "_view_module_version": "1.2.0",
            "_view_name": "LayoutView",
            "align_content": null,
            "align_items": null,
            "align_self": null,
            "border": null,
            "bottom": null,
            "display": null,
            "flex": null,
            "flex_flow": null,
            "grid_area": null,
            "grid_auto_columns": null,
            "grid_auto_flow": null,
            "grid_auto_rows": null,
            "grid_column": null,
            "grid_gap": null,
            "grid_row": null,
            "grid_template_areas": null,
            "grid_template_columns": null,
            "grid_template_rows": null,
            "height": null,
            "justify_content": null,
            "justify_items": null,
            "left": null,
            "margin": null,
            "max_height": null,
            "max_width": null,
            "min_height": null,
            "min_width": null,
            "object_fit": null,
            "object_position": null,
            "order": null,
            "overflow": null,
            "overflow_x": null,
            "overflow_y": null,
            "padding": null,
            "right": null,
            "top": null,
            "visibility": null,
            "width": null
          }
        },
        "005ff7bc324e4f588da1e9273b7aaa07": {
          "model_module": "@jupyter-widgets/controls",
          "model_name": "DescriptionStyleModel",
          "model_module_version": "1.5.0",
          "state": {
            "_model_module": "@jupyter-widgets/controls",
            "_model_module_version": "1.5.0",
            "_model_name": "DescriptionStyleModel",
            "_view_count": null,
            "_view_module": "@jupyter-widgets/base",
            "_view_module_version": "1.2.0",
            "_view_name": "StyleView",
            "description_width": ""
          }
        },
        "6bdbd7f158a443c78633e64933e4295a": {
          "model_module": "@jupyter-widgets/base",
          "model_name": "LayoutModel",
          "model_module_version": "1.2.0",
          "state": {
            "_model_module": "@jupyter-widgets/base",
            "_model_module_version": "1.2.0",
            "_model_name": "LayoutModel",
            "_view_count": null,
            "_view_module": "@jupyter-widgets/base",
            "_view_module_version": "1.2.0",
            "_view_name": "LayoutView",
            "align_content": null,
            "align_items": null,
            "align_self": null,
            "border": null,
            "bottom": null,
            "display": null,
            "flex": null,
            "flex_flow": null,
            "grid_area": null,
            "grid_auto_columns": null,
            "grid_auto_flow": null,
            "grid_auto_rows": null,
            "grid_column": null,
            "grid_gap": null,
            "grid_row": null,
            "grid_template_areas": null,
            "grid_template_columns": null,
            "grid_template_rows": null,
            "height": null,
            "justify_content": null,
            "justify_items": null,
            "left": null,
            "margin": null,
            "max_height": null,
            "max_width": null,
            "min_height": null,
            "min_width": null,
            "object_fit": null,
            "object_position": null,
            "order": null,
            "overflow": null,
            "overflow_x": null,
            "overflow_y": null,
            "padding": null,
            "right": null,
            "top": null,
            "visibility": null,
            "width": null
          }
        },
        "5a9a8ab700cb4e93a8c7643471468afc": {
          "model_module": "@jupyter-widgets/controls",
          "model_name": "ProgressStyleModel",
          "model_module_version": "1.5.0",
          "state": {
            "_model_module": "@jupyter-widgets/controls",
            "_model_module_version": "1.5.0",
            "_model_name": "ProgressStyleModel",
            "_view_count": null,
            "_view_module": "@jupyter-widgets/base",
            "_view_module_version": "1.2.0",
            "_view_name": "StyleView",
            "bar_color": null,
            "description_width": ""
          }
        },
        "42f9c40297914681ad963c8f4e01cbd8": {
          "model_module": "@jupyter-widgets/base",
          "model_name": "LayoutModel",
          "model_module_version": "1.2.0",
          "state": {
            "_model_module": "@jupyter-widgets/base",
            "_model_module_version": "1.2.0",
            "_model_name": "LayoutModel",
            "_view_count": null,
            "_view_module": "@jupyter-widgets/base",
            "_view_module_version": "1.2.0",
            "_view_name": "LayoutView",
            "align_content": null,
            "align_items": null,
            "align_self": null,
            "border": null,
            "bottom": null,
            "display": null,
            "flex": null,
            "flex_flow": null,
            "grid_area": null,
            "grid_auto_columns": null,
            "grid_auto_flow": null,
            "grid_auto_rows": null,
            "grid_column": null,
            "grid_gap": null,
            "grid_row": null,
            "grid_template_areas": null,
            "grid_template_columns": null,
            "grid_template_rows": null,
            "height": null,
            "justify_content": null,
            "justify_items": null,
            "left": null,
            "margin": null,
            "max_height": null,
            "max_width": null,
            "min_height": null,
            "min_width": null,
            "object_fit": null,
            "object_position": null,
            "order": null,
            "overflow": null,
            "overflow_x": null,
            "overflow_y": null,
            "padding": null,
            "right": null,
            "top": null,
            "visibility": null,
            "width": null
          }
        },
        "41ffc678f4db42df9a8c85a992225ce1": {
          "model_module": "@jupyter-widgets/controls",
          "model_name": "DescriptionStyleModel",
          "model_module_version": "1.5.0",
          "state": {
            "_model_module": "@jupyter-widgets/controls",
            "_model_module_version": "1.5.0",
            "_model_name": "DescriptionStyleModel",
            "_view_count": null,
            "_view_module": "@jupyter-widgets/base",
            "_view_module_version": "1.2.0",
            "_view_name": "StyleView",
            "description_width": ""
          }
        },
        "7df05639dc02470f9e82683ec72e0a66": {
          "model_module": "@jupyter-widgets/controls",
          "model_name": "HBoxModel",
          "model_module_version": "1.5.0",
          "state": {
            "_dom_classes": [],
            "_model_module": "@jupyter-widgets/controls",
            "_model_module_version": "1.5.0",
            "_model_name": "HBoxModel",
            "_view_count": null,
            "_view_module": "@jupyter-widgets/controls",
            "_view_module_version": "1.5.0",
            "_view_name": "HBoxView",
            "box_style": "",
            "children": [
              "IPY_MODEL_3799e6d2d8274068b58fe53ef5e1fdd8",
              "IPY_MODEL_3757bc3326d34257bf358992e6815292",
              "IPY_MODEL_22038acb94e94be1b390bba3d601f82a"
            ],
            "layout": "IPY_MODEL_26472a9b6dac4ca6b224838613c24d07"
          }
        },
        "3799e6d2d8274068b58fe53ef5e1fdd8": {
          "model_module": "@jupyter-widgets/controls",
          "model_name": "HTMLModel",
          "model_module_version": "1.5.0",
          "state": {
            "_dom_classes": [],
            "_model_module": "@jupyter-widgets/controls",
            "_model_module_version": "1.5.0",
            "_model_name": "HTMLModel",
            "_view_count": null,
            "_view_module": "@jupyter-widgets/controls",
            "_view_module_version": "1.5.0",
            "_view_name": "HTMLView",
            "description": "",
            "description_tooltip": null,
            "layout": "IPY_MODEL_fc06e2200e92449496dccc3ad181d5d9",
            "placeholder": "​",
            "style": "IPY_MODEL_dc1e385eaa434bb3ba20ea5e4d611327",
            "value": "config.json: 100%"
          }
        },
        "3757bc3326d34257bf358992e6815292": {
          "model_module": "@jupyter-widgets/controls",
          "model_name": "FloatProgressModel",
          "model_module_version": "1.5.0",
          "state": {
            "_dom_classes": [],
            "_model_module": "@jupyter-widgets/controls",
            "_model_module_version": "1.5.0",
            "_model_name": "FloatProgressModel",
            "_view_count": null,
            "_view_module": "@jupyter-widgets/controls",
            "_view_module_version": "1.5.0",
            "_view_name": "ProgressView",
            "bar_style": "success",
            "description": "",
            "description_tooltip": null,
            "layout": "IPY_MODEL_b3a233319a3c4f87a0031bc9e718e7c3",
            "max": 483,
            "min": 0,
            "orientation": "horizontal",
            "style": "IPY_MODEL_7bee58dd43594031a00655865882be51",
            "value": 483
          }
        },
        "22038acb94e94be1b390bba3d601f82a": {
          "model_module": "@jupyter-widgets/controls",
          "model_name": "HTMLModel",
          "model_module_version": "1.5.0",
          "state": {
            "_dom_classes": [],
            "_model_module": "@jupyter-widgets/controls",
            "_model_module_version": "1.5.0",
            "_model_name": "HTMLModel",
            "_view_count": null,
            "_view_module": "@jupyter-widgets/controls",
            "_view_module_version": "1.5.0",
            "_view_name": "HTMLView",
            "description": "",
            "description_tooltip": null,
            "layout": "IPY_MODEL_c020a0ee3060464cb56fb06f34c2c4f8",
            "placeholder": "​",
            "style": "IPY_MODEL_e7e13f1a9b644ed4b2f2c283fb4a806e",
            "value": " 483/483 [00:00&lt;00:00, 41.6kB/s]"
          }
        },
        "26472a9b6dac4ca6b224838613c24d07": {
          "model_module": "@jupyter-widgets/base",
          "model_name": "LayoutModel",
          "model_module_version": "1.2.0",
          "state": {
            "_model_module": "@jupyter-widgets/base",
            "_model_module_version": "1.2.0",
            "_model_name": "LayoutModel",
            "_view_count": null,
            "_view_module": "@jupyter-widgets/base",
            "_view_module_version": "1.2.0",
            "_view_name": "LayoutView",
            "align_content": null,
            "align_items": null,
            "align_self": null,
            "border": null,
            "bottom": null,
            "display": null,
            "flex": null,
            "flex_flow": null,
            "grid_area": null,
            "grid_auto_columns": null,
            "grid_auto_flow": null,
            "grid_auto_rows": null,
            "grid_column": null,
            "grid_gap": null,
            "grid_row": null,
            "grid_template_areas": null,
            "grid_template_columns": null,
            "grid_template_rows": null,
            "height": null,
            "justify_content": null,
            "justify_items": null,
            "left": null,
            "margin": null,
            "max_height": null,
            "max_width": null,
            "min_height": null,
            "min_width": null,
            "object_fit": null,
            "object_position": null,
            "order": null,
            "overflow": null,
            "overflow_x": null,
            "overflow_y": null,
            "padding": null,
            "right": null,
            "top": null,
            "visibility": null,
            "width": null
          }
        },
        "fc06e2200e92449496dccc3ad181d5d9": {
          "model_module": "@jupyter-widgets/base",
          "model_name": "LayoutModel",
          "model_module_version": "1.2.0",
          "state": {
            "_model_module": "@jupyter-widgets/base",
            "_model_module_version": "1.2.0",
            "_model_name": "LayoutModel",
            "_view_count": null,
            "_view_module": "@jupyter-widgets/base",
            "_view_module_version": "1.2.0",
            "_view_name": "LayoutView",
            "align_content": null,
            "align_items": null,
            "align_self": null,
            "border": null,
            "bottom": null,
            "display": null,
            "flex": null,
            "flex_flow": null,
            "grid_area": null,
            "grid_auto_columns": null,
            "grid_auto_flow": null,
            "grid_auto_rows": null,
            "grid_column": null,
            "grid_gap": null,
            "grid_row": null,
            "grid_template_areas": null,
            "grid_template_columns": null,
            "grid_template_rows": null,
            "height": null,
            "justify_content": null,
            "justify_items": null,
            "left": null,
            "margin": null,
            "max_height": null,
            "max_width": null,
            "min_height": null,
            "min_width": null,
            "object_fit": null,
            "object_position": null,
            "order": null,
            "overflow": null,
            "overflow_x": null,
            "overflow_y": null,
            "padding": null,
            "right": null,
            "top": null,
            "visibility": null,
            "width": null
          }
        },
        "dc1e385eaa434bb3ba20ea5e4d611327": {
          "model_module": "@jupyter-widgets/controls",
          "model_name": "DescriptionStyleModel",
          "model_module_version": "1.5.0",
          "state": {
            "_model_module": "@jupyter-widgets/controls",
            "_model_module_version": "1.5.0",
            "_model_name": "DescriptionStyleModel",
            "_view_count": null,
            "_view_module": "@jupyter-widgets/base",
            "_view_module_version": "1.2.0",
            "_view_name": "StyleView",
            "description_width": ""
          }
        },
        "b3a233319a3c4f87a0031bc9e718e7c3": {
          "model_module": "@jupyter-widgets/base",
          "model_name": "LayoutModel",
          "model_module_version": "1.2.0",
          "state": {
            "_model_module": "@jupyter-widgets/base",
            "_model_module_version": "1.2.0",
            "_model_name": "LayoutModel",
            "_view_count": null,
            "_view_module": "@jupyter-widgets/base",
            "_view_module_version": "1.2.0",
            "_view_name": "LayoutView",
            "align_content": null,
            "align_items": null,
            "align_self": null,
            "border": null,
            "bottom": null,
            "display": null,
            "flex": null,
            "flex_flow": null,
            "grid_area": null,
            "grid_auto_columns": null,
            "grid_auto_flow": null,
            "grid_auto_rows": null,
            "grid_column": null,
            "grid_gap": null,
            "grid_row": null,
            "grid_template_areas": null,
            "grid_template_columns": null,
            "grid_template_rows": null,
            "height": null,
            "justify_content": null,
            "justify_items": null,
            "left": null,
            "margin": null,
            "max_height": null,
            "max_width": null,
            "min_height": null,
            "min_width": null,
            "object_fit": null,
            "object_position": null,
            "order": null,
            "overflow": null,
            "overflow_x": null,
            "overflow_y": null,
            "padding": null,
            "right": null,
            "top": null,
            "visibility": null,
            "width": null
          }
        },
        "7bee58dd43594031a00655865882be51": {
          "model_module": "@jupyter-widgets/controls",
          "model_name": "ProgressStyleModel",
          "model_module_version": "1.5.0",
          "state": {
            "_model_module": "@jupyter-widgets/controls",
            "_model_module_version": "1.5.0",
            "_model_name": "ProgressStyleModel",
            "_view_count": null,
            "_view_module": "@jupyter-widgets/base",
            "_view_module_version": "1.2.0",
            "_view_name": "StyleView",
            "bar_color": null,
            "description_width": ""
          }
        },
        "c020a0ee3060464cb56fb06f34c2c4f8": {
          "model_module": "@jupyter-widgets/base",
          "model_name": "LayoutModel",
          "model_module_version": "1.2.0",
          "state": {
            "_model_module": "@jupyter-widgets/base",
            "_model_module_version": "1.2.0",
            "_model_name": "LayoutModel",
            "_view_count": null,
            "_view_module": "@jupyter-widgets/base",
            "_view_module_version": "1.2.0",
            "_view_name": "LayoutView",
            "align_content": null,
            "align_items": null,
            "align_self": null,
            "border": null,
            "bottom": null,
            "display": null,
            "flex": null,
            "flex_flow": null,
            "grid_area": null,
            "grid_auto_columns": null,
            "grid_auto_flow": null,
            "grid_auto_rows": null,
            "grid_column": null,
            "grid_gap": null,
            "grid_row": null,
            "grid_template_areas": null,
            "grid_template_columns": null,
            "grid_template_rows": null,
            "height": null,
            "justify_content": null,
            "justify_items": null,
            "left": null,
            "margin": null,
            "max_height": null,
            "max_width": null,
            "min_height": null,
            "min_width": null,
            "object_fit": null,
            "object_position": null,
            "order": null,
            "overflow": null,
            "overflow_x": null,
            "overflow_y": null,
            "padding": null,
            "right": null,
            "top": null,
            "visibility": null,
            "width": null
          }
        },
        "e7e13f1a9b644ed4b2f2c283fb4a806e": {
          "model_module": "@jupyter-widgets/controls",
          "model_name": "DescriptionStyleModel",
          "model_module_version": "1.5.0",
          "state": {
            "_model_module": "@jupyter-widgets/controls",
            "_model_module_version": "1.5.0",
            "_model_name": "DescriptionStyleModel",
            "_view_count": null,
            "_view_module": "@jupyter-widgets/base",
            "_view_module_version": "1.2.0",
            "_view_name": "StyleView",
            "description_width": ""
          }
        },
        "e8413c6126f849528cb3b28374d13e97": {
          "model_module": "@jupyter-widgets/controls",
          "model_name": "HBoxModel",
          "model_module_version": "1.5.0",
          "state": {
            "_dom_classes": [],
            "_model_module": "@jupyter-widgets/controls",
            "_model_module_version": "1.5.0",
            "_model_name": "HBoxModel",
            "_view_count": null,
            "_view_module": "@jupyter-widgets/controls",
            "_view_module_version": "1.5.0",
            "_view_name": "HBoxView",
            "box_style": "",
            "children": [
              "IPY_MODEL_15099b3d7a584869ac06ed5b41819631",
              "IPY_MODEL_b7328d58a1044a839ffff6e9dd9cce3a",
              "IPY_MODEL_bee226d5522c4291b3c86db44aea1a2f"
            ],
            "layout": "IPY_MODEL_480b69048cf54c11b3a9a520a44d38b7"
          }
        },
        "15099b3d7a584869ac06ed5b41819631": {
          "model_module": "@jupyter-widgets/controls",
          "model_name": "HTMLModel",
          "model_module_version": "1.5.0",
          "state": {
            "_dom_classes": [],
            "_model_module": "@jupyter-widgets/controls",
            "_model_module_version": "1.5.0",
            "_model_name": "HTMLModel",
            "_view_count": null,
            "_view_module": "@jupyter-widgets/controls",
            "_view_module_version": "1.5.0",
            "_view_name": "HTMLView",
            "description": "",
            "description_tooltip": null,
            "layout": "IPY_MODEL_2061eec3b2594dd5a5be6e150257b97c",
            "placeholder": "​",
            "style": "IPY_MODEL_16c855105d974ba8b4eccdd21d323424",
            "value": "vocab.txt: 100%"
          }
        },
        "b7328d58a1044a839ffff6e9dd9cce3a": {
          "model_module": "@jupyter-widgets/controls",
          "model_name": "FloatProgressModel",
          "model_module_version": "1.5.0",
          "state": {
            "_dom_classes": [],
            "_model_module": "@jupyter-widgets/controls",
            "_model_module_version": "1.5.0",
            "_model_name": "FloatProgressModel",
            "_view_count": null,
            "_view_module": "@jupyter-widgets/controls",
            "_view_module_version": "1.5.0",
            "_view_name": "ProgressView",
            "bar_style": "success",
            "description": "",
            "description_tooltip": null,
            "layout": "IPY_MODEL_cafd5259b78b4086b08f5ebc605468fd",
            "max": 231508,
            "min": 0,
            "orientation": "horizontal",
            "style": "IPY_MODEL_67fa8d1a73d1452fbdf9051700a7135c",
            "value": 231508
          }
        },
        "bee226d5522c4291b3c86db44aea1a2f": {
          "model_module": "@jupyter-widgets/controls",
          "model_name": "HTMLModel",
          "model_module_version": "1.5.0",
          "state": {
            "_dom_classes": [],
            "_model_module": "@jupyter-widgets/controls",
            "_model_module_version": "1.5.0",
            "_model_name": "HTMLModel",
            "_view_count": null,
            "_view_module": "@jupyter-widgets/controls",
            "_view_module_version": "1.5.0",
            "_view_name": "HTMLView",
            "description": "",
            "description_tooltip": null,
            "layout": "IPY_MODEL_9c82b3ecd6174d32a691b8cea95433fd",
            "placeholder": "​",
            "style": "IPY_MODEL_fb99fbabd94546de84f716e03c56e595",
            "value": " 232k/232k [00:00&lt;00:00, 662kB/s]"
          }
        },
        "480b69048cf54c11b3a9a520a44d38b7": {
          "model_module": "@jupyter-widgets/base",
          "model_name": "LayoutModel",
          "model_module_version": "1.2.0",
          "state": {
            "_model_module": "@jupyter-widgets/base",
            "_model_module_version": "1.2.0",
            "_model_name": "LayoutModel",
            "_view_count": null,
            "_view_module": "@jupyter-widgets/base",
            "_view_module_version": "1.2.0",
            "_view_name": "LayoutView",
            "align_content": null,
            "align_items": null,
            "align_self": null,
            "border": null,
            "bottom": null,
            "display": null,
            "flex": null,
            "flex_flow": null,
            "grid_area": null,
            "grid_auto_columns": null,
            "grid_auto_flow": null,
            "grid_auto_rows": null,
            "grid_column": null,
            "grid_gap": null,
            "grid_row": null,
            "grid_template_areas": null,
            "grid_template_columns": null,
            "grid_template_rows": null,
            "height": null,
            "justify_content": null,
            "justify_items": null,
            "left": null,
            "margin": null,
            "max_height": null,
            "max_width": null,
            "min_height": null,
            "min_width": null,
            "object_fit": null,
            "object_position": null,
            "order": null,
            "overflow": null,
            "overflow_x": null,
            "overflow_y": null,
            "padding": null,
            "right": null,
            "top": null,
            "visibility": null,
            "width": null
          }
        },
        "2061eec3b2594dd5a5be6e150257b97c": {
          "model_module": "@jupyter-widgets/base",
          "model_name": "LayoutModel",
          "model_module_version": "1.2.0",
          "state": {
            "_model_module": "@jupyter-widgets/base",
            "_model_module_version": "1.2.0",
            "_model_name": "LayoutModel",
            "_view_count": null,
            "_view_module": "@jupyter-widgets/base",
            "_view_module_version": "1.2.0",
            "_view_name": "LayoutView",
            "align_content": null,
            "align_items": null,
            "align_self": null,
            "border": null,
            "bottom": null,
            "display": null,
            "flex": null,
            "flex_flow": null,
            "grid_area": null,
            "grid_auto_columns": null,
            "grid_auto_flow": null,
            "grid_auto_rows": null,
            "grid_column": null,
            "grid_gap": null,
            "grid_row": null,
            "grid_template_areas": null,
            "grid_template_columns": null,
            "grid_template_rows": null,
            "height": null,
            "justify_content": null,
            "justify_items": null,
            "left": null,
            "margin": null,
            "max_height": null,
            "max_width": null,
            "min_height": null,
            "min_width": null,
            "object_fit": null,
            "object_position": null,
            "order": null,
            "overflow": null,
            "overflow_x": null,
            "overflow_y": null,
            "padding": null,
            "right": null,
            "top": null,
            "visibility": null,
            "width": null
          }
        },
        "16c855105d974ba8b4eccdd21d323424": {
          "model_module": "@jupyter-widgets/controls",
          "model_name": "DescriptionStyleModel",
          "model_module_version": "1.5.0",
          "state": {
            "_model_module": "@jupyter-widgets/controls",
            "_model_module_version": "1.5.0",
            "_model_name": "DescriptionStyleModel",
            "_view_count": null,
            "_view_module": "@jupyter-widgets/base",
            "_view_module_version": "1.2.0",
            "_view_name": "StyleView",
            "description_width": ""
          }
        },
        "cafd5259b78b4086b08f5ebc605468fd": {
          "model_module": "@jupyter-widgets/base",
          "model_name": "LayoutModel",
          "model_module_version": "1.2.0",
          "state": {
            "_model_module": "@jupyter-widgets/base",
            "_model_module_version": "1.2.0",
            "_model_name": "LayoutModel",
            "_view_count": null,
            "_view_module": "@jupyter-widgets/base",
            "_view_module_version": "1.2.0",
            "_view_name": "LayoutView",
            "align_content": null,
            "align_items": null,
            "align_self": null,
            "border": null,
            "bottom": null,
            "display": null,
            "flex": null,
            "flex_flow": null,
            "grid_area": null,
            "grid_auto_columns": null,
            "grid_auto_flow": null,
            "grid_auto_rows": null,
            "grid_column": null,
            "grid_gap": null,
            "grid_row": null,
            "grid_template_areas": null,
            "grid_template_columns": null,
            "grid_template_rows": null,
            "height": null,
            "justify_content": null,
            "justify_items": null,
            "left": null,
            "margin": null,
            "max_height": null,
            "max_width": null,
            "min_height": null,
            "min_width": null,
            "object_fit": null,
            "object_position": null,
            "order": null,
            "overflow": null,
            "overflow_x": null,
            "overflow_y": null,
            "padding": null,
            "right": null,
            "top": null,
            "visibility": null,
            "width": null
          }
        },
        "67fa8d1a73d1452fbdf9051700a7135c": {
          "model_module": "@jupyter-widgets/controls",
          "model_name": "ProgressStyleModel",
          "model_module_version": "1.5.0",
          "state": {
            "_model_module": "@jupyter-widgets/controls",
            "_model_module_version": "1.5.0",
            "_model_name": "ProgressStyleModel",
            "_view_count": null,
            "_view_module": "@jupyter-widgets/base",
            "_view_module_version": "1.2.0",
            "_view_name": "StyleView",
            "bar_color": null,
            "description_width": ""
          }
        },
        "9c82b3ecd6174d32a691b8cea95433fd": {
          "model_module": "@jupyter-widgets/base",
          "model_name": "LayoutModel",
          "model_module_version": "1.2.0",
          "state": {
            "_model_module": "@jupyter-widgets/base",
            "_model_module_version": "1.2.0",
            "_model_name": "LayoutModel",
            "_view_count": null,
            "_view_module": "@jupyter-widgets/base",
            "_view_module_version": "1.2.0",
            "_view_name": "LayoutView",
            "align_content": null,
            "align_items": null,
            "align_self": null,
            "border": null,
            "bottom": null,
            "display": null,
            "flex": null,
            "flex_flow": null,
            "grid_area": null,
            "grid_auto_columns": null,
            "grid_auto_flow": null,
            "grid_auto_rows": null,
            "grid_column": null,
            "grid_gap": null,
            "grid_row": null,
            "grid_template_areas": null,
            "grid_template_columns": null,
            "grid_template_rows": null,
            "height": null,
            "justify_content": null,
            "justify_items": null,
            "left": null,
            "margin": null,
            "max_height": null,
            "max_width": null,
            "min_height": null,
            "min_width": null,
            "object_fit": null,
            "object_position": null,
            "order": null,
            "overflow": null,
            "overflow_x": null,
            "overflow_y": null,
            "padding": null,
            "right": null,
            "top": null,
            "visibility": null,
            "width": null
          }
        },
        "fb99fbabd94546de84f716e03c56e595": {
          "model_module": "@jupyter-widgets/controls",
          "model_name": "DescriptionStyleModel",
          "model_module_version": "1.5.0",
          "state": {
            "_model_module": "@jupyter-widgets/controls",
            "_model_module_version": "1.5.0",
            "_model_name": "DescriptionStyleModel",
            "_view_count": null,
            "_view_module": "@jupyter-widgets/base",
            "_view_module_version": "1.2.0",
            "_view_name": "StyleView",
            "description_width": ""
          }
        },
        "c8e32c1704da4d82ba53c58664f62f7f": {
          "model_module": "@jupyter-widgets/controls",
          "model_name": "HBoxModel",
          "model_module_version": "1.5.0",
          "state": {
            "_dom_classes": [],
            "_model_module": "@jupyter-widgets/controls",
            "_model_module_version": "1.5.0",
            "_model_name": "HBoxModel",
            "_view_count": null,
            "_view_module": "@jupyter-widgets/controls",
            "_view_module_version": "1.5.0",
            "_view_name": "HBoxView",
            "box_style": "",
            "children": [
              "IPY_MODEL_9cb0753b65834035aa3093e2e7c07719",
              "IPY_MODEL_32d93621b7db4d518042e907ff813ba2",
              "IPY_MODEL_7c00e724bc914cd9b24a6b06a9937480"
            ],
            "layout": "IPY_MODEL_42d3e90d4cca43ffb2f8b2386f7ce2d3"
          }
        },
        "9cb0753b65834035aa3093e2e7c07719": {
          "model_module": "@jupyter-widgets/controls",
          "model_name": "HTMLModel",
          "model_module_version": "1.5.0",
          "state": {
            "_dom_classes": [],
            "_model_module": "@jupyter-widgets/controls",
            "_model_module_version": "1.5.0",
            "_model_name": "HTMLModel",
            "_view_count": null,
            "_view_module": "@jupyter-widgets/controls",
            "_view_module_version": "1.5.0",
            "_view_name": "HTMLView",
            "description": "",
            "description_tooltip": null,
            "layout": "IPY_MODEL_654417e25d894814a623f60fa180c98d",
            "placeholder": "​",
            "style": "IPY_MODEL_f4092cd7ef244a70bc601ee37102d13c",
            "value": "tokenizer.json: 100%"
          }
        },
        "32d93621b7db4d518042e907ff813ba2": {
          "model_module": "@jupyter-widgets/controls",
          "model_name": "FloatProgressModel",
          "model_module_version": "1.5.0",
          "state": {
            "_dom_classes": [],
            "_model_module": "@jupyter-widgets/controls",
            "_model_module_version": "1.5.0",
            "_model_name": "FloatProgressModel",
            "_view_count": null,
            "_view_module": "@jupyter-widgets/controls",
            "_view_module_version": "1.5.0",
            "_view_name": "ProgressView",
            "bar_style": "success",
            "description": "",
            "description_tooltip": null,
            "layout": "IPY_MODEL_398eace7fb6c419aa261bdfa637d64b7",
            "max": 466062,
            "min": 0,
            "orientation": "horizontal",
            "style": "IPY_MODEL_aa2518dfc41247b5931496942126017e",
            "value": 466062
          }
        },
        "7c00e724bc914cd9b24a6b06a9937480": {
          "model_module": "@jupyter-widgets/controls",
          "model_name": "HTMLModel",
          "model_module_version": "1.5.0",
          "state": {
            "_dom_classes": [],
            "_model_module": "@jupyter-widgets/controls",
            "_model_module_version": "1.5.0",
            "_model_name": "HTMLModel",
            "_view_count": null,
            "_view_module": "@jupyter-widgets/controls",
            "_view_module_version": "1.5.0",
            "_view_name": "HTMLView",
            "description": "",
            "description_tooltip": null,
            "layout": "IPY_MODEL_34aba0b86b774d4d876fcd9d74a62432",
            "placeholder": "​",
            "style": "IPY_MODEL_918932cac76348cda7bc3dedb62f16a5",
            "value": " 466k/466k [00:00&lt;00:00, 908kB/s]"
          }
        },
        "42d3e90d4cca43ffb2f8b2386f7ce2d3": {
          "model_module": "@jupyter-widgets/base",
          "model_name": "LayoutModel",
          "model_module_version": "1.2.0",
          "state": {
            "_model_module": "@jupyter-widgets/base",
            "_model_module_version": "1.2.0",
            "_model_name": "LayoutModel",
            "_view_count": null,
            "_view_module": "@jupyter-widgets/base",
            "_view_module_version": "1.2.0",
            "_view_name": "LayoutView",
            "align_content": null,
            "align_items": null,
            "align_self": null,
            "border": null,
            "bottom": null,
            "display": null,
            "flex": null,
            "flex_flow": null,
            "grid_area": null,
            "grid_auto_columns": null,
            "grid_auto_flow": null,
            "grid_auto_rows": null,
            "grid_column": null,
            "grid_gap": null,
            "grid_row": null,
            "grid_template_areas": null,
            "grid_template_columns": null,
            "grid_template_rows": null,
            "height": null,
            "justify_content": null,
            "justify_items": null,
            "left": null,
            "margin": null,
            "max_height": null,
            "max_width": null,
            "min_height": null,
            "min_width": null,
            "object_fit": null,
            "object_position": null,
            "order": null,
            "overflow": null,
            "overflow_x": null,
            "overflow_y": null,
            "padding": null,
            "right": null,
            "top": null,
            "visibility": null,
            "width": null
          }
        },
        "654417e25d894814a623f60fa180c98d": {
          "model_module": "@jupyter-widgets/base",
          "model_name": "LayoutModel",
          "model_module_version": "1.2.0",
          "state": {
            "_model_module": "@jupyter-widgets/base",
            "_model_module_version": "1.2.0",
            "_model_name": "LayoutModel",
            "_view_count": null,
            "_view_module": "@jupyter-widgets/base",
            "_view_module_version": "1.2.0",
            "_view_name": "LayoutView",
            "align_content": null,
            "align_items": null,
            "align_self": null,
            "border": null,
            "bottom": null,
            "display": null,
            "flex": null,
            "flex_flow": null,
            "grid_area": null,
            "grid_auto_columns": null,
            "grid_auto_flow": null,
            "grid_auto_rows": null,
            "grid_column": null,
            "grid_gap": null,
            "grid_row": null,
            "grid_template_areas": null,
            "grid_template_columns": null,
            "grid_template_rows": null,
            "height": null,
            "justify_content": null,
            "justify_items": null,
            "left": null,
            "margin": null,
            "max_height": null,
            "max_width": null,
            "min_height": null,
            "min_width": null,
            "object_fit": null,
            "object_position": null,
            "order": null,
            "overflow": null,
            "overflow_x": null,
            "overflow_y": null,
            "padding": null,
            "right": null,
            "top": null,
            "visibility": null,
            "width": null
          }
        },
        "f4092cd7ef244a70bc601ee37102d13c": {
          "model_module": "@jupyter-widgets/controls",
          "model_name": "DescriptionStyleModel",
          "model_module_version": "1.5.0",
          "state": {
            "_model_module": "@jupyter-widgets/controls",
            "_model_module_version": "1.5.0",
            "_model_name": "DescriptionStyleModel",
            "_view_count": null,
            "_view_module": "@jupyter-widgets/base",
            "_view_module_version": "1.2.0",
            "_view_name": "StyleView",
            "description_width": ""
          }
        },
        "398eace7fb6c419aa261bdfa637d64b7": {
          "model_module": "@jupyter-widgets/base",
          "model_name": "LayoutModel",
          "model_module_version": "1.2.0",
          "state": {
            "_model_module": "@jupyter-widgets/base",
            "_model_module_version": "1.2.0",
            "_model_name": "LayoutModel",
            "_view_count": null,
            "_view_module": "@jupyter-widgets/base",
            "_view_module_version": "1.2.0",
            "_view_name": "LayoutView",
            "align_content": null,
            "align_items": null,
            "align_self": null,
            "border": null,
            "bottom": null,
            "display": null,
            "flex": null,
            "flex_flow": null,
            "grid_area": null,
            "grid_auto_columns": null,
            "grid_auto_flow": null,
            "grid_auto_rows": null,
            "grid_column": null,
            "grid_gap": null,
            "grid_row": null,
            "grid_template_areas": null,
            "grid_template_columns": null,
            "grid_template_rows": null,
            "height": null,
            "justify_content": null,
            "justify_items": null,
            "left": null,
            "margin": null,
            "max_height": null,
            "max_width": null,
            "min_height": null,
            "min_width": null,
            "object_fit": null,
            "object_position": null,
            "order": null,
            "overflow": null,
            "overflow_x": null,
            "overflow_y": null,
            "padding": null,
            "right": null,
            "top": null,
            "visibility": null,
            "width": null
          }
        },
        "aa2518dfc41247b5931496942126017e": {
          "model_module": "@jupyter-widgets/controls",
          "model_name": "ProgressStyleModel",
          "model_module_version": "1.5.0",
          "state": {
            "_model_module": "@jupyter-widgets/controls",
            "_model_module_version": "1.5.0",
            "_model_name": "ProgressStyleModel",
            "_view_count": null,
            "_view_module": "@jupyter-widgets/base",
            "_view_module_version": "1.2.0",
            "_view_name": "StyleView",
            "bar_color": null,
            "description_width": ""
          }
        },
        "34aba0b86b774d4d876fcd9d74a62432": {
          "model_module": "@jupyter-widgets/base",
          "model_name": "LayoutModel",
          "model_module_version": "1.2.0",
          "state": {
            "_model_module": "@jupyter-widgets/base",
            "_model_module_version": "1.2.0",
            "_model_name": "LayoutModel",
            "_view_count": null,
            "_view_module": "@jupyter-widgets/base",
            "_view_module_version": "1.2.0",
            "_view_name": "LayoutView",
            "align_content": null,
            "align_items": null,
            "align_self": null,
            "border": null,
            "bottom": null,
            "display": null,
            "flex": null,
            "flex_flow": null,
            "grid_area": null,
            "grid_auto_columns": null,
            "grid_auto_flow": null,
            "grid_auto_rows": null,
            "grid_column": null,
            "grid_gap": null,
            "grid_row": null,
            "grid_template_areas": null,
            "grid_template_columns": null,
            "grid_template_rows": null,
            "height": null,
            "justify_content": null,
            "justify_items": null,
            "left": null,
            "margin": null,
            "max_height": null,
            "max_width": null,
            "min_height": null,
            "min_width": null,
            "object_fit": null,
            "object_position": null,
            "order": null,
            "overflow": null,
            "overflow_x": null,
            "overflow_y": null,
            "padding": null,
            "right": null,
            "top": null,
            "visibility": null,
            "width": null
          }
        },
        "918932cac76348cda7bc3dedb62f16a5": {
          "model_module": "@jupyter-widgets/controls",
          "model_name": "DescriptionStyleModel",
          "model_module_version": "1.5.0",
          "state": {
            "_model_module": "@jupyter-widgets/controls",
            "_model_module_version": "1.5.0",
            "_model_name": "DescriptionStyleModel",
            "_view_count": null,
            "_view_module": "@jupyter-widgets/base",
            "_view_module_version": "1.2.0",
            "_view_name": "StyleView",
            "description_width": ""
          }
        },
        "b3c5e87789504cbca2bb8facd0bded8f": {
          "model_module": "@jupyter-widgets/controls",
          "model_name": "HBoxModel",
          "model_module_version": "1.5.0",
          "state": {
            "_dom_classes": [],
            "_model_module": "@jupyter-widgets/controls",
            "_model_module_version": "1.5.0",
            "_model_name": "HBoxModel",
            "_view_count": null,
            "_view_module": "@jupyter-widgets/controls",
            "_view_module_version": "1.5.0",
            "_view_name": "HBoxView",
            "box_style": "",
            "children": [
              "IPY_MODEL_398625292d3744a9a65bf3be33f024f5",
              "IPY_MODEL_f8ee49de245a4553ba14b53db6a4b46e",
              "IPY_MODEL_7520c6c2e1db4783903aaad7ae680f00"
            ],
            "layout": "IPY_MODEL_88ba1f9f14fb450b8a316e2af6b24ac3"
          }
        },
        "398625292d3744a9a65bf3be33f024f5": {
          "model_module": "@jupyter-widgets/controls",
          "model_name": "HTMLModel",
          "model_module_version": "1.5.0",
          "state": {
            "_dom_classes": [],
            "_model_module": "@jupyter-widgets/controls",
            "_model_module_version": "1.5.0",
            "_model_name": "HTMLModel",
            "_view_count": null,
            "_view_module": "@jupyter-widgets/controls",
            "_view_module_version": "1.5.0",
            "_view_name": "HTMLView",
            "description": "",
            "description_tooltip": null,
            "layout": "IPY_MODEL_7b851609b10b42a1bf744cacc8b1ca13",
            "placeholder": "​",
            "style": "IPY_MODEL_d2bd228ed04e4d4b9e15fa8fe90bb71f",
            "value": "Map: 100%"
          }
        },
        "f8ee49de245a4553ba14b53db6a4b46e": {
          "model_module": "@jupyter-widgets/controls",
          "model_name": "FloatProgressModel",
          "model_module_version": "1.5.0",
          "state": {
            "_dom_classes": [],
            "_model_module": "@jupyter-widgets/controls",
            "_model_module_version": "1.5.0",
            "_model_name": "FloatProgressModel",
            "_view_count": null,
            "_view_module": "@jupyter-widgets/controls",
            "_view_module_version": "1.5.0",
            "_view_name": "ProgressView",
            "bar_style": "success",
            "description": "",
            "description_tooltip": null,
            "layout": "IPY_MODEL_ff7fcd7fba01455fa1efeb7991bcacfd",
            "max": 1200,
            "min": 0,
            "orientation": "horizontal",
            "style": "IPY_MODEL_f976ca8f2a7a4040a86fcbb02140c6ab",
            "value": 1200
          }
        },
        "7520c6c2e1db4783903aaad7ae680f00": {
          "model_module": "@jupyter-widgets/controls",
          "model_name": "HTMLModel",
          "model_module_version": "1.5.0",
          "state": {
            "_dom_classes": [],
            "_model_module": "@jupyter-widgets/controls",
            "_model_module_version": "1.5.0",
            "_model_name": "HTMLModel",
            "_view_count": null,
            "_view_module": "@jupyter-widgets/controls",
            "_view_module_version": "1.5.0",
            "_view_name": "HTMLView",
            "description": "",
            "description_tooltip": null,
            "layout": "IPY_MODEL_928ee84611d947deafe735639c7fc509",
            "placeholder": "​",
            "style": "IPY_MODEL_34a1e2105d7049dfac55186314b37e85",
            "value": " 1200/1200 [00:00&lt;00:00, 4036.98 examples/s]"
          }
        },
        "88ba1f9f14fb450b8a316e2af6b24ac3": {
          "model_module": "@jupyter-widgets/base",
          "model_name": "LayoutModel",
          "model_module_version": "1.2.0",
          "state": {
            "_model_module": "@jupyter-widgets/base",
            "_model_module_version": "1.2.0",
            "_model_name": "LayoutModel",
            "_view_count": null,
            "_view_module": "@jupyter-widgets/base",
            "_view_module_version": "1.2.0",
            "_view_name": "LayoutView",
            "align_content": null,
            "align_items": null,
            "align_self": null,
            "border": null,
            "bottom": null,
            "display": null,
            "flex": null,
            "flex_flow": null,
            "grid_area": null,
            "grid_auto_columns": null,
            "grid_auto_flow": null,
            "grid_auto_rows": null,
            "grid_column": null,
            "grid_gap": null,
            "grid_row": null,
            "grid_template_areas": null,
            "grid_template_columns": null,
            "grid_template_rows": null,
            "height": null,
            "justify_content": null,
            "justify_items": null,
            "left": null,
            "margin": null,
            "max_height": null,
            "max_width": null,
            "min_height": null,
            "min_width": null,
            "object_fit": null,
            "object_position": null,
            "order": null,
            "overflow": null,
            "overflow_x": null,
            "overflow_y": null,
            "padding": null,
            "right": null,
            "top": null,
            "visibility": null,
            "width": null
          }
        },
        "7b851609b10b42a1bf744cacc8b1ca13": {
          "model_module": "@jupyter-widgets/base",
          "model_name": "LayoutModel",
          "model_module_version": "1.2.0",
          "state": {
            "_model_module": "@jupyter-widgets/base",
            "_model_module_version": "1.2.0",
            "_model_name": "LayoutModel",
            "_view_count": null,
            "_view_module": "@jupyter-widgets/base",
            "_view_module_version": "1.2.0",
            "_view_name": "LayoutView",
            "align_content": null,
            "align_items": null,
            "align_self": null,
            "border": null,
            "bottom": null,
            "display": null,
            "flex": null,
            "flex_flow": null,
            "grid_area": null,
            "grid_auto_columns": null,
            "grid_auto_flow": null,
            "grid_auto_rows": null,
            "grid_column": null,
            "grid_gap": null,
            "grid_row": null,
            "grid_template_areas": null,
            "grid_template_columns": null,
            "grid_template_rows": null,
            "height": null,
            "justify_content": null,
            "justify_items": null,
            "left": null,
            "margin": null,
            "max_height": null,
            "max_width": null,
            "min_height": null,
            "min_width": null,
            "object_fit": null,
            "object_position": null,
            "order": null,
            "overflow": null,
            "overflow_x": null,
            "overflow_y": null,
            "padding": null,
            "right": null,
            "top": null,
            "visibility": null,
            "width": null
          }
        },
        "d2bd228ed04e4d4b9e15fa8fe90bb71f": {
          "model_module": "@jupyter-widgets/controls",
          "model_name": "DescriptionStyleModel",
          "model_module_version": "1.5.0",
          "state": {
            "_model_module": "@jupyter-widgets/controls",
            "_model_module_version": "1.5.0",
            "_model_name": "DescriptionStyleModel",
            "_view_count": null,
            "_view_module": "@jupyter-widgets/base",
            "_view_module_version": "1.2.0",
            "_view_name": "StyleView",
            "description_width": ""
          }
        },
        "ff7fcd7fba01455fa1efeb7991bcacfd": {
          "model_module": "@jupyter-widgets/base",
          "model_name": "LayoutModel",
          "model_module_version": "1.2.0",
          "state": {
            "_model_module": "@jupyter-widgets/base",
            "_model_module_version": "1.2.0",
            "_model_name": "LayoutModel",
            "_view_count": null,
            "_view_module": "@jupyter-widgets/base",
            "_view_module_version": "1.2.0",
            "_view_name": "LayoutView",
            "align_content": null,
            "align_items": null,
            "align_self": null,
            "border": null,
            "bottom": null,
            "display": null,
            "flex": null,
            "flex_flow": null,
            "grid_area": null,
            "grid_auto_columns": null,
            "grid_auto_flow": null,
            "grid_auto_rows": null,
            "grid_column": null,
            "grid_gap": null,
            "grid_row": null,
            "grid_template_areas": null,
            "grid_template_columns": null,
            "grid_template_rows": null,
            "height": null,
            "justify_content": null,
            "justify_items": null,
            "left": null,
            "margin": null,
            "max_height": null,
            "max_width": null,
            "min_height": null,
            "min_width": null,
            "object_fit": null,
            "object_position": null,
            "order": null,
            "overflow": null,
            "overflow_x": null,
            "overflow_y": null,
            "padding": null,
            "right": null,
            "top": null,
            "visibility": null,
            "width": null
          }
        },
        "f976ca8f2a7a4040a86fcbb02140c6ab": {
          "model_module": "@jupyter-widgets/controls",
          "model_name": "ProgressStyleModel",
          "model_module_version": "1.5.0",
          "state": {
            "_model_module": "@jupyter-widgets/controls",
            "_model_module_version": "1.5.0",
            "_model_name": "ProgressStyleModel",
            "_view_count": null,
            "_view_module": "@jupyter-widgets/base",
            "_view_module_version": "1.2.0",
            "_view_name": "StyleView",
            "bar_color": null,
            "description_width": ""
          }
        },
        "928ee84611d947deafe735639c7fc509": {
          "model_module": "@jupyter-widgets/base",
          "model_name": "LayoutModel",
          "model_module_version": "1.2.0",
          "state": {
            "_model_module": "@jupyter-widgets/base",
            "_model_module_version": "1.2.0",
            "_model_name": "LayoutModel",
            "_view_count": null,
            "_view_module": "@jupyter-widgets/base",
            "_view_module_version": "1.2.0",
            "_view_name": "LayoutView",
            "align_content": null,
            "align_items": null,
            "align_self": null,
            "border": null,
            "bottom": null,
            "display": null,
            "flex": null,
            "flex_flow": null,
            "grid_area": null,
            "grid_auto_columns": null,
            "grid_auto_flow": null,
            "grid_auto_rows": null,
            "grid_column": null,
            "grid_gap": null,
            "grid_row": null,
            "grid_template_areas": null,
            "grid_template_columns": null,
            "grid_template_rows": null,
            "height": null,
            "justify_content": null,
            "justify_items": null,
            "left": null,
            "margin": null,
            "max_height": null,
            "max_width": null,
            "min_height": null,
            "min_width": null,
            "object_fit": null,
            "object_position": null,
            "order": null,
            "overflow": null,
            "overflow_x": null,
            "overflow_y": null,
            "padding": null,
            "right": null,
            "top": null,
            "visibility": null,
            "width": null
          }
        },
        "34a1e2105d7049dfac55186314b37e85": {
          "model_module": "@jupyter-widgets/controls",
          "model_name": "DescriptionStyleModel",
          "model_module_version": "1.5.0",
          "state": {
            "_model_module": "@jupyter-widgets/controls",
            "_model_module_version": "1.5.0",
            "_model_name": "DescriptionStyleModel",
            "_view_count": null,
            "_view_module": "@jupyter-widgets/base",
            "_view_module_version": "1.2.0",
            "_view_name": "StyleView",
            "description_width": ""
          }
        },
        "710f0e674c21403faccce33289b3df89": {
          "model_module": "@jupyter-widgets/controls",
          "model_name": "HBoxModel",
          "model_module_version": "1.5.0",
          "state": {
            "_dom_classes": [],
            "_model_module": "@jupyter-widgets/controls",
            "_model_module_version": "1.5.0",
            "_model_name": "HBoxModel",
            "_view_count": null,
            "_view_module": "@jupyter-widgets/controls",
            "_view_module_version": "1.5.0",
            "_view_name": "HBoxView",
            "box_style": "",
            "children": [
              "IPY_MODEL_c0bd548bded040eb9e97b299fe9cea78",
              "IPY_MODEL_1aeb8032a9af4855b262d1e644d3fe16",
              "IPY_MODEL_f6dd2c51c734423fbfad35dba605aef0"
            ],
            "layout": "IPY_MODEL_2a6d5c4983b644149d5a97e7044853d6"
          }
        },
        "c0bd548bded040eb9e97b299fe9cea78": {
          "model_module": "@jupyter-widgets/controls",
          "model_name": "HTMLModel",
          "model_module_version": "1.5.0",
          "state": {
            "_dom_classes": [],
            "_model_module": "@jupyter-widgets/controls",
            "_model_module_version": "1.5.0",
            "_model_name": "HTMLModel",
            "_view_count": null,
            "_view_module": "@jupyter-widgets/controls",
            "_view_module_version": "1.5.0",
            "_view_name": "HTMLView",
            "description": "",
            "description_tooltip": null,
            "layout": "IPY_MODEL_6683347ce2454e8a8119e2ffd7f4650c",
            "placeholder": "​",
            "style": "IPY_MODEL_90b74853e3624d26975cfc726219ef1e",
            "value": "Map: 100%"
          }
        },
        "1aeb8032a9af4855b262d1e644d3fe16": {
          "model_module": "@jupyter-widgets/controls",
          "model_name": "FloatProgressModel",
          "model_module_version": "1.5.0",
          "state": {
            "_dom_classes": [],
            "_model_module": "@jupyter-widgets/controls",
            "_model_module_version": "1.5.0",
            "_model_name": "FloatProgressModel",
            "_view_count": null,
            "_view_module": "@jupyter-widgets/controls",
            "_view_module_version": "1.5.0",
            "_view_name": "ProgressView",
            "bar_style": "success",
            "description": "",
            "description_tooltip": null,
            "layout": "IPY_MODEL_6dd217e170dc40879d5dd5ec4863f752",
            "max": 300,
            "min": 0,
            "orientation": "horizontal",
            "style": "IPY_MODEL_017ddfb0e82d4c6d86b5fb9e7312bfb8",
            "value": 300
          }
        },
        "f6dd2c51c734423fbfad35dba605aef0": {
          "model_module": "@jupyter-widgets/controls",
          "model_name": "HTMLModel",
          "model_module_version": "1.5.0",
          "state": {
            "_dom_classes": [],
            "_model_module": "@jupyter-widgets/controls",
            "_model_module_version": "1.5.0",
            "_model_name": "HTMLModel",
            "_view_count": null,
            "_view_module": "@jupyter-widgets/controls",
            "_view_module_version": "1.5.0",
            "_view_name": "HTMLView",
            "description": "",
            "description_tooltip": null,
            "layout": "IPY_MODEL_16a2c5cc4a464904b22e378dee566ae8",
            "placeholder": "​",
            "style": "IPY_MODEL_f645f7b751564f55b9260202afc7d953",
            "value": " 300/300 [00:00&lt;00:00, 3836.63 examples/s]"
          }
        },
        "2a6d5c4983b644149d5a97e7044853d6": {
          "model_module": "@jupyter-widgets/base",
          "model_name": "LayoutModel",
          "model_module_version": "1.2.0",
          "state": {
            "_model_module": "@jupyter-widgets/base",
            "_model_module_version": "1.2.0",
            "_model_name": "LayoutModel",
            "_view_count": null,
            "_view_module": "@jupyter-widgets/base",
            "_view_module_version": "1.2.0",
            "_view_name": "LayoutView",
            "align_content": null,
            "align_items": null,
            "align_self": null,
            "border": null,
            "bottom": null,
            "display": null,
            "flex": null,
            "flex_flow": null,
            "grid_area": null,
            "grid_auto_columns": null,
            "grid_auto_flow": null,
            "grid_auto_rows": null,
            "grid_column": null,
            "grid_gap": null,
            "grid_row": null,
            "grid_template_areas": null,
            "grid_template_columns": null,
            "grid_template_rows": null,
            "height": null,
            "justify_content": null,
            "justify_items": null,
            "left": null,
            "margin": null,
            "max_height": null,
            "max_width": null,
            "min_height": null,
            "min_width": null,
            "object_fit": null,
            "object_position": null,
            "order": null,
            "overflow": null,
            "overflow_x": null,
            "overflow_y": null,
            "padding": null,
            "right": null,
            "top": null,
            "visibility": null,
            "width": null
          }
        },
        "6683347ce2454e8a8119e2ffd7f4650c": {
          "model_module": "@jupyter-widgets/base",
          "model_name": "LayoutModel",
          "model_module_version": "1.2.0",
          "state": {
            "_model_module": "@jupyter-widgets/base",
            "_model_module_version": "1.2.0",
            "_model_name": "LayoutModel",
            "_view_count": null,
            "_view_module": "@jupyter-widgets/base",
            "_view_module_version": "1.2.0",
            "_view_name": "LayoutView",
            "align_content": null,
            "align_items": null,
            "align_self": null,
            "border": null,
            "bottom": null,
            "display": null,
            "flex": null,
            "flex_flow": null,
            "grid_area": null,
            "grid_auto_columns": null,
            "grid_auto_flow": null,
            "grid_auto_rows": null,
            "grid_column": null,
            "grid_gap": null,
            "grid_row": null,
            "grid_template_areas": null,
            "grid_template_columns": null,
            "grid_template_rows": null,
            "height": null,
            "justify_content": null,
            "justify_items": null,
            "left": null,
            "margin": null,
            "max_height": null,
            "max_width": null,
            "min_height": null,
            "min_width": null,
            "object_fit": null,
            "object_position": null,
            "order": null,
            "overflow": null,
            "overflow_x": null,
            "overflow_y": null,
            "padding": null,
            "right": null,
            "top": null,
            "visibility": null,
            "width": null
          }
        },
        "90b74853e3624d26975cfc726219ef1e": {
          "model_module": "@jupyter-widgets/controls",
          "model_name": "DescriptionStyleModel",
          "model_module_version": "1.5.0",
          "state": {
            "_model_module": "@jupyter-widgets/controls",
            "_model_module_version": "1.5.0",
            "_model_name": "DescriptionStyleModel",
            "_view_count": null,
            "_view_module": "@jupyter-widgets/base",
            "_view_module_version": "1.2.0",
            "_view_name": "StyleView",
            "description_width": ""
          }
        },
        "6dd217e170dc40879d5dd5ec4863f752": {
          "model_module": "@jupyter-widgets/base",
          "model_name": "LayoutModel",
          "model_module_version": "1.2.0",
          "state": {
            "_model_module": "@jupyter-widgets/base",
            "_model_module_version": "1.2.0",
            "_model_name": "LayoutModel",
            "_view_count": null,
            "_view_module": "@jupyter-widgets/base",
            "_view_module_version": "1.2.0",
            "_view_name": "LayoutView",
            "align_content": null,
            "align_items": null,
            "align_self": null,
            "border": null,
            "bottom": null,
            "display": null,
            "flex": null,
            "flex_flow": null,
            "grid_area": null,
            "grid_auto_columns": null,
            "grid_auto_flow": null,
            "grid_auto_rows": null,
            "grid_column": null,
            "grid_gap": null,
            "grid_row": null,
            "grid_template_areas": null,
            "grid_template_columns": null,
            "grid_template_rows": null,
            "height": null,
            "justify_content": null,
            "justify_items": null,
            "left": null,
            "margin": null,
            "max_height": null,
            "max_width": null,
            "min_height": null,
            "min_width": null,
            "object_fit": null,
            "object_position": null,
            "order": null,
            "overflow": null,
            "overflow_x": null,
            "overflow_y": null,
            "padding": null,
            "right": null,
            "top": null,
            "visibility": null,
            "width": null
          }
        },
        "017ddfb0e82d4c6d86b5fb9e7312bfb8": {
          "model_module": "@jupyter-widgets/controls",
          "model_name": "ProgressStyleModel",
          "model_module_version": "1.5.0",
          "state": {
            "_model_module": "@jupyter-widgets/controls",
            "_model_module_version": "1.5.0",
            "_model_name": "ProgressStyleModel",
            "_view_count": null,
            "_view_module": "@jupyter-widgets/base",
            "_view_module_version": "1.2.0",
            "_view_name": "StyleView",
            "bar_color": null,
            "description_width": ""
          }
        },
        "16a2c5cc4a464904b22e378dee566ae8": {
          "model_module": "@jupyter-widgets/base",
          "model_name": "LayoutModel",
          "model_module_version": "1.2.0",
          "state": {
            "_model_module": "@jupyter-widgets/base",
            "_model_module_version": "1.2.0",
            "_model_name": "LayoutModel",
            "_view_count": null,
            "_view_module": "@jupyter-widgets/base",
            "_view_module_version": "1.2.0",
            "_view_name": "LayoutView",
            "align_content": null,
            "align_items": null,
            "align_self": null,
            "border": null,
            "bottom": null,
            "display": null,
            "flex": null,
            "flex_flow": null,
            "grid_area": null,
            "grid_auto_columns": null,
            "grid_auto_flow": null,
            "grid_auto_rows": null,
            "grid_column": null,
            "grid_gap": null,
            "grid_row": null,
            "grid_template_areas": null,
            "grid_template_columns": null,
            "grid_template_rows": null,
            "height": null,
            "justify_content": null,
            "justify_items": null,
            "left": null,
            "margin": null,
            "max_height": null,
            "max_width": null,
            "min_height": null,
            "min_width": null,
            "object_fit": null,
            "object_position": null,
            "order": null,
            "overflow": null,
            "overflow_x": null,
            "overflow_y": null,
            "padding": null,
            "right": null,
            "top": null,
            "visibility": null,
            "width": null
          }
        },
        "f645f7b751564f55b9260202afc7d953": {
          "model_module": "@jupyter-widgets/controls",
          "model_name": "DescriptionStyleModel",
          "model_module_version": "1.5.0",
          "state": {
            "_model_module": "@jupyter-widgets/controls",
            "_model_module_version": "1.5.0",
            "_model_name": "DescriptionStyleModel",
            "_view_count": null,
            "_view_module": "@jupyter-widgets/base",
            "_view_module_version": "1.2.0",
            "_view_name": "StyleView",
            "description_width": ""
          }
        },
        "3e34b99c19074bad8e25a2bdf5834c9a": {
          "model_module": "@jupyter-widgets/controls",
          "model_name": "HBoxModel",
          "model_module_version": "1.5.0",
          "state": {
            "_dom_classes": [],
            "_model_module": "@jupyter-widgets/controls",
            "_model_module_version": "1.5.0",
            "_model_name": "HBoxModel",
            "_view_count": null,
            "_view_module": "@jupyter-widgets/controls",
            "_view_module_version": "1.5.0",
            "_view_name": "HBoxView",
            "box_style": "",
            "children": [
              "IPY_MODEL_ab3966eb679b496e9aff7f51cbf54efe",
              "IPY_MODEL_baf958d0653c49c390fcf97bac8e1b25",
              "IPY_MODEL_c8f8f6db943d415a985b3a331b452b3f"
            ],
            "layout": "IPY_MODEL_68b53b127bfc485db7b9b544294e8694"
          }
        },
        "ab3966eb679b496e9aff7f51cbf54efe": {
          "model_module": "@jupyter-widgets/controls",
          "model_name": "HTMLModel",
          "model_module_version": "1.5.0",
          "state": {
            "_dom_classes": [],
            "_model_module": "@jupyter-widgets/controls",
            "_model_module_version": "1.5.0",
            "_model_name": "HTMLModel",
            "_view_count": null,
            "_view_module": "@jupyter-widgets/controls",
            "_view_module_version": "1.5.0",
            "_view_name": "HTMLView",
            "description": "",
            "description_tooltip": null,
            "layout": "IPY_MODEL_a4065f36a44c492eaa0f1ccff1bf7742",
            "placeholder": "​",
            "style": "IPY_MODEL_7b933068d802442b8d96a7a3da5ea05b",
            "value": "Map: 100%"
          }
        },
        "baf958d0653c49c390fcf97bac8e1b25": {
          "model_module": "@jupyter-widgets/controls",
          "model_name": "FloatProgressModel",
          "model_module_version": "1.5.0",
          "state": {
            "_dom_classes": [],
            "_model_module": "@jupyter-widgets/controls",
            "_model_module_version": "1.5.0",
            "_model_name": "FloatProgressModel",
            "_view_count": null,
            "_view_module": "@jupyter-widgets/controls",
            "_view_module_version": "1.5.0",
            "_view_name": "ProgressView",
            "bar_style": "success",
            "description": "",
            "description_tooltip": null,
            "layout": "IPY_MODEL_2dfa565ed526456385f6105037ed036d",
            "max": 500,
            "min": 0,
            "orientation": "horizontal",
            "style": "IPY_MODEL_ea2b123a86a942f0ae09926d838860de",
            "value": 500
          }
        },
        "c8f8f6db943d415a985b3a331b452b3f": {
          "model_module": "@jupyter-widgets/controls",
          "model_name": "HTMLModel",
          "model_module_version": "1.5.0",
          "state": {
            "_dom_classes": [],
            "_model_module": "@jupyter-widgets/controls",
            "_model_module_version": "1.5.0",
            "_model_name": "HTMLModel",
            "_view_count": null,
            "_view_module": "@jupyter-widgets/controls",
            "_view_module_version": "1.5.0",
            "_view_name": "HTMLView",
            "description": "",
            "description_tooltip": null,
            "layout": "IPY_MODEL_5bb8e23ef9494f1fb7846992acd0ed93",
            "placeholder": "​",
            "style": "IPY_MODEL_c2ba8c36e1b14443901f99fecbf6779c",
            "value": " 500/500 [00:00&lt;00:00, 4276.92 examples/s]"
          }
        },
        "68b53b127bfc485db7b9b544294e8694": {
          "model_module": "@jupyter-widgets/base",
          "model_name": "LayoutModel",
          "model_module_version": "1.2.0",
          "state": {
            "_model_module": "@jupyter-widgets/base",
            "_model_module_version": "1.2.0",
            "_model_name": "LayoutModel",
            "_view_count": null,
            "_view_module": "@jupyter-widgets/base",
            "_view_module_version": "1.2.0",
            "_view_name": "LayoutView",
            "align_content": null,
            "align_items": null,
            "align_self": null,
            "border": null,
            "bottom": null,
            "display": null,
            "flex": null,
            "flex_flow": null,
            "grid_area": null,
            "grid_auto_columns": null,
            "grid_auto_flow": null,
            "grid_auto_rows": null,
            "grid_column": null,
            "grid_gap": null,
            "grid_row": null,
            "grid_template_areas": null,
            "grid_template_columns": null,
            "grid_template_rows": null,
            "height": null,
            "justify_content": null,
            "justify_items": null,
            "left": null,
            "margin": null,
            "max_height": null,
            "max_width": null,
            "min_height": null,
            "min_width": null,
            "object_fit": null,
            "object_position": null,
            "order": null,
            "overflow": null,
            "overflow_x": null,
            "overflow_y": null,
            "padding": null,
            "right": null,
            "top": null,
            "visibility": null,
            "width": null
          }
        },
        "a4065f36a44c492eaa0f1ccff1bf7742": {
          "model_module": "@jupyter-widgets/base",
          "model_name": "LayoutModel",
          "model_module_version": "1.2.0",
          "state": {
            "_model_module": "@jupyter-widgets/base",
            "_model_module_version": "1.2.0",
            "_model_name": "LayoutModel",
            "_view_count": null,
            "_view_module": "@jupyter-widgets/base",
            "_view_module_version": "1.2.0",
            "_view_name": "LayoutView",
            "align_content": null,
            "align_items": null,
            "align_self": null,
            "border": null,
            "bottom": null,
            "display": null,
            "flex": null,
            "flex_flow": null,
            "grid_area": null,
            "grid_auto_columns": null,
            "grid_auto_flow": null,
            "grid_auto_rows": null,
            "grid_column": null,
            "grid_gap": null,
            "grid_row": null,
            "grid_template_areas": null,
            "grid_template_columns": null,
            "grid_template_rows": null,
            "height": null,
            "justify_content": null,
            "justify_items": null,
            "left": null,
            "margin": null,
            "max_height": null,
            "max_width": null,
            "min_height": null,
            "min_width": null,
            "object_fit": null,
            "object_position": null,
            "order": null,
            "overflow": null,
            "overflow_x": null,
            "overflow_y": null,
            "padding": null,
            "right": null,
            "top": null,
            "visibility": null,
            "width": null
          }
        },
        "7b933068d802442b8d96a7a3da5ea05b": {
          "model_module": "@jupyter-widgets/controls",
          "model_name": "DescriptionStyleModel",
          "model_module_version": "1.5.0",
          "state": {
            "_model_module": "@jupyter-widgets/controls",
            "_model_module_version": "1.5.0",
            "_model_name": "DescriptionStyleModel",
            "_view_count": null,
            "_view_module": "@jupyter-widgets/base",
            "_view_module_version": "1.2.0",
            "_view_name": "StyleView",
            "description_width": ""
          }
        },
        "2dfa565ed526456385f6105037ed036d": {
          "model_module": "@jupyter-widgets/base",
          "model_name": "LayoutModel",
          "model_module_version": "1.2.0",
          "state": {
            "_model_module": "@jupyter-widgets/base",
            "_model_module_version": "1.2.0",
            "_model_name": "LayoutModel",
            "_view_count": null,
            "_view_module": "@jupyter-widgets/base",
            "_view_module_version": "1.2.0",
            "_view_name": "LayoutView",
            "align_content": null,
            "align_items": null,
            "align_self": null,
            "border": null,
            "bottom": null,
            "display": null,
            "flex": null,
            "flex_flow": null,
            "grid_area": null,
            "grid_auto_columns": null,
            "grid_auto_flow": null,
            "grid_auto_rows": null,
            "grid_column": null,
            "grid_gap": null,
            "grid_row": null,
            "grid_template_areas": null,
            "grid_template_columns": null,
            "grid_template_rows": null,
            "height": null,
            "justify_content": null,
            "justify_items": null,
            "left": null,
            "margin": null,
            "max_height": null,
            "max_width": null,
            "min_height": null,
            "min_width": null,
            "object_fit": null,
            "object_position": null,
            "order": null,
            "overflow": null,
            "overflow_x": null,
            "overflow_y": null,
            "padding": null,
            "right": null,
            "top": null,
            "visibility": null,
            "width": null
          }
        },
        "ea2b123a86a942f0ae09926d838860de": {
          "model_module": "@jupyter-widgets/controls",
          "model_name": "ProgressStyleModel",
          "model_module_version": "1.5.0",
          "state": {
            "_model_module": "@jupyter-widgets/controls",
            "_model_module_version": "1.5.0",
            "_model_name": "ProgressStyleModel",
            "_view_count": null,
            "_view_module": "@jupyter-widgets/base",
            "_view_module_version": "1.2.0",
            "_view_name": "StyleView",
            "bar_color": null,
            "description_width": ""
          }
        },
        "5bb8e23ef9494f1fb7846992acd0ed93": {
          "model_module": "@jupyter-widgets/base",
          "model_name": "LayoutModel",
          "model_module_version": "1.2.0",
          "state": {
            "_model_module": "@jupyter-widgets/base",
            "_model_module_version": "1.2.0",
            "_model_name": "LayoutModel",
            "_view_count": null,
            "_view_module": "@jupyter-widgets/base",
            "_view_module_version": "1.2.0",
            "_view_name": "LayoutView",
            "align_content": null,
            "align_items": null,
            "align_self": null,
            "border": null,
            "bottom": null,
            "display": null,
            "flex": null,
            "flex_flow": null,
            "grid_area": null,
            "grid_auto_columns": null,
            "grid_auto_flow": null,
            "grid_auto_rows": null,
            "grid_column": null,
            "grid_gap": null,
            "grid_row": null,
            "grid_template_areas": null,
            "grid_template_columns": null,
            "grid_template_rows": null,
            "height": null,
            "justify_content": null,
            "justify_items": null,
            "left": null,
            "margin": null,
            "max_height": null,
            "max_width": null,
            "min_height": null,
            "min_width": null,
            "object_fit": null,
            "object_position": null,
            "order": null,
            "overflow": null,
            "overflow_x": null,
            "overflow_y": null,
            "padding": null,
            "right": null,
            "top": null,
            "visibility": null,
            "width": null
          }
        },
        "c2ba8c36e1b14443901f99fecbf6779c": {
          "model_module": "@jupyter-widgets/controls",
          "model_name": "DescriptionStyleModel",
          "model_module_version": "1.5.0",
          "state": {
            "_model_module": "@jupyter-widgets/controls",
            "_model_module_version": "1.5.0",
            "_model_name": "DescriptionStyleModel",
            "_view_count": null,
            "_view_module": "@jupyter-widgets/base",
            "_view_module_version": "1.2.0",
            "_view_name": "StyleView",
            "description_width": ""
          }
        },
        "d65cac27d03445f794e890c4bb381a90": {
          "model_module": "@jupyter-widgets/controls",
          "model_name": "HBoxModel",
          "model_module_version": "1.5.0",
          "state": {
            "_dom_classes": [],
            "_model_module": "@jupyter-widgets/controls",
            "_model_module_version": "1.5.0",
            "_model_name": "HBoxModel",
            "_view_count": null,
            "_view_module": "@jupyter-widgets/controls",
            "_view_module_version": "1.5.0",
            "_view_name": "HBoxView",
            "box_style": "",
            "children": [
              "IPY_MODEL_199d6f808f924736ade89d10f0ab1f4f",
              "IPY_MODEL_eb11da85d3b84456ad0b2c5ff67a08d2",
              "IPY_MODEL_b341f084124040929c65504d1eb9dccc"
            ],
            "layout": "IPY_MODEL_7aa622de1ad747dd8225f999bf2b604d"
          }
        },
        "199d6f808f924736ade89d10f0ab1f4f": {
          "model_module": "@jupyter-widgets/controls",
          "model_name": "HTMLModel",
          "model_module_version": "1.5.0",
          "state": {
            "_dom_classes": [],
            "_model_module": "@jupyter-widgets/controls",
            "_model_module_version": "1.5.0",
            "_model_name": "HTMLModel",
            "_view_count": null,
            "_view_module": "@jupyter-widgets/controls",
            "_view_module_version": "1.5.0",
            "_view_name": "HTMLView",
            "description": "",
            "description_tooltip": null,
            "layout": "IPY_MODEL_702f85917b7842089364f01887ff1db9",
            "placeholder": "​",
            "style": "IPY_MODEL_66e6b8c9bdeb49858ee33823b7824c08",
            "value": "model.safetensors: 100%"
          }
        },
        "eb11da85d3b84456ad0b2c5ff67a08d2": {
          "model_module": "@jupyter-widgets/controls",
          "model_name": "FloatProgressModel",
          "model_module_version": "1.5.0",
          "state": {
            "_dom_classes": [],
            "_model_module": "@jupyter-widgets/controls",
            "_model_module_version": "1.5.0",
            "_model_name": "FloatProgressModel",
            "_view_count": null,
            "_view_module": "@jupyter-widgets/controls",
            "_view_module_version": "1.5.0",
            "_view_name": "ProgressView",
            "bar_style": "success",
            "description": "",
            "description_tooltip": null,
            "layout": "IPY_MODEL_6f536404dd5d4c0fab2c2f981a0481c0",
            "max": 267954768,
            "min": 0,
            "orientation": "horizontal",
            "style": "IPY_MODEL_5dc865d8c6de4362ab0ca587ac96aec8",
            "value": 267954768
          }
        },
        "b341f084124040929c65504d1eb9dccc": {
          "model_module": "@jupyter-widgets/controls",
          "model_name": "HTMLModel",
          "model_module_version": "1.5.0",
          "state": {
            "_dom_classes": [],
            "_model_module": "@jupyter-widgets/controls",
            "_model_module_version": "1.5.0",
            "_model_name": "HTMLModel",
            "_view_count": null,
            "_view_module": "@jupyter-widgets/controls",
            "_view_module_version": "1.5.0",
            "_view_name": "HTMLView",
            "description": "",
            "description_tooltip": null,
            "layout": "IPY_MODEL_a4c45c01e4864dcfb099300de8fd4fae",
            "placeholder": "​",
            "style": "IPY_MODEL_bfc1450daa9341e996ba0c582f1730d2",
            "value": " 268M/268M [00:00&lt;00:00, 388MB/s]"
          }
        },
        "7aa622de1ad747dd8225f999bf2b604d": {
          "model_module": "@jupyter-widgets/base",
          "model_name": "LayoutModel",
          "model_module_version": "1.2.0",
          "state": {
            "_model_module": "@jupyter-widgets/base",
            "_model_module_version": "1.2.0",
            "_model_name": "LayoutModel",
            "_view_count": null,
            "_view_module": "@jupyter-widgets/base",
            "_view_module_version": "1.2.0",
            "_view_name": "LayoutView",
            "align_content": null,
            "align_items": null,
            "align_self": null,
            "border": null,
            "bottom": null,
            "display": null,
            "flex": null,
            "flex_flow": null,
            "grid_area": null,
            "grid_auto_columns": null,
            "grid_auto_flow": null,
            "grid_auto_rows": null,
            "grid_column": null,
            "grid_gap": null,
            "grid_row": null,
            "grid_template_areas": null,
            "grid_template_columns": null,
            "grid_template_rows": null,
            "height": null,
            "justify_content": null,
            "justify_items": null,
            "left": null,
            "margin": null,
            "max_height": null,
            "max_width": null,
            "min_height": null,
            "min_width": null,
            "object_fit": null,
            "object_position": null,
            "order": null,
            "overflow": null,
            "overflow_x": null,
            "overflow_y": null,
            "padding": null,
            "right": null,
            "top": null,
            "visibility": null,
            "width": null
          }
        },
        "702f85917b7842089364f01887ff1db9": {
          "model_module": "@jupyter-widgets/base",
          "model_name": "LayoutModel",
          "model_module_version": "1.2.0",
          "state": {
            "_model_module": "@jupyter-widgets/base",
            "_model_module_version": "1.2.0",
            "_model_name": "LayoutModel",
            "_view_count": null,
            "_view_module": "@jupyter-widgets/base",
            "_view_module_version": "1.2.0",
            "_view_name": "LayoutView",
            "align_content": null,
            "align_items": null,
            "align_self": null,
            "border": null,
            "bottom": null,
            "display": null,
            "flex": null,
            "flex_flow": null,
            "grid_area": null,
            "grid_auto_columns": null,
            "grid_auto_flow": null,
            "grid_auto_rows": null,
            "grid_column": null,
            "grid_gap": null,
            "grid_row": null,
            "grid_template_areas": null,
            "grid_template_columns": null,
            "grid_template_rows": null,
            "height": null,
            "justify_content": null,
            "justify_items": null,
            "left": null,
            "margin": null,
            "max_height": null,
            "max_width": null,
            "min_height": null,
            "min_width": null,
            "object_fit": null,
            "object_position": null,
            "order": null,
            "overflow": null,
            "overflow_x": null,
            "overflow_y": null,
            "padding": null,
            "right": null,
            "top": null,
            "visibility": null,
            "width": null
          }
        },
        "66e6b8c9bdeb49858ee33823b7824c08": {
          "model_module": "@jupyter-widgets/controls",
          "model_name": "DescriptionStyleModel",
          "model_module_version": "1.5.0",
          "state": {
            "_model_module": "@jupyter-widgets/controls",
            "_model_module_version": "1.5.0",
            "_model_name": "DescriptionStyleModel",
            "_view_count": null,
            "_view_module": "@jupyter-widgets/base",
            "_view_module_version": "1.2.0",
            "_view_name": "StyleView",
            "description_width": ""
          }
        },
        "6f536404dd5d4c0fab2c2f981a0481c0": {
          "model_module": "@jupyter-widgets/base",
          "model_name": "LayoutModel",
          "model_module_version": "1.2.0",
          "state": {
            "_model_module": "@jupyter-widgets/base",
            "_model_module_version": "1.2.0",
            "_model_name": "LayoutModel",
            "_view_count": null,
            "_view_module": "@jupyter-widgets/base",
            "_view_module_version": "1.2.0",
            "_view_name": "LayoutView",
            "align_content": null,
            "align_items": null,
            "align_self": null,
            "border": null,
            "bottom": null,
            "display": null,
            "flex": null,
            "flex_flow": null,
            "grid_area": null,
            "grid_auto_columns": null,
            "grid_auto_flow": null,
            "grid_auto_rows": null,
            "grid_column": null,
            "grid_gap": null,
            "grid_row": null,
            "grid_template_areas": null,
            "grid_template_columns": null,
            "grid_template_rows": null,
            "height": null,
            "justify_content": null,
            "justify_items": null,
            "left": null,
            "margin": null,
            "max_height": null,
            "max_width": null,
            "min_height": null,
            "min_width": null,
            "object_fit": null,
            "object_position": null,
            "order": null,
            "overflow": null,
            "overflow_x": null,
            "overflow_y": null,
            "padding": null,
            "right": null,
            "top": null,
            "visibility": null,
            "width": null
          }
        },
        "5dc865d8c6de4362ab0ca587ac96aec8": {
          "model_module": "@jupyter-widgets/controls",
          "model_name": "ProgressStyleModel",
          "model_module_version": "1.5.0",
          "state": {
            "_model_module": "@jupyter-widgets/controls",
            "_model_module_version": "1.5.0",
            "_model_name": "ProgressStyleModel",
            "_view_count": null,
            "_view_module": "@jupyter-widgets/base",
            "_view_module_version": "1.2.0",
            "_view_name": "StyleView",
            "bar_color": null,
            "description_width": ""
          }
        },
        "a4c45c01e4864dcfb099300de8fd4fae": {
          "model_module": "@jupyter-widgets/base",
          "model_name": "LayoutModel",
          "model_module_version": "1.2.0",
          "state": {
            "_model_module": "@jupyter-widgets/base",
            "_model_module_version": "1.2.0",
            "_model_name": "LayoutModel",
            "_view_count": null,
            "_view_module": "@jupyter-widgets/base",
            "_view_module_version": "1.2.0",
            "_view_name": "LayoutView",
            "align_content": null,
            "align_items": null,
            "align_self": null,
            "border": null,
            "bottom": null,
            "display": null,
            "flex": null,
            "flex_flow": null,
            "grid_area": null,
            "grid_auto_columns": null,
            "grid_auto_flow": null,
            "grid_auto_rows": null,
            "grid_column": null,
            "grid_gap": null,
            "grid_row": null,
            "grid_template_areas": null,
            "grid_template_columns": null,
            "grid_template_rows": null,
            "height": null,
            "justify_content": null,
            "justify_items": null,
            "left": null,
            "margin": null,
            "max_height": null,
            "max_width": null,
            "min_height": null,
            "min_width": null,
            "object_fit": null,
            "object_position": null,
            "order": null,
            "overflow": null,
            "overflow_x": null,
            "overflow_y": null,
            "padding": null,
            "right": null,
            "top": null,
            "visibility": null,
            "width": null
          }
        },
        "bfc1450daa9341e996ba0c582f1730d2": {
          "model_module": "@jupyter-widgets/controls",
          "model_name": "DescriptionStyleModel",
          "model_module_version": "1.5.0",
          "state": {
            "_model_module": "@jupyter-widgets/controls",
            "_model_module_version": "1.5.0",
            "_model_name": "DescriptionStyleModel",
            "_view_count": null,
            "_view_module": "@jupyter-widgets/base",
            "_view_module_version": "1.2.0",
            "_view_name": "StyleView",
            "description_width": ""
          }
        }
      }
    }
  },
  "nbformat": 4,
  "nbformat_minor": 0
}